{
 "cells": [
  {
   "cell_type": "markdown",
   "id": "947ffab4-985e-4e3e-b260-1fdc0b851fa7",
   "metadata": {
    "tags": []
   },
   "source": [
    "# **MD**$\\chi$ - Hypertune\n",
    "\n",
    "Trading with triple-barrier approach."
   ]
  },
  {
   "cell_type": "code",
   "execution_count": 2,
   "id": "e6a1b929-1022-4085-ac08-49a73d54d3b0",
   "metadata": {
    "tags": []
   },
   "outputs": [
    {
     "name": "stderr",
     "output_type": "stream",
     "text": [
      "2024-02-17 15:09:50.899273: I external/local_tsl/tsl/cuda/cudart_stub.cc:31] Could not find cuda drivers on your machine, GPU will not be used.\n",
      "2024-02-17 15:09:51.696193: E external/local_xla/xla/stream_executor/cuda/cuda_dnn.cc:9261] Unable to register cuDNN factory: Attempting to register factory for plugin cuDNN when one has already been registered\n",
      "2024-02-17 15:09:51.696317: E external/local_xla/xla/stream_executor/cuda/cuda_fft.cc:607] Unable to register cuFFT factory: Attempting to register factory for plugin cuFFT when one has already been registered\n",
      "2024-02-17 15:09:51.861612: E external/local_xla/xla/stream_executor/cuda/cuda_blas.cc:1515] Unable to register cuBLAS factory: Attempting to register factory for plugin cuBLAS when one has already been registered\n",
      "2024-02-17 15:09:52.209554: I external/local_tsl/tsl/cuda/cudart_stub.cc:31] Could not find cuda drivers on your machine, GPU will not be used.\n",
      "2024-02-17 15:09:52.213814: I tensorflow/core/platform/cpu_feature_guard.cc:182] This TensorFlow binary is optimized to use available CPU instructions in performance-critical operations.\n",
      "To enable the following instructions: AVX2 FMA, in other operations, rebuild TensorFlow with the appropriate compiler flags.\n"
     ]
    }
   ],
   "source": [
    "from src.trading_data import get_data\n",
    "from src.triple_barrier import triple_barrier_labels\n",
    "from src.temporian_prep import temporian_eventset\n",
    "from src.train_model import train\n",
    "from src.prediction import create_predictions\n",
    "from src.trader import execute_strategy\n",
    "\n",
    "from datetime import datetime\n",
    "import pandas as pd"
   ]
  },
  {
   "cell_type": "code",
   "execution_count": 3,
   "id": "09fbf641-c11d-4d6f-ba65-9559e6adc882",
   "metadata": {
    "tags": []
   },
   "outputs": [],
   "source": [
    "def mdx(\n",
    "    df: pd.DataFrame,\n",
    "    barrier_length: int,\n",
    "    barrier_std: float,\n",
    "    days_lookback: int,\n",
    "    split_date: str,\n",
    "    model_summary: str,\n",
    "    verbose: int,\n",
    "    lower_prob: float,\n",
    "    upper_prob: float\n",
    "):\n",
    "        \n",
    "    # Calculate triple barrier\n",
    "    labels = triple_barrier_labels(\n",
    "        df=df['close'],\n",
    "        t=barrier_length,\n",
    "        devs=barrier_std\n",
    "    )\n",
    "    \n",
    "    # Join tbl with df\n",
    "    df = df.join(labels)\n",
    "    df.dropna(inplace=True)\n",
    "    \n",
    "    # One hot encode labels\n",
    "    one_hot_encoded = pd.get_dummies(df['Label'], prefix='label')\n",
    "\n",
    "    # Concatenate the one-hot encoded columns to the original DataFrame\n",
    "    df = pd.concat([df, one_hot_encoded], axis=1)\n",
    "    del df['Label']\n",
    "    \n",
    "    (feature_names, label_names,\n",
    "     test_dataset,\n",
    "     train_dataset,\n",
    "     tf_test_dataset,\n",
    "     tf_train_dataset) = temporian_eventset(\n",
    "        df=df,\n",
    "        days_lookback=days_lookback,\n",
    "        split_date=split_date\n",
    "    )\n",
    "    # Train model\n",
    "    model = train(\n",
    "        train_dataset=tf_train_dataset,\n",
    "        label_names=label_names,\n",
    "        model_summary=model_summary,\n",
    "        verbose=verbose\n",
    "    )\n",
    "    \n",
    "    # Create predictions\n",
    "    result_df = create_predictions(\n",
    "        tf_test_dataset=tf_test_dataset,\n",
    "        model=model,\n",
    "        pandas_test_dataset=test_dataset\n",
    "    )\n",
    "    \n",
    "    # Execute trading\n",
    "    overall_profit, n_trades = execute_strategy(\n",
    "        data=result_df,\n",
    "        lower_prob=lower_prob,\n",
    "        upper_prob=upper_prob\n",
    "    )\n",
    "    \n",
    "    return overall_profit, n_trades"
   ]
  },
  {
   "cell_type": "code",
   "execution_count": null,
   "id": "dc745190-8109-49d1-bc14-f13e0a07a482",
   "metadata": {
    "tags": []
   },
   "outputs": [
    {
     "name": "stderr",
     "output_type": "stream",
     "text": [
      "WARNING:root:Feature \"ticker\" is an array of numpy.object_ and will be casted to numpy.string_ (Note: numpy.string_ is equivalent to numpy.bytes_).\n",
      "[INFO 24-02-17 15:10:38.7780 UTC kernel.cc:1233] Loading model from path /var/tmp/tmpni_5b0it/model/ with prefix 4f725862cc16467c_0\n",
      "[INFO 24-02-17 15:10:38.7843 UTC quick_scorer_extended.cc:903] The binary was compiled without AVX2 support, but your CPU supports it. Enable it for faster model inference.\n",
      "[INFO 24-02-17 15:10:38.7848 UTC abstract_model.cc:1344] Engine \"GradientBoostedTreesQuickScorerExtended\" built\n",
      "[INFO 24-02-17 15:10:38.7849 UTC kernel.cc:1061] Use fast generic engine\n",
      "[INFO 24-02-17 15:10:38.7919 UTC kernel.cc:1233] Loading model from path /var/tmp/tmpni_5b0it/model/ with prefix 4f725862cc16467c_1\n",
      "[INFO 24-02-17 15:10:38.7935 UTC kernel.cc:1061] Use fast generic engine\n",
      "[INFO 24-02-17 15:10:38.7993 UTC kernel.cc:1233] Loading model from path /var/tmp/tmpni_5b0it/model/ with prefix 4f725862cc16467c_2\n",
      "[INFO 24-02-17 15:10:38.8032 UTC kernel.cc:1061] Use fast generic engine\n"
     ]
    },
    {
     "name": "stdout",
     "output_type": "stream",
     "text": [
      "   t_barrier  barrier  overall_profit  n_trades  lower_prob  upper_prob\n",
      "0          2      0.2     -225.820173       112         0.4         0.4\n"
     ]
    },
    {
     "name": "stderr",
     "output_type": "stream",
     "text": [
      "WARNING:root:Feature \"ticker\" is an array of numpy.object_ and will be casted to numpy.string_ (Note: numpy.string_ is equivalent to numpy.bytes_).\n",
      "[INFO 24-02-17 15:10:43.1365 UTC kernel.cc:1233] Loading model from path /var/tmp/tmpviq3ivva/model/ with prefix d9418210612448f9_0\n",
      "[INFO 24-02-17 15:10:43.1420 UTC kernel.cc:1061] Use fast generic engine\n",
      "[INFO 24-02-17 15:10:43.1487 UTC kernel.cc:1233] Loading model from path /var/tmp/tmpviq3ivva/model/ with prefix d9418210612448f9_1\n",
      "[INFO 24-02-17 15:10:43.1502 UTC kernel.cc:1061] Use fast generic engine\n",
      "[INFO 24-02-17 15:10:43.1562 UTC kernel.cc:1233] Loading model from path /var/tmp/tmpviq3ivva/model/ with prefix d9418210612448f9_2\n",
      "[INFO 24-02-17 15:10:43.1603 UTC kernel.cc:1061] Use fast generic engine\n"
     ]
    },
    {
     "name": "stdout",
     "output_type": "stream",
     "text": [
      "   t_barrier  barrier  overall_profit  n_trades  lower_prob  upper_prob\n",
      "1          2      0.2     -174.253083       104         0.4         0.6\n",
      "0          2      0.2     -225.820173       112         0.4         0.4\n"
     ]
    },
    {
     "name": "stderr",
     "output_type": "stream",
     "text": [
      "WARNING:root:Feature \"ticker\" is an array of numpy.object_ and will be casted to numpy.string_ (Note: numpy.string_ is equivalent to numpy.bytes_).\n",
      "[INFO 24-02-17 15:10:46.5724 UTC kernel.cc:1233] Loading model from path /var/tmp/tmpd91ve1wj/model/ with prefix 8da97d01358f4595_0\n",
      "[INFO 24-02-17 15:10:46.5806 UTC kernel.cc:1061] Use fast generic engine\n",
      "[INFO 24-02-17 15:10:46.5889 UTC kernel.cc:1233] Loading model from path /var/tmp/tmpd91ve1wj/model/ with prefix 8da97d01358f4595_1\n",
      "[INFO 24-02-17 15:10:46.5911 UTC kernel.cc:1061] Use fast generic engine\n",
      "[INFO 24-02-17 15:10:46.5978 UTC kernel.cc:1233] Loading model from path /var/tmp/tmpd91ve1wj/model/ with prefix 8da97d01358f4595_2\n",
      "[INFO 24-02-17 15:10:46.6022 UTC kernel.cc:1061] Use fast generic engine\n"
     ]
    },
    {
     "name": "stdout",
     "output_type": "stream",
     "text": [
      "WARNING:tensorflow:5 out of the last 11 calls to <function InferenceCoreModel.make_predict_function.<locals>.predict_function_trained at 0x7fe818735a20> triggered tf.function retracing. Tracing is expensive and the excessive number of tracings could be due to (1) creating @tf.function repeatedly in a loop, (2) passing tensors with different shapes, (3) passing Python objects instead of tensors. For (1), please define your @tf.function outside of the loop. For (2), @tf.function has reduce_retracing=True option that can avoid unnecessary retracing. For (3), please refer to https://www.tensorflow.org/guide/function#controlling_retracing and https://www.tensorflow.org/api_docs/python/tf/function for  more details.\n"
     ]
    },
    {
     "name": "stderr",
     "output_type": "stream",
     "text": [
      "WARNING:tensorflow:5 out of the last 11 calls to <function InferenceCoreModel.make_predict_function.<locals>.predict_function_trained at 0x7fe818735a20> triggered tf.function retracing. Tracing is expensive and the excessive number of tracings could be due to (1) creating @tf.function repeatedly in a loop, (2) passing tensors with different shapes, (3) passing Python objects instead of tensors. For (1), please define your @tf.function outside of the loop. For (2), @tf.function has reduce_retracing=True option that can avoid unnecessary retracing. For (3), please refer to https://www.tensorflow.org/guide/function#controlling_retracing and https://www.tensorflow.org/api_docs/python/tf/function for  more details.\n"
     ]
    },
    {
     "name": "stdout",
     "output_type": "stream",
     "text": [
      "WARNING:tensorflow:5 out of the last 11 calls to <function InferenceCoreModel.make_predict_function.<locals>.predict_function_trained at 0x7fe818735000> triggered tf.function retracing. Tracing is expensive and the excessive number of tracings could be due to (1) creating @tf.function repeatedly in a loop, (2) passing tensors with different shapes, (3) passing Python objects instead of tensors. For (1), please define your @tf.function outside of the loop. For (2), @tf.function has reduce_retracing=True option that can avoid unnecessary retracing. For (3), please refer to https://www.tensorflow.org/guide/function#controlling_retracing and https://www.tensorflow.org/api_docs/python/tf/function for  more details.\n"
     ]
    },
    {
     "name": "stderr",
     "output_type": "stream",
     "text": [
      "WARNING:tensorflow:5 out of the last 11 calls to <function InferenceCoreModel.make_predict_function.<locals>.predict_function_trained at 0x7fe818735000> triggered tf.function retracing. Tracing is expensive and the excessive number of tracings could be due to (1) creating @tf.function repeatedly in a loop, (2) passing tensors with different shapes, (3) passing Python objects instead of tensors. For (1), please define your @tf.function outside of the loop. For (2), @tf.function has reduce_retracing=True option that can avoid unnecessary retracing. For (3), please refer to https://www.tensorflow.org/guide/function#controlling_retracing and https://www.tensorflow.org/api_docs/python/tf/function for  more details.\n"
     ]
    },
    {
     "name": "stdout",
     "output_type": "stream",
     "text": [
      "   t_barrier  barrier  overall_profit  n_trades  lower_prob  upper_prob\n",
      "2          2      0.2     -134.501958        64         0.4         0.8\n",
      "1          2      0.2     -174.253083       104         0.4         0.6\n",
      "0          2      0.2     -225.820173       112         0.4         0.4\n"
     ]
    },
    {
     "name": "stderr",
     "output_type": "stream",
     "text": [
      "WARNING:root:Feature \"ticker\" is an array of numpy.object_ and will be casted to numpy.string_ (Note: numpy.string_ is equivalent to numpy.bytes_).\n",
      "[INFO 24-02-17 15:10:49.9154 UTC kernel.cc:1233] Loading model from path /var/tmp/tmpak_rq2gn/model/ with prefix cd3abd1e5b754ea7_0\n",
      "[INFO 24-02-17 15:10:49.9211 UTC abstract_model.cc:1344] Engine \"GradientBoostedTreesQuickScorerExtended\" built\n",
      "[INFO 24-02-17 15:10:49.9213 UTC kernel.cc:1061] Use fast generic engine\n",
      "[INFO 24-02-17 15:10:49.9284 UTC kernel.cc:1233] Loading model from path /var/tmp/tmpak_rq2gn/model/ with prefix cd3abd1e5b754ea7_1\n",
      "[INFO 24-02-17 15:10:49.9301 UTC kernel.cc:1061] Use fast generic engine\n",
      "[INFO 24-02-17 15:10:49.9363 UTC kernel.cc:1233] Loading model from path /var/tmp/tmpak_rq2gn/model/ with prefix cd3abd1e5b754ea7_2\n",
      "[INFO 24-02-17 15:10:49.9404 UTC kernel.cc:1061] Use fast generic engine\n"
     ]
    },
    {
     "name": "stdout",
     "output_type": "stream",
     "text": [
      "   t_barrier  barrier  overall_profit  n_trades  lower_prob  upper_prob\n",
      "2          2      0.2     -134.501958        64         0.4         0.8\n",
      "1          2      0.2     -174.253083       104         0.4         0.6\n",
      "0          2      0.2     -225.820173       112         0.4         0.4\n",
      "3          2      0.2     -237.907141        82         0.6         0.4\n"
     ]
    },
    {
     "name": "stderr",
     "output_type": "stream",
     "text": [
      "WARNING:root:Feature \"ticker\" is an array of numpy.object_ and will be casted to numpy.string_ (Note: numpy.string_ is equivalent to numpy.bytes_).\n"
     ]
    },
    {
     "name": "stdout",
     "output_type": "stream",
     "text": [
      "WARNING:tensorflow:5 out of the last 5 calls to <function CoreModel._consumes_training_examples_until_eof at 0x7fe84b1f29e0> triggered tf.function retracing. Tracing is expensive and the excessive number of tracings could be due to (1) creating @tf.function repeatedly in a loop, (2) passing tensors with different shapes, (3) passing Python objects instead of tensors. For (1), please define your @tf.function outside of the loop. For (2), @tf.function has reduce_retracing=True option that can avoid unnecessary retracing. For (3), please refer to https://www.tensorflow.org/guide/function#controlling_retracing and https://www.tensorflow.org/api_docs/python/tf/function for  more details.\n"
     ]
    },
    {
     "name": "stderr",
     "output_type": "stream",
     "text": [
      "WARNING:tensorflow:5 out of the last 5 calls to <function CoreModel._consumes_training_examples_until_eof at 0x7fe84b1f29e0> triggered tf.function retracing. Tracing is expensive and the excessive number of tracings could be due to (1) creating @tf.function repeatedly in a loop, (2) passing tensors with different shapes, (3) passing Python objects instead of tensors. For (1), please define your @tf.function outside of the loop. For (2), @tf.function has reduce_retracing=True option that can avoid unnecessary retracing. For (3), please refer to https://www.tensorflow.org/guide/function#controlling_retracing and https://www.tensorflow.org/api_docs/python/tf/function for  more details.\n",
      "[INFO 24-02-17 15:10:53.4082 UTC kernel.cc:1233] Loading model from path /var/tmp/tmpc0ylnway/model/ with prefix 6e3ea1a08d2243a9_0\n",
      "[INFO 24-02-17 15:10:53.4139 UTC kernel.cc:1061] Use fast generic engine\n",
      "[INFO 24-02-17 15:10:53.4212 UTC kernel.cc:1233] Loading model from path /var/tmp/tmpc0ylnway/model/ with prefix 6e3ea1a08d2243a9_1\n",
      "[INFO 24-02-17 15:10:53.4229 UTC kernel.cc:1061] Use fast generic engine\n",
      "[INFO 24-02-17 15:10:53.4291 UTC kernel.cc:1233] Loading model from path /var/tmp/tmpc0ylnway/model/ with prefix 6e3ea1a08d2243a9_2\n",
      "[INFO 24-02-17 15:10:53.4333 UTC kernel.cc:1061] Use fast generic engine\n"
     ]
    },
    {
     "name": "stdout",
     "output_type": "stream",
     "text": [
      "WARNING:tensorflow:5 out of the last 5 calls to <function InferenceCoreModel.yggdrasil_model_path_tensor at 0x7fe8184c0790> triggered tf.function retracing. Tracing is expensive and the excessive number of tracings could be due to (1) creating @tf.function repeatedly in a loop, (2) passing tensors with different shapes, (3) passing Python objects instead of tensors. For (1), please define your @tf.function outside of the loop. For (2), @tf.function has reduce_retracing=True option that can avoid unnecessary retracing. For (3), please refer to https://www.tensorflow.org/guide/function#controlling_retracing and https://www.tensorflow.org/api_docs/python/tf/function for  more details.\n"
     ]
    },
    {
     "name": "stderr",
     "output_type": "stream",
     "text": [
      "WARNING:tensorflow:5 out of the last 5 calls to <function InferenceCoreModel.yggdrasil_model_path_tensor at 0x7fe8184c0790> triggered tf.function retracing. Tracing is expensive and the excessive number of tracings could be due to (1) creating @tf.function repeatedly in a loop, (2) passing tensors with different shapes, (3) passing Python objects instead of tensors. For (1), please define your @tf.function outside of the loop. For (2), @tf.function has reduce_retracing=True option that can avoid unnecessary retracing. For (3), please refer to https://www.tensorflow.org/guide/function#controlling_retracing and https://www.tensorflow.org/api_docs/python/tf/function for  more details.\n"
     ]
    },
    {
     "name": "stdout",
     "output_type": "stream",
     "text": [
      "   t_barrier  barrier  overall_profit  n_trades  lower_prob  upper_prob\n",
      "2          2      0.2     -134.501958        64         0.4         0.8\n",
      "1          2      0.2     -174.253083       104         0.4         0.6\n",
      "4          2      0.2     -193.612714        76         0.6         0.6\n",
      "0          2      0.2     -225.820173       112         0.4         0.4\n",
      "3          2      0.2     -237.907141        82         0.6         0.4\n"
     ]
    },
    {
     "name": "stderr",
     "output_type": "stream",
     "text": [
      "WARNING:root:Feature \"ticker\" is an array of numpy.object_ and will be casted to numpy.string_ (Note: numpy.string_ is equivalent to numpy.bytes_).\n"
     ]
    },
    {
     "name": "stdout",
     "output_type": "stream",
     "text": [
      "WARNING:tensorflow:6 out of the last 6 calls to <function CoreModel._consumes_training_examples_until_eof at 0x7fe84b1f29e0> triggered tf.function retracing. Tracing is expensive and the excessive number of tracings could be due to (1) creating @tf.function repeatedly in a loop, (2) passing tensors with different shapes, (3) passing Python objects instead of tensors. For (1), please define your @tf.function outside of the loop. For (2), @tf.function has reduce_retracing=True option that can avoid unnecessary retracing. For (3), please refer to https://www.tensorflow.org/guide/function#controlling_retracing and https://www.tensorflow.org/api_docs/python/tf/function for  more details.\n"
     ]
    },
    {
     "name": "stderr",
     "output_type": "stream",
     "text": [
      "WARNING:tensorflow:6 out of the last 6 calls to <function CoreModel._consumes_training_examples_until_eof at 0x7fe84b1f29e0> triggered tf.function retracing. Tracing is expensive and the excessive number of tracings could be due to (1) creating @tf.function repeatedly in a loop, (2) passing tensors with different shapes, (3) passing Python objects instead of tensors. For (1), please define your @tf.function outside of the loop. For (2), @tf.function has reduce_retracing=True option that can avoid unnecessary retracing. For (3), please refer to https://www.tensorflow.org/guide/function#controlling_retracing and https://www.tensorflow.org/api_docs/python/tf/function for  more details.\n",
      "[INFO 24-02-17 15:10:56.8005 UTC kernel.cc:1233] Loading model from path /var/tmp/tmpnt8bnvgk/model/ with prefix 8e64feb10f484ea9_0\n",
      "[INFO 24-02-17 15:10:56.8065 UTC kernel.cc:1061] Use fast generic engine\n",
      "[INFO 24-02-17 15:10:56.8136 UTC kernel.cc:1233] Loading model from path /var/tmp/tmpnt8bnvgk/model/ with prefix 8e64feb10f484ea9_1\n",
      "[INFO 24-02-17 15:10:56.8153 UTC kernel.cc:1061] Use fast generic engine\n",
      "[INFO 24-02-17 15:10:56.8219 UTC kernel.cc:1233] Loading model from path /var/tmp/tmpnt8bnvgk/model/ with prefix 8e64feb10f484ea9_2\n",
      "[INFO 24-02-17 15:10:56.8261 UTC kernel.cc:1061] Use fast generic engine\n"
     ]
    },
    {
     "name": "stdout",
     "output_type": "stream",
     "text": [
      "WARNING:tensorflow:6 out of the last 6 calls to <function InferenceCoreModel.yggdrasil_model_path_tensor at 0x7fe8185d52d0> triggered tf.function retracing. Tracing is expensive and the excessive number of tracings could be due to (1) creating @tf.function repeatedly in a loop, (2) passing tensors with different shapes, (3) passing Python objects instead of tensors. For (1), please define your @tf.function outside of the loop. For (2), @tf.function has reduce_retracing=True option that can avoid unnecessary retracing. For (3), please refer to https://www.tensorflow.org/guide/function#controlling_retracing and https://www.tensorflow.org/api_docs/python/tf/function for  more details.\n"
     ]
    },
    {
     "name": "stderr",
     "output_type": "stream",
     "text": [
      "WARNING:tensorflow:6 out of the last 6 calls to <function InferenceCoreModel.yggdrasil_model_path_tensor at 0x7fe8185d52d0> triggered tf.function retracing. Tracing is expensive and the excessive number of tracings could be due to (1) creating @tf.function repeatedly in a loop, (2) passing tensors with different shapes, (3) passing Python objects instead of tensors. For (1), please define your @tf.function outside of the loop. For (2), @tf.function has reduce_retracing=True option that can avoid unnecessary retracing. For (3), please refer to https://www.tensorflow.org/guide/function#controlling_retracing and https://www.tensorflow.org/api_docs/python/tf/function for  more details.\n"
     ]
    },
    {
     "name": "stdout",
     "output_type": "stream",
     "text": [
      "   t_barrier  barrier  overall_profit  n_trades  lower_prob  upper_prob\n",
      "2          2      0.2     -134.501958        64         0.4         0.8\n",
      "1          2      0.2     -174.253083       104         0.4         0.6\n",
      "5          2      0.2     -176.271331        50         0.6         0.8\n",
      "4          2      0.2     -193.612714        76         0.6         0.6\n",
      "0          2      0.2     -225.820173       112         0.4         0.4\n"
     ]
    },
    {
     "name": "stderr",
     "output_type": "stream",
     "text": [
      "WARNING:root:Feature \"ticker\" is an array of numpy.object_ and will be casted to numpy.string_ (Note: numpy.string_ is equivalent to numpy.bytes_).\n",
      "[INFO 24-02-17 15:11:00.4523 UTC kernel.cc:1233] Loading model from path /var/tmp/tmpwmixfxcl/model/ with prefix 4657605648924d45_0\n",
      "[INFO 24-02-17 15:11:00.4578 UTC abstract_model.cc:1344] Engine \"GradientBoostedTreesQuickScorerExtended\" built\n",
      "[INFO 24-02-17 15:11:00.4580 UTC kernel.cc:1061] Use fast generic engine\n",
      "[INFO 24-02-17 15:11:00.4647 UTC kernel.cc:1233] Loading model from path /var/tmp/tmpwmixfxcl/model/ with prefix 4657605648924d45_1\n",
      "[INFO 24-02-17 15:11:00.4663 UTC kernel.cc:1061] Use fast generic engine\n",
      "[INFO 24-02-17 15:11:00.4721 UTC kernel.cc:1233] Loading model from path /var/tmp/tmpwmixfxcl/model/ with prefix 4657605648924d45_2\n",
      "[INFO 24-02-17 15:11:00.4762 UTC kernel.cc:1061] Use fast generic engine\n"
     ]
    },
    {
     "name": "stdout",
     "output_type": "stream",
     "text": [
      "   t_barrier  barrier  overall_profit  n_trades  lower_prob  upper_prob\n",
      "6          2      0.2     -128.778325         5         0.8         0.4\n",
      "2          2      0.2     -134.501958        64         0.4         0.8\n",
      "1          2      0.2     -174.253083       104         0.4         0.6\n",
      "5          2      0.2     -176.271331        50         0.6         0.8\n",
      "4          2      0.2     -193.612714        76         0.6         0.6\n"
     ]
    },
    {
     "name": "stderr",
     "output_type": "stream",
     "text": [
      "WARNING:root:Feature \"ticker\" is an array of numpy.object_ and will be casted to numpy.string_ (Note: numpy.string_ is equivalent to numpy.bytes_).\n",
      "[INFO 24-02-17 15:11:03.8830 UTC kernel.cc:1233] Loading model from path /var/tmp/tmpyqs11bhl/model/ with prefix f8dd9d2c325d4054_0\n",
      "[INFO 24-02-17 15:11:03.8890 UTC kernel.cc:1061] Use fast generic engine\n",
      "[INFO 24-02-17 15:11:03.8964 UTC kernel.cc:1233] Loading model from path /var/tmp/tmpyqs11bhl/model/ with prefix f8dd9d2c325d4054_1\n",
      "[INFO 24-02-17 15:11:03.8980 UTC kernel.cc:1061] Use fast generic engine\n",
      "[INFO 24-02-17 15:11:03.9043 UTC kernel.cc:1233] Loading model from path /var/tmp/tmpyqs11bhl/model/ with prefix f8dd9d2c325d4054_2\n",
      "[INFO 24-02-17 15:11:03.9089 UTC kernel.cc:1061] Use fast generic engine\n"
     ]
    },
    {
     "name": "stdout",
     "output_type": "stream",
     "text": [
      "   t_barrier  barrier  overall_profit  n_trades  lower_prob  upper_prob\n",
      "7          2      0.2     -125.715668         5         0.8         0.6\n",
      "6          2      0.2     -128.778325         5         0.8         0.4\n",
      "2          2      0.2     -134.501958        64         0.4         0.8\n",
      "1          2      0.2     -174.253083       104         0.4         0.6\n",
      "5          2      0.2     -176.271331        50         0.6         0.8\n"
     ]
    },
    {
     "name": "stderr",
     "output_type": "stream",
     "text": [
      "WARNING:root:Feature \"ticker\" is an array of numpy.object_ and will be casted to numpy.string_ (Note: numpy.string_ is equivalent to numpy.bytes_).\n",
      "[INFO 24-02-17 15:11:07.2731 UTC kernel.cc:1233] Loading model from path /var/tmp/tmp5n864d8v/model/ with prefix 548ffdf336a741ab_0\n",
      "[INFO 24-02-17 15:11:07.2787 UTC kernel.cc:1061] Use fast generic engine\n",
      "[INFO 24-02-17 15:11:07.2856 UTC kernel.cc:1233] Loading model from path /var/tmp/tmp5n864d8v/model/ with prefix 548ffdf336a741ab_1\n",
      "[INFO 24-02-17 15:11:07.2872 UTC kernel.cc:1061] Use fast generic engine\n",
      "[INFO 24-02-17 15:11:07.2932 UTC kernel.cc:1233] Loading model from path /var/tmp/tmp5n864d8v/model/ with prefix 548ffdf336a741ab_2\n",
      "[INFO 24-02-17 15:11:07.2973 UTC kernel.cc:1061] Use fast generic engine\n"
     ]
    },
    {
     "name": "stdout",
     "output_type": "stream",
     "text": [
      "   t_barrier  barrier  overall_profit  n_trades  lower_prob  upper_prob\n",
      "7          2      0.2     -125.715668         5         0.8         0.6\n",
      "6          2      0.2     -128.778325         5         0.8         0.4\n",
      "2          2      0.2     -134.501958        64         0.4         0.8\n",
      "8          2      0.2     -134.817987         5         0.8         0.8\n",
      "1          2      0.2     -174.253083       104         0.4         0.6\n"
     ]
    },
    {
     "name": "stderr",
     "output_type": "stream",
     "text": [
      "WARNING:root:Feature \"ticker\" is an array of numpy.object_ and will be casted to numpy.string_ (Note: numpy.string_ is equivalent to numpy.bytes_).\n",
      "[INFO 24-02-17 15:11:11.0220 UTC kernel.cc:1233] Loading model from path /var/tmp/tmp4vb221yx/model/ with prefix 4ff88194f62e4c26_0\n",
      "[INFO 24-02-17 15:11:11.0315 UTC quick_scorer_extended.cc:903] The binary was compiled without AVX2 support, but your CPU supports it. Enable it for faster model inference.\n",
      "[INFO 24-02-17 15:11:11.0323 UTC abstract_model.cc:1344] Engine \"GradientBoostedTreesQuickScorerExtended\" built\n",
      "[INFO 24-02-17 15:11:11.0324 UTC kernel.cc:1061] Use fast generic engine\n",
      "[INFO 24-02-17 15:11:11.0400 UTC kernel.cc:1233] Loading model from path /var/tmp/tmp4vb221yx/model/ with prefix 4ff88194f62e4c26_1\n",
      "[INFO 24-02-17 15:11:11.0415 UTC kernel.cc:1061] Use fast generic engine\n",
      "[INFO 24-02-17 15:11:11.0473 UTC kernel.cc:1233] Loading model from path /var/tmp/tmp4vb221yx/model/ with prefix 4ff88194f62e4c26_2\n",
      "[INFO 24-02-17 15:11:11.0497 UTC kernel.cc:1061] Use fast generic engine\n"
     ]
    },
    {
     "name": "stdout",
     "output_type": "stream",
     "text": [
      "   t_barrier  barrier  overall_profit  n_trades  lower_prob  upper_prob\n",
      "7          2      0.2     -125.715668         5         0.8         0.6\n",
      "6          2      0.2     -128.778325         5         0.8         0.4\n",
      "2          2      0.2     -134.501958        64         0.4         0.8\n",
      "8          2      0.2     -134.817987         5         0.8         0.8\n",
      "1          2      0.2     -174.253083       104         0.4         0.6\n"
     ]
    },
    {
     "name": "stderr",
     "output_type": "stream",
     "text": [
      "WARNING:root:Feature \"ticker\" is an array of numpy.object_ and will be casted to numpy.string_ (Note: numpy.string_ is equivalent to numpy.bytes_).\n",
      "[INFO 24-02-17 15:11:14.7161 UTC kernel.cc:1233] Loading model from path /var/tmp/tmp0ud571_e/model/ with prefix ed525ffdb1b8437b_0\n",
      "[INFO 24-02-17 15:11:14.7264 UTC kernel.cc:1061] Use fast generic engine\n",
      "[INFO 24-02-17 15:11:14.7341 UTC kernel.cc:1233] Loading model from path /var/tmp/tmp0ud571_e/model/ with prefix ed525ffdb1b8437b_1\n",
      "[INFO 24-02-17 15:11:14.7358 UTC kernel.cc:1061] Use fast generic engine\n",
      "[INFO 24-02-17 15:11:14.7419 UTC kernel.cc:1233] Loading model from path /var/tmp/tmp0ud571_e/model/ with prefix ed525ffdb1b8437b_2\n",
      "[INFO 24-02-17 15:11:14.7442 UTC kernel.cc:1061] Use fast generic engine\n"
     ]
    },
    {
     "name": "stdout",
     "output_type": "stream",
     "text": [
      "   t_barrier  barrier  overall_profit  n_trades  lower_prob  upper_prob\n",
      "7          2      0.2     -125.715668         5         0.8         0.6\n",
      "6          2      0.2     -128.778325         5         0.8         0.4\n",
      "2          2      0.2     -134.501958        64         0.4         0.8\n",
      "8          2      0.2     -134.817987         5         0.8         0.8\n",
      "1          2      0.2     -174.253083       104         0.4         0.6\n"
     ]
    },
    {
     "name": "stderr",
     "output_type": "stream",
     "text": [
      "WARNING:root:Feature \"ticker\" is an array of numpy.object_ and will be casted to numpy.string_ (Note: numpy.string_ is equivalent to numpy.bytes_).\n",
      "[INFO 24-02-17 15:11:19.5026 UTC kernel.cc:1233] Loading model from path /var/tmp/tmpzab4mujq/model/ with prefix 05be9084f93444b8_0\n",
      "[INFO 24-02-17 15:11:19.5130 UTC kernel.cc:1061] Use fast generic engine\n",
      "[INFO 24-02-17 15:11:19.5203 UTC kernel.cc:1233] Loading model from path /var/tmp/tmpzab4mujq/model/ with prefix 05be9084f93444b8_1\n",
      "[INFO 24-02-17 15:11:19.5221 UTC kernel.cc:1061] Use fast generic engine\n",
      "[INFO 24-02-17 15:11:19.5288 UTC kernel.cc:1233] Loading model from path /var/tmp/tmpzab4mujq/model/ with prefix 05be9084f93444b8_2\n",
      "[INFO 24-02-17 15:11:19.5310 UTC kernel.cc:1061] Use fast generic engine\n"
     ]
    },
    {
     "name": "stdout",
     "output_type": "stream",
     "text": [
      "    t_barrier  barrier  overall_profit  n_trades  lower_prob  upper_prob\n",
      "11          2      0.3      -58.517649        19         0.4         0.8\n",
      "7           2      0.2     -125.715668         5         0.8         0.6\n",
      "6           2      0.2     -128.778325         5         0.8         0.4\n",
      "2           2      0.2     -134.501958        64         0.4         0.8\n",
      "8           2      0.2     -134.817987         5         0.8         0.8\n"
     ]
    },
    {
     "name": "stderr",
     "output_type": "stream",
     "text": [
      "WARNING:root:Feature \"ticker\" is an array of numpy.object_ and will be casted to numpy.string_ (Note: numpy.string_ is equivalent to numpy.bytes_).\n",
      "[INFO 24-02-17 15:11:23.3183 UTC kernel.cc:1233] Loading model from path /var/tmp/tmpog8yh6rx/model/ with prefix 7cf7285324ff4fa7_0\n",
      "[INFO 24-02-17 15:11:23.3291 UTC abstract_model.cc:1344] Engine \"GradientBoostedTreesQuickScorerExtended\" built\n",
      "[INFO 24-02-17 15:11:23.3292 UTC kernel.cc:1061] Use fast generic engine\n",
      "[INFO 24-02-17 15:11:23.3372 UTC kernel.cc:1233] Loading model from path /var/tmp/tmpog8yh6rx/model/ with prefix 7cf7285324ff4fa7_1\n",
      "[INFO 24-02-17 15:11:23.3389 UTC kernel.cc:1061] Use fast generic engine\n",
      "[INFO 24-02-17 15:11:23.3451 UTC kernel.cc:1233] Loading model from path /var/tmp/tmpog8yh6rx/model/ with prefix 7cf7285324ff4fa7_2\n",
      "[INFO 24-02-17 15:11:23.3476 UTC kernel.cc:1061] Use fast generic engine\n"
     ]
    },
    {
     "name": "stdout",
     "output_type": "stream",
     "text": [
      "    t_barrier  barrier  overall_profit  n_trades  lower_prob  upper_prob\n",
      "11          2      0.3      -58.517649        19         0.4         0.8\n",
      "7           2      0.2     -125.715668         5         0.8         0.6\n",
      "6           2      0.2     -128.778325         5         0.8         0.4\n",
      "2           2      0.2     -134.501958        64         0.4         0.8\n",
      "8           2      0.2     -134.817987         5         0.8         0.8\n"
     ]
    },
    {
     "name": "stderr",
     "output_type": "stream",
     "text": [
      "WARNING:root:Feature \"ticker\" is an array of numpy.object_ and will be casted to numpy.string_ (Note: numpy.string_ is equivalent to numpy.bytes_).\n"
     ]
    }
   ],
   "source": [
    "# Hyperparameters\n",
    "\n",
    "start='2020-01-01'\n",
    "end='2022-12-31'\n",
    "split_date=datetime(2022, 1, 1)\n",
    "interval_yf='1d'\n",
    "symbols='BTC-USD'\n",
    "model_summary=False\n",
    "verbose=0\n",
    "BARRIER = [0.2, 0.3, 0.4, 0.5]\n",
    "UPPER_PROB = [0.4, 0.6, 0.8]\n",
    "LOWER_PROB = [0.4, 0.6, 0.8]\n",
    "DAYS_LOOKBACK=30\n",
    "T_BARRIER =[2, 3, 4, 5, 6, 7, 8 , 9, 10]\n",
    "\n",
    "hps_results = {\n",
    "    't_barrier': [],\n",
    "    'barrier': [],\n",
    "    'overall_profit': [],\n",
    "    'n_trades': [],\n",
    "    'lower_prob': [],\n",
    "    'upper_prob': []\n",
    "}\n",
    "\n",
    "# Get data\n",
    "df = get_data(\n",
    "    symbols=[symbols],\n",
    "    start=start,\n",
    "    end=end,\n",
    "    interval=interval_yf\n",
    ")\n",
    "\n",
    "for t_barrier in T_BARRIER:\n",
    "    for barrier in BARRIER:\n",
    "        for x in LOWER_PROB:\n",
    "            for z in UPPER_PROB:\n",
    "                df_2 = df.copy(deep=True)\n",
    "                overall_profit, n_trades = mdx(\n",
    "                    df=df_2,\n",
    "                    barrier_length=t_barrier,\n",
    "                    barrier_std=barrier,\n",
    "                    days_lookback=3,\n",
    "                    split_date=split_date,\n",
    "                    model_summary=model_summary,\n",
    "                    verbose=verbose,\n",
    "                    lower_prob=x,\n",
    "                    upper_prob=z\n",
    "                )\n",
    "                \n",
    "                hps_results['t_barrier'].append(t_barrier)\n",
    "                hps_results['barrier'].append(barrier)\n",
    "                hps_results['overall_profit'].append(overall_profit)\n",
    "                hps_results['n_trades'].append(n_trades)\n",
    "                hps_results['lower_prob'].append(x)\n",
    "                hps_results['upper_prob'].append(z)\n",
    "                hp_results = pd.DataFrame(hps_results).sort_values('overall_profit', ascending=False)\n",
    "                print(hp_results.head())"
   ]
  },
  {
   "cell_type": "code",
   "execution_count": null,
   "id": "fa11efaa-b334-4cd2-b61c-2ce8326b7d59",
   "metadata": {},
   "outputs": [],
   "source": []
  }
 ],
 "metadata": {
  "environment": {
   "kernel": "conda-root-py",
   "name": "workbench-notebooks.m115",
   "type": "gcloud",
   "uri": "gcr.io/deeplearning-platform-release/workbench-notebooks:m115"
  },
  "kernelspec": {
   "display_name": "Python 3 (ipykernel) (Local)",
   "language": "python",
   "name": "conda-root-py"
  },
  "language_info": {
   "codemirror_mode": {
    "name": "ipython",
    "version": 3
   },
   "file_extension": ".py",
   "mimetype": "text/x-python",
   "name": "python",
   "nbconvert_exporter": "python",
   "pygments_lexer": "ipython3",
   "version": "3.10.13"
  }
 },
 "nbformat": 4,
 "nbformat_minor": 5
}
