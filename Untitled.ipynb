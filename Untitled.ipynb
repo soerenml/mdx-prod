{
 "cells": [
  {
   "cell_type": "markdown",
   "id": "947ffab4-985e-4e3e-b260-1fdc0b851fa7",
   "metadata": {
    "tags": []
   },
   "source": [
    "# **MD**$\\chi$ - Hypertune\n",
    "\n",
    "Trading with triple-barrier approach."
   ]
  },
  {
   "cell_type": "code",
   "execution_count": 4,
   "id": "e6a1b929-1022-4085-ac08-49a73d54d3b0",
   "metadata": {
    "tags": []
   },
   "outputs": [],
   "source": [
    "from src.trading_data import get_data\n",
    "from src.triple_barrier import triple_barrier_labels\n",
    "from src.temporian_prep import temporian_eventset\n",
    "from src.train_model import train\n",
    "from src.prediction import create_predictions\n",
    "from src.trader import execute_strategy\n",
    "\n",
    "from datetime import datetime\n",
    "import pandas as pd"
   ]
  },
  {
   "cell_type": "code",
   "execution_count": 5,
   "id": "09fbf641-c11d-4d6f-ba65-9559e6adc882",
   "metadata": {
    "tags": []
   },
   "outputs": [],
   "source": [
    "def mdx(\n",
    "    df: pd.DataFrame,\n",
    "    barrier_length: int,\n",
    "    barrier_std: float,\n",
    "    days_lookback: int,\n",
    "    split_date: str,\n",
    "    model_summary: str,\n",
    "    verbose: int,\n",
    "    lower_prob: float,\n",
    "    upper_prob: float\n",
    "):\n",
    "        \n",
    "    # Calculate triple barrier\n",
    "    labels = triple_barrier_labels(\n",
    "        df=df['close'],\n",
    "        t=barrier_length,\n",
    "        devs=barrier_std\n",
    "    )\n",
    "    \n",
    "    # Join tbl with df\n",
    "    df = df.join(labels)\n",
    "    df.dropna(inplace=True)\n",
    "    \n",
    "    # One hot encode labels\n",
    "    one_hot_encoded = pd.get_dummies(df['Label'], prefix='label')\n",
    "\n",
    "    # Concatenate the one-hot encoded columns to the original DataFrame\n",
    "    df = pd.concat([df, one_hot_encoded], axis=1)\n",
    "    del df['Label']\n",
    "    \n",
    "    (feature_names, label_names,\n",
    "     test_dataset,\n",
    "     train_dataset,\n",
    "     tf_test_dataset,\n",
    "     tf_train_dataset) = temporian_eventset(\n",
    "        df=df,\n",
    "        days_lookback=days_lookback,\n",
    "        split_date=split_date\n",
    "    )\n",
    "    # Train model\n",
    "    model = train(\n",
    "        train_dataset=tf_train_dataset,\n",
    "        label_names=label_names,\n",
    "        model_summary=model_summary,\n",
    "        verbose=verbose\n",
    "    )\n",
    "    \n",
    "    # Create predictions\n",
    "    result_df = create_predictions(\n",
    "        tf_test_dataset=tf_test_dataset,\n",
    "        model=model,\n",
    "        pandas_test_dataset=test_dataset\n",
    "    )\n",
    "    \n",
    "    # Execute trading\n",
    "    overall_profit, n_trades = execute_strategy(\n",
    "        data=result_df,\n",
    "        lower_prob=lower_prob,\n",
    "        upper_prob=upper_prob\n",
    "    )\n",
    "    \n",
    "    return overall_profit, n_trades"
   ]
  },
  {
   "cell_type": "code",
   "execution_count": null,
   "id": "dc745190-8109-49d1-bc14-f13e0a07a482",
   "metadata": {
    "tags": []
   },
   "outputs": [
    {
     "name": "stderr",
     "output_type": "stream",
     "text": [
      "WARNING:root:Feature \"ticker\" is an array of numpy.object_ and will be casted to numpy.string_ (Note: numpy.string_ is equivalent to numpy.bytes_).\n",
      "[INFO 24-02-14 15:30:30.1264 UTC kernel.cc:1233] Loading model from path /var/tmp/tmp7fekak3j/model/ with prefix 485ed9e744df46c4_0\n",
      "[INFO 24-02-14 15:30:30.1342 UTC abstract_model.cc:1344] Engine \"GradientBoostedTreesQuickScorerExtended\" built\n",
      "[INFO 24-02-14 15:30:30.1344 UTC kernel.cc:1061] Use fast generic engine\n",
      "[INFO 24-02-14 15:30:30.1429 UTC kernel.cc:1233] Loading model from path /var/tmp/tmp7fekak3j/model/ with prefix 485ed9e744df46c4_1\n",
      "[INFO 24-02-14 15:30:30.1450 UTC kernel.cc:1061] Use fast generic engine\n",
      "[INFO 24-02-14 15:30:30.1521 UTC kernel.cc:1233] Loading model from path /var/tmp/tmp7fekak3j/model/ with prefix 485ed9e744df46c4_2\n",
      "[INFO 24-02-14 15:30:30.1576 UTC kernel.cc:1061] Use fast generic engine\n"
     ]
    },
    {
     "name": "stdout",
     "output_type": "stream",
     "text": [
      "   t_barrier  barrier  overall_profit  n_trades  lower_prob  upper_prob\n",
      "0          2      0.2     -225.820173       112         0.4         0.4\n"
     ]
    },
    {
     "name": "stderr",
     "output_type": "stream",
     "text": [
      "WARNING:root:Feature \"ticker\" is an array of numpy.object_ and will be casted to numpy.string_ (Note: numpy.string_ is equivalent to numpy.bytes_).\n",
      "[INFO 24-02-14 15:30:33.7337 UTC kernel.cc:1233] Loading model from path /var/tmp/tmph78iqm8c/model/ with prefix 7d3d7aafa4044a89_0\n",
      "[INFO 24-02-14 15:30:33.7400 UTC kernel.cc:1061] Use fast generic engine\n",
      "[INFO 24-02-14 15:30:33.7485 UTC kernel.cc:1233] Loading model from path /var/tmp/tmph78iqm8c/model/ with prefix 7d3d7aafa4044a89_1\n",
      "[INFO 24-02-14 15:30:33.7501 UTC kernel.cc:1061] Use fast generic engine\n",
      "[INFO 24-02-14 15:30:33.7566 UTC kernel.cc:1233] Loading model from path /var/tmp/tmph78iqm8c/model/ with prefix 7d3d7aafa4044a89_2\n",
      "[INFO 24-02-14 15:30:33.7613 UTC kernel.cc:1061] Use fast generic engine\n"
     ]
    },
    {
     "name": "stdout",
     "output_type": "stream",
     "text": [
      "   t_barrier  barrier  overall_profit  n_trades  lower_prob  upper_prob\n",
      "1          2      0.2     -174.253083       104         0.4         0.6\n",
      "0          2      0.2     -225.820173       112         0.4         0.4\n"
     ]
    },
    {
     "name": "stderr",
     "output_type": "stream",
     "text": [
      "WARNING:root:Feature \"ticker\" is an array of numpy.object_ and will be casted to numpy.string_ (Note: numpy.string_ is equivalent to numpy.bytes_).\n",
      "[INFO 24-02-14 15:30:37.2833 UTC kernel.cc:1233] Loading model from path /var/tmp/tmpii_k8sb2/model/ with prefix 8522ef1577854315_0\n",
      "[INFO 24-02-14 15:30:37.2894 UTC kernel.cc:1061] Use fast generic engine\n",
      "[INFO 24-02-14 15:30:37.2966 UTC kernel.cc:1233] Loading model from path /var/tmp/tmpii_k8sb2/model/ with prefix 8522ef1577854315_1\n",
      "[INFO 24-02-14 15:30:37.2983 UTC kernel.cc:1061] Use fast generic engine\n",
      "[INFO 24-02-14 15:30:37.3041 UTC kernel.cc:1233] Loading model from path /var/tmp/tmpii_k8sb2/model/ with prefix 8522ef1577854315_2\n",
      "[INFO 24-02-14 15:30:37.3085 UTC kernel.cc:1061] Use fast generic engine\n"
     ]
    },
    {
     "name": "stdout",
     "output_type": "stream",
     "text": [
      "   t_barrier  barrier  overall_profit  n_trades  lower_prob  upper_prob\n",
      "2          2      0.2     -134.501958        64         0.4         0.8\n",
      "1          2      0.2     -174.253083       104         0.4         0.6\n",
      "0          2      0.2     -225.820173       112         0.4         0.4\n"
     ]
    },
    {
     "name": "stderr",
     "output_type": "stream",
     "text": [
      "WARNING:root:Feature \"ticker\" is an array of numpy.object_ and will be casted to numpy.string_ (Note: numpy.string_ is equivalent to numpy.bytes_).\n",
      "[INFO 24-02-14 15:30:40.7542 UTC kernel.cc:1233] Loading model from path /var/tmp/tmpqj64si49/model/ with prefix c949162adf9943c1_0\n",
      "[INFO 24-02-14 15:30:40.7603 UTC abstract_model.cc:1344] Engine \"GradientBoostedTreesQuickScorerExtended\" built\n",
      "[INFO 24-02-14 15:30:40.7606 UTC kernel.cc:1061] Use fast generic engine\n",
      "[INFO 24-02-14 15:30:40.7673 UTC kernel.cc:1233] Loading model from path /var/tmp/tmpqj64si49/model/ with prefix c949162adf9943c1_1\n",
      "[INFO 24-02-14 15:30:40.7691 UTC kernel.cc:1061] Use fast generic engine\n",
      "[INFO 24-02-14 15:30:40.7746 UTC kernel.cc:1233] Loading model from path /var/tmp/tmpqj64si49/model/ with prefix c949162adf9943c1_2\n",
      "[INFO 24-02-14 15:30:40.7790 UTC kernel.cc:1061] Use fast generic engine\n"
     ]
    },
    {
     "name": "stdout",
     "output_type": "stream",
     "text": [
      "   t_barrier  barrier  overall_profit  n_trades  lower_prob  upper_prob\n",
      "2          2      0.2     -134.501958        64         0.4         0.8\n",
      "1          2      0.2     -174.253083       104         0.4         0.6\n",
      "0          2      0.2     -225.820173       112         0.4         0.4\n",
      "3          2      0.2     -237.907141        82         0.6         0.4\n"
     ]
    },
    {
     "name": "stderr",
     "output_type": "stream",
     "text": [
      "WARNING:root:Feature \"ticker\" is an array of numpy.object_ and will be casted to numpy.string_ (Note: numpy.string_ is equivalent to numpy.bytes_).\n",
      "[INFO 24-02-14 15:30:44.3677 UTC kernel.cc:1233] Loading model from path /var/tmp/tmp3o6fpind/model/ with prefix d0972f3095fe4c1c_0\n",
      "[INFO 24-02-14 15:30:44.3738 UTC quick_scorer_extended.cc:903] The binary was compiled without AVX2 support, but your CPU supports it. Enable it for faster model inference.\n",
      "[INFO 24-02-14 15:30:44.3742 UTC kernel.cc:1061] Use fast generic engine\n",
      "[INFO 24-02-14 15:30:44.3845 UTC kernel.cc:1233] Loading model from path /var/tmp/tmp3o6fpind/model/ with prefix d0972f3095fe4c1c_1\n",
      "[INFO 24-02-14 15:30:44.3863 UTC kernel.cc:1061] Use fast generic engine\n",
      "[INFO 24-02-14 15:30:44.3929 UTC kernel.cc:1233] Loading model from path /var/tmp/tmp3o6fpind/model/ with prefix d0972f3095fe4c1c_2\n",
      "[INFO 24-02-14 15:30:44.3977 UTC kernel.cc:1061] Use fast generic engine\n"
     ]
    },
    {
     "name": "stdout",
     "output_type": "stream",
     "text": [
      "   t_barrier  barrier  overall_profit  n_trades  lower_prob  upper_prob\n",
      "2          2      0.2     -134.501958        64         0.4         0.8\n",
      "1          2      0.2     -174.253083       104         0.4         0.6\n",
      "4          2      0.2     -193.612714        76         0.6         0.6\n",
      "0          2      0.2     -225.820173       112         0.4         0.4\n",
      "3          2      0.2     -237.907141        82         0.6         0.4\n"
     ]
    },
    {
     "name": "stderr",
     "output_type": "stream",
     "text": [
      "WARNING:root:Feature \"ticker\" is an array of numpy.object_ and will be casted to numpy.string_ (Note: numpy.string_ is equivalent to numpy.bytes_).\n",
      "[INFO 24-02-14 15:30:47.8845 UTC kernel.cc:1233] Loading model from path /var/tmp/tmpywztvp_5/model/ with prefix 92e0e468848f4c4f_0\n",
      "[INFO 24-02-14 15:30:47.8910 UTC kernel.cc:1061] Use fast generic engine\n",
      "[INFO 24-02-14 15:30:47.8980 UTC kernel.cc:1233] Loading model from path /var/tmp/tmpywztvp_5/model/ with prefix 92e0e468848f4c4f_1\n",
      "[INFO 24-02-14 15:30:47.8998 UTC kernel.cc:1061] Use fast generic engine\n",
      "[INFO 24-02-14 15:30:47.9061 UTC kernel.cc:1233] Loading model from path /var/tmp/tmpywztvp_5/model/ with prefix 92e0e468848f4c4f_2\n",
      "[INFO 24-02-14 15:30:47.9107 UTC kernel.cc:1061] Use fast generic engine\n"
     ]
    },
    {
     "name": "stdout",
     "output_type": "stream",
     "text": [
      "   t_barrier  barrier  overall_profit  n_trades  lower_prob  upper_prob\n",
      "2          2      0.2     -134.501958        64         0.4         0.8\n",
      "1          2      0.2     -174.253083       104         0.4         0.6\n",
      "5          2      0.2     -176.271331        50         0.6         0.8\n",
      "4          2      0.2     -193.612714        76         0.6         0.6\n",
      "0          2      0.2     -225.820173       112         0.4         0.4\n"
     ]
    },
    {
     "name": "stderr",
     "output_type": "stream",
     "text": [
      "WARNING:root:Feature \"ticker\" is an array of numpy.object_ and will be casted to numpy.string_ (Note: numpy.string_ is equivalent to numpy.bytes_).\n",
      "[INFO 24-02-14 15:30:51.3676 UTC kernel.cc:1233] Loading model from path /var/tmp/tmpvyrnqa0t/model/ with prefix 97d8895bce3d4bf5_0\n",
      "[INFO 24-02-14 15:30:51.3735 UTC abstract_model.cc:1344] Engine \"GradientBoostedTreesQuickScorerExtended\" built\n",
      "[INFO 24-02-14 15:30:51.3737 UTC kernel.cc:1061] Use fast generic engine\n",
      "[INFO 24-02-14 15:30:51.3801 UTC kernel.cc:1233] Loading model from path /var/tmp/tmpvyrnqa0t/model/ with prefix 97d8895bce3d4bf5_1\n",
      "[INFO 24-02-14 15:30:51.3816 UTC kernel.cc:1061] Use fast generic engine\n",
      "[INFO 24-02-14 15:30:51.3870 UTC kernel.cc:1233] Loading model from path /var/tmp/tmpvyrnqa0t/model/ with prefix 97d8895bce3d4bf5_2\n",
      "[INFO 24-02-14 15:30:51.3913 UTC kernel.cc:1061] Use fast generic engine\n"
     ]
    },
    {
     "name": "stdout",
     "output_type": "stream",
     "text": [
      "   t_barrier  barrier  overall_profit  n_trades  lower_prob  upper_prob\n",
      "6          2      0.2     -128.778325         5         0.8         0.4\n",
      "2          2      0.2     -134.501958        64         0.4         0.8\n",
      "1          2      0.2     -174.253083       104         0.4         0.6\n",
      "5          2      0.2     -176.271331        50         0.6         0.8\n",
      "4          2      0.2     -193.612714        76         0.6         0.6\n"
     ]
    },
    {
     "name": "stderr",
     "output_type": "stream",
     "text": [
      "WARNING:root:Feature \"ticker\" is an array of numpy.object_ and will be casted to numpy.string_ (Note: numpy.string_ is equivalent to numpy.bytes_).\n",
      "[INFO 24-02-14 15:30:54.9658 UTC kernel.cc:1233] Loading model from path /var/tmp/tmp_b2ww2kr/model/ with prefix 4d4b3efd14bd4dfa_0\n",
      "[INFO 24-02-14 15:30:54.9718 UTC kernel.cc:1061] Use fast generic engine\n",
      "[INFO 24-02-14 15:30:54.9785 UTC kernel.cc:1233] Loading model from path /var/tmp/tmp_b2ww2kr/model/ with prefix 4d4b3efd14bd4dfa_1\n",
      "[INFO 24-02-14 15:30:54.9804 UTC kernel.cc:1061] Use fast generic engine\n",
      "[INFO 24-02-14 15:30:54.9862 UTC kernel.cc:1233] Loading model from path /var/tmp/tmp_b2ww2kr/model/ with prefix 4d4b3efd14bd4dfa_2\n",
      "[INFO 24-02-14 15:30:54.9905 UTC kernel.cc:1061] Use fast generic engine\n"
     ]
    },
    {
     "name": "stdout",
     "output_type": "stream",
     "text": [
      "   t_barrier  barrier  overall_profit  n_trades  lower_prob  upper_prob\n",
      "7          2      0.2     -125.715668         5         0.8         0.6\n",
      "6          2      0.2     -128.778325         5         0.8         0.4\n",
      "2          2      0.2     -134.501958        64         0.4         0.8\n",
      "1          2      0.2     -174.253083       104         0.4         0.6\n",
      "5          2      0.2     -176.271331        50         0.6         0.8\n"
     ]
    },
    {
     "name": "stderr",
     "output_type": "stream",
     "text": [
      "WARNING:root:Feature \"ticker\" is an array of numpy.object_ and will be casted to numpy.string_ (Note: numpy.string_ is equivalent to numpy.bytes_).\n",
      "[INFO 24-02-14 15:30:58.4622 UTC kernel.cc:1233] Loading model from path /var/tmp/tmpcoegpqki/model/ with prefix cad2251c7cd94cbd_0\n",
      "[INFO 24-02-14 15:30:58.4682 UTC kernel.cc:1061] Use fast generic engine\n",
      "[INFO 24-02-14 15:30:58.4751 UTC kernel.cc:1233] Loading model from path /var/tmp/tmpcoegpqki/model/ with prefix cad2251c7cd94cbd_1\n",
      "[INFO 24-02-14 15:30:58.4768 UTC kernel.cc:1061] Use fast generic engine\n",
      "[INFO 24-02-14 15:30:58.4826 UTC kernel.cc:1233] Loading model from path /var/tmp/tmpcoegpqki/model/ with prefix cad2251c7cd94cbd_2\n",
      "[INFO 24-02-14 15:30:58.4872 UTC kernel.cc:1061] Use fast generic engine\n"
     ]
    },
    {
     "name": "stdout",
     "output_type": "stream",
     "text": [
      "   t_barrier  barrier  overall_profit  n_trades  lower_prob  upper_prob\n",
      "7          2      0.2     -125.715668         5         0.8         0.6\n",
      "6          2      0.2     -128.778325         5         0.8         0.4\n",
      "2          2      0.2     -134.501958        64         0.4         0.8\n",
      "8          2      0.2     -134.817987         5         0.8         0.8\n",
      "1          2      0.2     -174.253083       104         0.4         0.6\n"
     ]
    },
    {
     "name": "stderr",
     "output_type": "stream",
     "text": [
      "WARNING:root:Feature \"ticker\" is an array of numpy.object_ and will be casted to numpy.string_ (Note: numpy.string_ is equivalent to numpy.bytes_).\n",
      "[INFO 24-02-14 15:31:02.4442 UTC kernel.cc:1233] Loading model from path /var/tmp/tmp6bfy3xkp/model/ with prefix 18b31531c1e345dc_0\n",
      "[INFO 24-02-14 15:31:02.4552 UTC abstract_model.cc:1344] Engine \"GradientBoostedTreesQuickScorerExtended\" built\n",
      "[INFO 24-02-14 15:31:02.4554 UTC kernel.cc:1061] Use fast generic engine\n",
      "[INFO 24-02-14 15:31:02.4641 UTC kernel.cc:1233] Loading model from path /var/tmp/tmp6bfy3xkp/model/ with prefix 18b31531c1e345dc_1\n",
      "[INFO 24-02-14 15:31:02.4657 UTC kernel.cc:1061] Use fast generic engine\n",
      "[INFO 24-02-14 15:31:02.4716 UTC kernel.cc:1233] Loading model from path /var/tmp/tmp6bfy3xkp/model/ with prefix 18b31531c1e345dc_2\n",
      "[INFO 24-02-14 15:31:02.4739 UTC kernel.cc:1061] Use fast generic engine\n"
     ]
    },
    {
     "name": "stdout",
     "output_type": "stream",
     "text": [
      "   t_barrier  barrier  overall_profit  n_trades  lower_prob  upper_prob\n",
      "7          2      0.2     -125.715668         5         0.8         0.6\n",
      "6          2      0.2     -128.778325         5         0.8         0.4\n",
      "2          2      0.2     -134.501958        64         0.4         0.8\n",
      "8          2      0.2     -134.817987         5         0.8         0.8\n",
      "1          2      0.2     -174.253083       104         0.4         0.6\n"
     ]
    },
    {
     "name": "stderr",
     "output_type": "stream",
     "text": [
      "WARNING:root:Feature \"ticker\" is an array of numpy.object_ and will be casted to numpy.string_ (Note: numpy.string_ is equivalent to numpy.bytes_).\n",
      "[INFO 24-02-14 15:31:06.4265 UTC kernel.cc:1233] Loading model from path /var/tmp/tmpnj7mhcr1/model/ with prefix 57463ef2271b4ebd_0\n",
      "[INFO 24-02-14 15:31:06.4374 UTC kernel.cc:1061] Use fast generic engine\n",
      "[INFO 24-02-14 15:31:06.4446 UTC kernel.cc:1233] Loading model from path /var/tmp/tmpnj7mhcr1/model/ with prefix 57463ef2271b4ebd_1\n",
      "[INFO 24-02-14 15:31:06.4462 UTC kernel.cc:1061] Use fast generic engine\n",
      "[INFO 24-02-14 15:31:06.4519 UTC kernel.cc:1233] Loading model from path /var/tmp/tmpnj7mhcr1/model/ with prefix 57463ef2271b4ebd_2\n",
      "[INFO 24-02-14 15:31:06.4542 UTC kernel.cc:1061] Use fast generic engine\n"
     ]
    },
    {
     "name": "stdout",
     "output_type": "stream",
     "text": [
      "   t_barrier  barrier  overall_profit  n_trades  lower_prob  upper_prob\n",
      "7          2      0.2     -125.715668         5         0.8         0.6\n",
      "6          2      0.2     -128.778325         5         0.8         0.4\n",
      "2          2      0.2     -134.501958        64         0.4         0.8\n",
      "8          2      0.2     -134.817987         5         0.8         0.8\n",
      "1          2      0.2     -174.253083       104         0.4         0.6\n"
     ]
    },
    {
     "name": "stderr",
     "output_type": "stream",
     "text": [
      "WARNING:root:Feature \"ticker\" is an array of numpy.object_ and will be casted to numpy.string_ (Note: numpy.string_ is equivalent to numpy.bytes_).\n",
      "[INFO 24-02-14 15:31:10.3242 UTC kernel.cc:1233] Loading model from path /var/tmp/tmpvjtm2s7t/model/ with prefix c8bd97bbb82a4462_0\n",
      "[INFO 24-02-14 15:31:10.3351 UTC kernel.cc:1061] Use fast generic engine\n",
      "[INFO 24-02-14 15:31:10.3426 UTC kernel.cc:1233] Loading model from path /var/tmp/tmpvjtm2s7t/model/ with prefix c8bd97bbb82a4462_1\n",
      "[INFO 24-02-14 15:31:10.3444 UTC kernel.cc:1061] Use fast generic engine\n",
      "[INFO 24-02-14 15:31:10.3501 UTC kernel.cc:1233] Loading model from path /var/tmp/tmpvjtm2s7t/model/ with prefix c8bd97bbb82a4462_2\n",
      "[INFO 24-02-14 15:31:10.3528 UTC kernel.cc:1061] Use fast generic engine\n"
     ]
    },
    {
     "name": "stdout",
     "output_type": "stream",
     "text": [
      "    t_barrier  barrier  overall_profit  n_trades  lower_prob  upper_prob\n",
      "11          2      0.3      -58.517649        19         0.4         0.8\n",
      "7           2      0.2     -125.715668         5         0.8         0.6\n",
      "6           2      0.2     -128.778325         5         0.8         0.4\n",
      "2           2      0.2     -134.501958        64         0.4         0.8\n",
      "8           2      0.2     -134.817987         5         0.8         0.8\n"
     ]
    },
    {
     "name": "stderr",
     "output_type": "stream",
     "text": [
      "WARNING:root:Feature \"ticker\" is an array of numpy.object_ and will be casted to numpy.string_ (Note: numpy.string_ is equivalent to numpy.bytes_).\n",
      "[INFO 24-02-14 15:31:14.2292 UTC kernel.cc:1233] Loading model from path /var/tmp/tmpm_ucz55n/model/ with prefix eba3227336894b7b_0\n",
      "[INFO 24-02-14 15:31:14.2401 UTC abstract_model.cc:1344] Engine \"GradientBoostedTreesQuickScorerExtended\" built\n",
      "[INFO 24-02-14 15:31:14.2403 UTC kernel.cc:1061] Use fast generic engine\n",
      "[INFO 24-02-14 15:31:14.2475 UTC kernel.cc:1233] Loading model from path /var/tmp/tmpm_ucz55n/model/ with prefix eba3227336894b7b_1\n",
      "[INFO 24-02-14 15:31:14.2491 UTC kernel.cc:1061] Use fast generic engine\n",
      "[INFO 24-02-14 15:31:14.2549 UTC kernel.cc:1233] Loading model from path /var/tmp/tmpm_ucz55n/model/ with prefix eba3227336894b7b_2\n",
      "[INFO 24-02-14 15:31:14.2573 UTC kernel.cc:1061] Use fast generic engine\n"
     ]
    },
    {
     "name": "stdout",
     "output_type": "stream",
     "text": [
      "    t_barrier  barrier  overall_profit  n_trades  lower_prob  upper_prob\n",
      "11          2      0.3      -58.517649        19         0.4         0.8\n",
      "7           2      0.2     -125.715668         5         0.8         0.6\n",
      "6           2      0.2     -128.778325         5         0.8         0.4\n",
      "2           2      0.2     -134.501958        64         0.4         0.8\n",
      "8           2      0.2     -134.817987         5         0.8         0.8\n"
     ]
    },
    {
     "name": "stderr",
     "output_type": "stream",
     "text": [
      "WARNING:root:Feature \"ticker\" is an array of numpy.object_ and will be casted to numpy.string_ (Note: numpy.string_ is equivalent to numpy.bytes_).\n",
      "[INFO 24-02-14 15:31:18.1206 UTC kernel.cc:1233] Loading model from path /var/tmp/tmpuglsop38/model/ with prefix 54a3090444b74137_0\n",
      "[INFO 24-02-14 15:31:18.1310 UTC quick_scorer_extended.cc:903] The binary was compiled without AVX2 support, but your CPU supports it. Enable it for faster model inference.\n",
      "[INFO 24-02-14 15:31:18.1317 UTC kernel.cc:1061] Use fast generic engine\n",
      "[INFO 24-02-14 15:31:18.1389 UTC kernel.cc:1233] Loading model from path /var/tmp/tmpuglsop38/model/ with prefix 54a3090444b74137_1\n",
      "[INFO 24-02-14 15:31:18.1405 UTC kernel.cc:1061] Use fast generic engine\n",
      "[INFO 24-02-14 15:31:18.1462 UTC kernel.cc:1233] Loading model from path /var/tmp/tmpuglsop38/model/ with prefix 54a3090444b74137_2\n",
      "[INFO 24-02-14 15:31:18.1486 UTC kernel.cc:1061] Use fast generic engine\n"
     ]
    },
    {
     "name": "stdout",
     "output_type": "stream",
     "text": [
      "    t_barrier  barrier  overall_profit  n_trades  lower_prob  upper_prob\n",
      "11          2      0.3      -58.517649        19         0.4         0.8\n",
      "7           2      0.2     -125.715668         5         0.8         0.6\n",
      "6           2      0.2     -128.778325         5         0.8         0.4\n",
      "2           2      0.2     -134.501958        64         0.4         0.8\n",
      "8           2      0.2     -134.817987         5         0.8         0.8\n"
     ]
    },
    {
     "name": "stderr",
     "output_type": "stream",
     "text": [
      "WARNING:root:Feature \"ticker\" is an array of numpy.object_ and will be casted to numpy.string_ (Note: numpy.string_ is equivalent to numpy.bytes_).\n",
      "[INFO 24-02-14 15:31:21.9671 UTC kernel.cc:1233] Loading model from path /var/tmp/tmpk3ktf7u_/model/ with prefix 9325bd6273504e48_0\n",
      "[INFO 24-02-14 15:31:21.9780 UTC kernel.cc:1061] Use fast generic engine\n",
      "[INFO 24-02-14 15:31:21.9851 UTC kernel.cc:1233] Loading model from path /var/tmp/tmpk3ktf7u_/model/ with prefix 9325bd6273504e48_1\n",
      "[INFO 24-02-14 15:31:21.9866 UTC kernel.cc:1061] Use fast generic engine\n",
      "[INFO 24-02-14 15:31:21.9922 UTC kernel.cc:1233] Loading model from path /var/tmp/tmpk3ktf7u_/model/ with prefix 9325bd6273504e48_2\n",
      "[INFO 24-02-14 15:31:21.9945 UTC kernel.cc:1061] Use fast generic engine\n"
     ]
    },
    {
     "name": "stdout",
     "output_type": "stream",
     "text": [
      "    t_barrier  barrier  overall_profit  n_trades  lower_prob  upper_prob\n",
      "11          2      0.3      -58.517649        19         0.4         0.8\n",
      "14          2      0.3      -77.841635        19         0.6         0.8\n",
      "7           2      0.2     -125.715668         5         0.8         0.6\n",
      "6           2      0.2     -128.778325         5         0.8         0.4\n",
      "2           2      0.2     -134.501958        64         0.4         0.8\n"
     ]
    },
    {
     "name": "stderr",
     "output_type": "stream",
     "text": [
      "WARNING:root:Feature \"ticker\" is an array of numpy.object_ and will be casted to numpy.string_ (Note: numpy.string_ is equivalent to numpy.bytes_).\n",
      "[INFO 24-02-14 15:31:25.8563 UTC kernel.cc:1233] Loading model from path /var/tmp/tmptt7qj0ir/model/ with prefix 2ca40aeb8abd44b0_0\n",
      "[INFO 24-02-14 15:31:25.8676 UTC abstract_model.cc:1344] Engine \"GradientBoostedTreesQuickScorerExtended\" built\n",
      "[INFO 24-02-14 15:31:25.8677 UTC kernel.cc:1061] Use fast generic engine\n",
      "[INFO 24-02-14 15:31:25.8763 UTC kernel.cc:1233] Loading model from path /var/tmp/tmptt7qj0ir/model/ with prefix 2ca40aeb8abd44b0_1\n",
      "[INFO 24-02-14 15:31:25.8781 UTC kernel.cc:1061] Use fast generic engine\n",
      "[INFO 24-02-14 15:31:25.8842 UTC kernel.cc:1233] Loading model from path /var/tmp/tmptt7qj0ir/model/ with prefix 2ca40aeb8abd44b0_2\n",
      "[INFO 24-02-14 15:31:25.8865 UTC kernel.cc:1061] Use fast generic engine\n"
     ]
    },
    {
     "name": "stdout",
     "output_type": "stream",
     "text": [
      "    t_barrier  barrier  overall_profit  n_trades  lower_prob  upper_prob\n",
      "11          2      0.3      -58.517649        19         0.4         0.8\n",
      "14          2      0.3      -77.841635        19         0.6         0.8\n",
      "15          2      0.3     -125.337304        19         0.8         0.4\n",
      "7           2      0.2     -125.715668         5         0.8         0.6\n",
      "6           2      0.2     -128.778325         5         0.8         0.4\n"
     ]
    },
    {
     "name": "stderr",
     "output_type": "stream",
     "text": [
      "WARNING:root:Feature \"ticker\" is an array of numpy.object_ and will be casted to numpy.string_ (Note: numpy.string_ is equivalent to numpy.bytes_).\n",
      "[INFO 24-02-14 15:31:29.7797 UTC kernel.cc:1233] Loading model from path /var/tmp/tmpfkthx8t4/model/ with prefix ac126131085b4562_0\n",
      "[INFO 24-02-14 15:31:29.7915 UTC kernel.cc:1061] Use fast generic engine\n",
      "[INFO 24-02-14 15:31:29.7996 UTC kernel.cc:1233] Loading model from path /var/tmp/tmpfkthx8t4/model/ with prefix ac126131085b4562_1\n",
      "[INFO 24-02-14 15:31:29.8014 UTC kernel.cc:1061] Use fast generic engine\n",
      "[INFO 24-02-14 15:31:29.8079 UTC kernel.cc:1233] Loading model from path /var/tmp/tmpfkthx8t4/model/ with prefix ac126131085b4562_2\n",
      "[INFO 24-02-14 15:31:29.8105 UTC kernel.cc:1061] Use fast generic engine\n"
     ]
    },
    {
     "name": "stdout",
     "output_type": "stream",
     "text": [
      "    t_barrier  barrier  overall_profit  n_trades  lower_prob  upper_prob\n",
      "11          2      0.3      -58.517649        19         0.4         0.8\n",
      "14          2      0.3      -77.841635        19         0.6         0.8\n",
      "16          2      0.3     -118.791808        17         0.8         0.6\n",
      "15          2      0.3     -125.337304        19         0.8         0.4\n",
      "7           2      0.2     -125.715668         5         0.8         0.6\n"
     ]
    },
    {
     "name": "stderr",
     "output_type": "stream",
     "text": [
      "WARNING:root:Feature \"ticker\" is an array of numpy.object_ and will be casted to numpy.string_ (Note: numpy.string_ is equivalent to numpy.bytes_).\n",
      "[INFO 24-02-14 15:31:33.6909 UTC kernel.cc:1233] Loading model from path /var/tmp/tmp8doqs24t/model/ with prefix ee9da53b538542a5_0\n",
      "[INFO 24-02-14 15:31:33.7018 UTC kernel.cc:1061] Use fast generic engine\n",
      "[INFO 24-02-14 15:31:33.7090 UTC kernel.cc:1233] Loading model from path /var/tmp/tmp8doqs24t/model/ with prefix ee9da53b538542a5_1\n",
      "[INFO 24-02-14 15:31:33.7105 UTC kernel.cc:1061] Use fast generic engine\n",
      "[INFO 24-02-14 15:31:33.7163 UTC kernel.cc:1233] Loading model from path /var/tmp/tmp8doqs24t/model/ with prefix ee9da53b538542a5_2\n",
      "[INFO 24-02-14 15:31:33.7186 UTC kernel.cc:1061] Use fast generic engine\n"
     ]
    },
    {
     "name": "stdout",
     "output_type": "stream",
     "text": [
      "    t_barrier  barrier  overall_profit  n_trades  lower_prob  upper_prob\n",
      "11          2      0.3      -58.517649        19         0.4         0.8\n",
      "14          2      0.3      -77.841635        19         0.6         0.8\n",
      "17          2      0.3      -81.931740         7         0.8         0.8\n",
      "16          2      0.3     -118.791808        17         0.8         0.6\n",
      "15          2      0.3     -125.337304        19         0.8         0.4\n"
     ]
    },
    {
     "name": "stderr",
     "output_type": "stream",
     "text": [
      "WARNING:root:Feature \"ticker\" is an array of numpy.object_ and will be casted to numpy.string_ (Note: numpy.string_ is equivalent to numpy.bytes_).\n",
      "[INFO 24-02-14 15:31:37.3868 UTC kernel.cc:1233] Loading model from path /var/tmp/tmpm39xoy7w/model/ with prefix 4cce3c0d51634394_0\n",
      "[INFO 24-02-14 15:31:37.3964 UTC abstract_model.cc:1344] Engine \"GradientBoostedTreesQuickScorerExtended\" built\n",
      "[INFO 24-02-14 15:31:37.3966 UTC kernel.cc:1061] Use fast generic engine\n",
      "[INFO 24-02-14 15:31:37.4042 UTC kernel.cc:1233] Loading model from path /var/tmp/tmpm39xoy7w/model/ with prefix 4cce3c0d51634394_1\n",
      "[INFO 24-02-14 15:31:37.4062 UTC kernel.cc:1061] Use fast generic engine\n",
      "[INFO 24-02-14 15:31:37.4126 UTC kernel.cc:1233] Loading model from path /var/tmp/tmpm39xoy7w/model/ with prefix 4cce3c0d51634394_2\n",
      "[INFO 24-02-14 15:31:37.4178 UTC kernel.cc:1061] Use fast generic engine\n"
     ]
    },
    {
     "name": "stdout",
     "output_type": "stream",
     "text": [
      "    t_barrier  barrier  overall_profit  n_trades  lower_prob  upper_prob\n",
      "11          2      0.3      -58.517649        19         0.4         0.8\n",
      "14          2      0.3      -77.841635        19         0.6         0.8\n",
      "17          2      0.3      -81.931740         7         0.8         0.8\n",
      "16          2      0.3     -118.791808        17         0.8         0.6\n",
      "15          2      0.3     -125.337304        19         0.8         0.4\n"
     ]
    },
    {
     "name": "stderr",
     "output_type": "stream",
     "text": [
      "WARNING:root:Feature \"ticker\" is an array of numpy.object_ and will be casted to numpy.string_ (Note: numpy.string_ is equivalent to numpy.bytes_).\n",
      "[INFO 24-02-14 15:31:42.2196 UTC kernel.cc:1233] Loading model from path /var/tmp/tmp34bqxu2f/model/ with prefix 8b9233edbd13433a_0\n",
      "[INFO 24-02-14 15:31:42.2280 UTC kernel.cc:1061] Use fast generic engine\n",
      "[INFO 24-02-14 15:31:42.2349 UTC kernel.cc:1233] Loading model from path /var/tmp/tmp34bqxu2f/model/ with prefix 8b9233edbd13433a_1\n",
      "[INFO 24-02-14 15:31:42.2367 UTC kernel.cc:1061] Use fast generic engine\n",
      "[INFO 24-02-14 15:31:42.2425 UTC kernel.cc:1233] Loading model from path /var/tmp/tmp34bqxu2f/model/ with prefix 8b9233edbd13433a_2\n",
      "[INFO 24-02-14 15:31:42.2471 UTC kernel.cc:1061] Use fast generic engine\n"
     ]
    },
    {
     "name": "stdout",
     "output_type": "stream",
     "text": [
      "    t_barrier  barrier  overall_profit  n_trades  lower_prob  upper_prob\n",
      "11          2      0.3      -58.517649        19         0.4         0.8\n",
      "14          2      0.3      -77.841635        19         0.6         0.8\n",
      "17          2      0.3      -81.931740         7         0.8         0.8\n",
      "16          2      0.3     -118.791808        17         0.8         0.6\n",
      "15          2      0.3     -125.337304        19         0.8         0.4\n"
     ]
    },
    {
     "name": "stderr",
     "output_type": "stream",
     "text": [
      "WARNING:root:Feature \"ticker\" is an array of numpy.object_ and will be casted to numpy.string_ (Note: numpy.string_ is equivalent to numpy.bytes_).\n",
      "[INFO 24-02-14 15:31:45.8642 UTC kernel.cc:1233] Loading model from path /var/tmp/tmpj_8yuthc/model/ with prefix 0a1afc135f114e75_0\n",
      "[INFO 24-02-14 15:31:45.8724 UTC kernel.cc:1061] Use fast generic engine\n",
      "[INFO 24-02-14 15:31:45.8793 UTC kernel.cc:1233] Loading model from path /var/tmp/tmpj_8yuthc/model/ with prefix 0a1afc135f114e75_1\n",
      "[INFO 24-02-14 15:31:45.8811 UTC kernel.cc:1061] Use fast generic engine\n",
      "[INFO 24-02-14 15:31:45.8868 UTC kernel.cc:1233] Loading model from path /var/tmp/tmpj_8yuthc/model/ with prefix 0a1afc135f114e75_2\n",
      "[INFO 24-02-14 15:31:45.8915 UTC kernel.cc:1061] Use fast generic engine\n"
     ]
    },
    {
     "name": "stdout",
     "output_type": "stream",
     "text": [
      "    t_barrier  barrier  overall_profit  n_trades  lower_prob  upper_prob\n",
      "11          2      0.3      -58.517649        19         0.4         0.8\n",
      "14          2      0.3      -77.841635        19         0.6         0.8\n",
      "17          2      0.3      -81.931740         7         0.8         0.8\n",
      "20          2      0.4      -85.403423        44         0.4         0.8\n",
      "16          2      0.3     -118.791808        17         0.8         0.6\n"
     ]
    },
    {
     "name": "stderr",
     "output_type": "stream",
     "text": [
      "WARNING:root:Feature \"ticker\" is an array of numpy.object_ and will be casted to numpy.string_ (Note: numpy.string_ is equivalent to numpy.bytes_).\n",
      "[INFO 24-02-14 15:31:49.5029 UTC kernel.cc:1233] Loading model from path /var/tmp/tmp40k6b4h4/model/ with prefix 9e851b5087024410_0\n",
      "[INFO 24-02-14 15:31:49.5106 UTC quick_scorer_extended.cc:903] The binary was compiled without AVX2 support, but your CPU supports it. Enable it for faster model inference.\n",
      "[INFO 24-02-14 15:31:49.5112 UTC abstract_model.cc:1344] Engine \"GradientBoostedTreesQuickScorerExtended\" built\n",
      "[INFO 24-02-14 15:31:49.5112 UTC kernel.cc:1061] Use fast generic engine\n",
      "[INFO 24-02-14 15:31:49.5179 UTC kernel.cc:1233] Loading model from path /var/tmp/tmp40k6b4h4/model/ with prefix 9e851b5087024410_1\n",
      "[INFO 24-02-14 15:31:49.5196 UTC kernel.cc:1061] Use fast generic engine\n",
      "[INFO 24-02-14 15:31:49.5252 UTC kernel.cc:1233] Loading model from path /var/tmp/tmp40k6b4h4/model/ with prefix 9e851b5087024410_2\n",
      "[INFO 24-02-14 15:31:49.5296 UTC kernel.cc:1061] Use fast generic engine\n"
     ]
    },
    {
     "name": "stdout",
     "output_type": "stream",
     "text": [
      "    t_barrier  barrier  overall_profit  n_trades  lower_prob  upper_prob\n",
      "11          2      0.3      -58.517649        19         0.4         0.8\n",
      "14          2      0.3      -77.841635        19         0.6         0.8\n",
      "17          2      0.3      -81.931740         7         0.8         0.8\n",
      "20          2      0.4      -85.403423        44         0.4         0.8\n",
      "16          2      0.3     -118.791808        17         0.8         0.6\n"
     ]
    },
    {
     "name": "stderr",
     "output_type": "stream",
     "text": [
      "WARNING:root:Feature \"ticker\" is an array of numpy.object_ and will be casted to numpy.string_ (Note: numpy.string_ is equivalent to numpy.bytes_).\n",
      "[INFO 24-02-14 15:31:53.1812 UTC kernel.cc:1233] Loading model from path /var/tmp/tmp3uq5_qk0/model/ with prefix 23d33263110c47a9_0\n",
      "[INFO 24-02-14 15:31:53.1895 UTC kernel.cc:1061] Use fast generic engine\n",
      "[INFO 24-02-14 15:31:53.1964 UTC kernel.cc:1233] Loading model from path /var/tmp/tmp3uq5_qk0/model/ with prefix 23d33263110c47a9_1\n",
      "[INFO 24-02-14 15:31:53.1980 UTC kernel.cc:1061] Use fast generic engine\n",
      "[INFO 24-02-14 15:31:53.2036 UTC kernel.cc:1233] Loading model from path /var/tmp/tmp3uq5_qk0/model/ with prefix 23d33263110c47a9_2\n",
      "[INFO 24-02-14 15:31:53.2081 UTC kernel.cc:1061] Use fast generic engine\n"
     ]
    },
    {
     "name": "stdout",
     "output_type": "stream",
     "text": [
      "    t_barrier  barrier  overall_profit  n_trades  lower_prob  upper_prob\n",
      "11          2      0.3      -58.517649        19         0.4         0.8\n",
      "14          2      0.3      -77.841635        19         0.6         0.8\n",
      "17          2      0.3      -81.931740         7         0.8         0.8\n",
      "20          2      0.4      -85.403423        44         0.4         0.8\n",
      "22          2      0.4     -110.814805        58         0.6         0.6\n"
     ]
    },
    {
     "name": "stderr",
     "output_type": "stream",
     "text": [
      "WARNING:root:Feature \"ticker\" is an array of numpy.object_ and will be casted to numpy.string_ (Note: numpy.string_ is equivalent to numpy.bytes_).\n",
      "[INFO 24-02-14 15:31:58.3153 UTC kernel.cc:1233] Loading model from path /var/tmp/tmpdderuwgx/model/ with prefix b40ab0c073d54c27_0\n",
      "[INFO 24-02-14 15:31:58.3251 UTC kernel.cc:1061] Use fast generic engine\n",
      "[INFO 24-02-14 15:31:58.3329 UTC kernel.cc:1233] Loading model from path /var/tmp/tmpdderuwgx/model/ with prefix b40ab0c073d54c27_1\n",
      "[INFO 24-02-14 15:31:58.3349 UTC kernel.cc:1061] Use fast generic engine\n",
      "[INFO 24-02-14 15:31:58.3408 UTC kernel.cc:1233] Loading model from path /var/tmp/tmpdderuwgx/model/ with prefix b40ab0c073d54c27_2\n",
      "[INFO 24-02-14 15:31:58.3460 UTC kernel.cc:1061] Use fast generic engine\n"
     ]
    },
    {
     "name": "stdout",
     "output_type": "stream",
     "text": [
      "    t_barrier  barrier  overall_profit  n_trades  lower_prob  upper_prob\n",
      "11          2      0.3      -58.517649        19         0.4         0.8\n",
      "14          2      0.3      -77.841635        19         0.6         0.8\n",
      "17          2      0.3      -81.931740         7         0.8         0.8\n",
      "20          2      0.4      -85.403423        44         0.4         0.8\n",
      "23          2      0.4      -91.204387        34         0.6         0.8\n"
     ]
    },
    {
     "name": "stderr",
     "output_type": "stream",
     "text": [
      "WARNING:root:Feature \"ticker\" is an array of numpy.object_ and will be casted to numpy.string_ (Note: numpy.string_ is equivalent to numpy.bytes_).\n",
      "[INFO 24-02-14 15:32:02.0593 UTC kernel.cc:1233] Loading model from path /var/tmp/tmpsv0kxvgt/model/ with prefix 7a527c6785f54aac_0\n",
      "[INFO 24-02-14 15:32:02.0721 UTC abstract_model.cc:1344] Engine \"GradientBoostedTreesQuickScorerExtended\" built\n",
      "[INFO 24-02-14 15:32:02.0724 UTC kernel.cc:1061] Use fast generic engine\n",
      "[INFO 24-02-14 15:32:02.0840 UTC kernel.cc:1233] Loading model from path /var/tmp/tmpsv0kxvgt/model/ with prefix 7a527c6785f54aac_1\n",
      "[INFO 24-02-14 15:32:02.0864 UTC kernel.cc:1061] Use fast generic engine\n",
      "[INFO 24-02-14 15:32:02.0931 UTC kernel.cc:1233] Loading model from path /var/tmp/tmpsv0kxvgt/model/ with prefix 7a527c6785f54aac_2\n",
      "[INFO 24-02-14 15:32:02.0987 UTC kernel.cc:1061] Use fast generic engine\n"
     ]
    },
    {
     "name": "stdout",
     "output_type": "stream",
     "text": [
      "    t_barrier  barrier  overall_profit  n_trades  lower_prob  upper_prob\n",
      "11          2      0.3      -58.517649        19         0.4         0.8\n",
      "14          2      0.3      -77.841635        19         0.6         0.8\n",
      "17          2      0.3      -81.931740         7         0.8         0.8\n",
      "20          2      0.4      -85.403423        44         0.4         0.8\n",
      "23          2      0.4      -91.204387        34         0.6         0.8\n"
     ]
    },
    {
     "name": "stderr",
     "output_type": "stream",
     "text": [
      "WARNING:root:Feature \"ticker\" is an array of numpy.object_ and will be casted to numpy.string_ (Note: numpy.string_ is equivalent to numpy.bytes_).\n",
      "[INFO 24-02-14 15:32:05.8236 UTC kernel.cc:1233] Loading model from path /var/tmp/tmpfxh_re03/model/ with prefix 1b38f0638faf4f58_0\n",
      "[INFO 24-02-14 15:32:05.8322 UTC kernel.cc:1061] Use fast generic engine\n",
      "[INFO 24-02-14 15:32:05.8399 UTC kernel.cc:1233] Loading model from path /var/tmp/tmpfxh_re03/model/ with prefix 1b38f0638faf4f58_1\n",
      "[INFO 24-02-14 15:32:05.8419 UTC kernel.cc:1061] Use fast generic engine\n",
      "[INFO 24-02-14 15:32:05.8479 UTC kernel.cc:1233] Loading model from path /var/tmp/tmpfxh_re03/model/ with prefix 1b38f0638faf4f58_2\n",
      "[INFO 24-02-14 15:32:05.8528 UTC kernel.cc:1061] Use fast generic engine\n"
     ]
    },
    {
     "name": "stdout",
     "output_type": "stream",
     "text": [
      "    t_barrier  barrier  overall_profit  n_trades  lower_prob  upper_prob\n",
      "11          2      0.3      -58.517649        19         0.4         0.8\n",
      "14          2      0.3      -77.841635        19         0.6         0.8\n",
      "17          2      0.3      -81.931740         7         0.8         0.8\n",
      "20          2      0.4      -85.403423        44         0.4         0.8\n",
      "23          2      0.4      -91.204387        34         0.6         0.8\n"
     ]
    },
    {
     "name": "stderr",
     "output_type": "stream",
     "text": [
      "WARNING:root:Feature \"ticker\" is an array of numpy.object_ and will be casted to numpy.string_ (Note: numpy.string_ is equivalent to numpy.bytes_).\n",
      "[INFO 24-02-14 15:32:09.5141 UTC kernel.cc:1233] Loading model from path /var/tmp/tmpatg5yml5/model/ with prefix 61979a49483f473e_0\n",
      "[INFO 24-02-14 15:32:09.5233 UTC kernel.cc:1061] Use fast generic engine\n",
      "[INFO 24-02-14 15:32:09.5304 UTC kernel.cc:1233] Loading model from path /var/tmp/tmpatg5yml5/model/ with prefix 61979a49483f473e_1\n",
      "[INFO 24-02-14 15:32:09.5322 UTC kernel.cc:1061] Use fast generic engine\n",
      "[INFO 24-02-14 15:32:09.5380 UTC kernel.cc:1233] Loading model from path /var/tmp/tmpatg5yml5/model/ with prefix 61979a49483f473e_2\n",
      "[INFO 24-02-14 15:32:09.5426 UTC kernel.cc:1061] Use fast generic engine\n"
     ]
    },
    {
     "name": "stdout",
     "output_type": "stream",
     "text": [
      "    t_barrier  barrier  overall_profit  n_trades  lower_prob  upper_prob\n",
      "11          2      0.3      -58.517649        19         0.4         0.8\n",
      "14          2      0.3      -77.841635        19         0.6         0.8\n",
      "17          2      0.3      -81.931740         7         0.8         0.8\n",
      "20          2      0.4      -85.403423        44         0.4         0.8\n",
      "23          2      0.4      -91.204387        34         0.6         0.8\n"
     ]
    },
    {
     "name": "stderr",
     "output_type": "stream",
     "text": [
      "WARNING:root:Feature \"ticker\" is an array of numpy.object_ and will be casted to numpy.string_ (Note: numpy.string_ is equivalent to numpy.bytes_).\n",
      "[INFO 24-02-14 15:32:14.3704 UTC kernel.cc:1233] Loading model from path /var/tmp/tmph6d78czt/model/ with prefix a9de5ef46caa46af_0\n",
      "[INFO 24-02-14 15:32:14.3787 UTC abstract_model.cc:1344] Engine \"GradientBoostedTreesQuickScorerExtended\" built\n",
      "[INFO 24-02-14 15:32:14.3789 UTC kernel.cc:1061] Use fast generic engine\n",
      "[INFO 24-02-14 15:32:14.3864 UTC kernel.cc:1233] Loading model from path /var/tmp/tmph6d78czt/model/ with prefix a9de5ef46caa46af_1\n",
      "[INFO 24-02-14 15:32:14.3893 UTC kernel.cc:1061] Use fast generic engine\n",
      "[INFO 24-02-14 15:32:14.3953 UTC kernel.cc:1233] Loading model from path /var/tmp/tmph6d78czt/model/ with prefix a9de5ef46caa46af_2\n",
      "[INFO 24-02-14 15:32:14.3977 UTC kernel.cc:1061] Use fast generic engine\n"
     ]
    },
    {
     "name": "stdout",
     "output_type": "stream",
     "text": [
      "    t_barrier  barrier  overall_profit  n_trades  lower_prob  upper_prob\n",
      "11          2      0.3      -58.517649        19         0.4         0.8\n",
      "14          2      0.3      -77.841635        19         0.6         0.8\n",
      "17          2      0.3      -81.931740         7         0.8         0.8\n",
      "20          2      0.4      -85.403423        44         0.4         0.8\n",
      "23          2      0.4      -91.204387        34         0.6         0.8\n"
     ]
    },
    {
     "name": "stderr",
     "output_type": "stream",
     "text": [
      "WARNING:root:Feature \"ticker\" is an array of numpy.object_ and will be casted to numpy.string_ (Note: numpy.string_ is equivalent to numpy.bytes_).\n",
      "[INFO 24-02-14 15:32:17.9877 UTC kernel.cc:1233] Loading model from path /var/tmp/tmpevkavihx/model/ with prefix 04d6ff31a2a54e55_0\n",
      "[INFO 24-02-14 15:32:17.9958 UTC kernel.cc:1061] Use fast generic engine\n",
      "[INFO 24-02-14 15:32:18.0028 UTC kernel.cc:1233] Loading model from path /var/tmp/tmpevkavihx/model/ with prefix 04d6ff31a2a54e55_1\n",
      "[INFO 24-02-14 15:32:18.0057 UTC kernel.cc:1061] Use fast generic engine\n",
      "[INFO 24-02-14 15:32:18.0117 UTC kernel.cc:1233] Loading model from path /var/tmp/tmpevkavihx/model/ with prefix 04d6ff31a2a54e55_2\n",
      "[INFO 24-02-14 15:32:18.0140 UTC kernel.cc:1061] Use fast generic engine\n"
     ]
    },
    {
     "name": "stdout",
     "output_type": "stream",
     "text": [
      "    t_barrier  barrier  overall_profit  n_trades  lower_prob  upper_prob\n",
      "11          2      0.3      -58.517649        19         0.4         0.8\n",
      "14          2      0.3      -77.841635        19         0.6         0.8\n",
      "17          2      0.3      -81.931740         7         0.8         0.8\n",
      "20          2      0.4      -85.403423        44         0.4         0.8\n",
      "23          2      0.4      -91.204387        34         0.6         0.8\n"
     ]
    },
    {
     "name": "stderr",
     "output_type": "stream",
     "text": [
      "WARNING:root:Feature \"ticker\" is an array of numpy.object_ and will be casted to numpy.string_ (Note: numpy.string_ is equivalent to numpy.bytes_).\n",
      "[INFO 24-02-14 15:32:21.5846 UTC kernel.cc:1233] Loading model from path /var/tmp/tmp1a_gm186/model/ with prefix 9714b231e69448e7_0\n",
      "[INFO 24-02-14 15:32:21.5921 UTC quick_scorer_extended.cc:903] The binary was compiled without AVX2 support, but your CPU supports it. Enable it for faster model inference.\n",
      "[INFO 24-02-14 15:32:21.5927 UTC kernel.cc:1061] Use fast generic engine\n",
      "[INFO 24-02-14 15:32:21.5993 UTC kernel.cc:1233] Loading model from path /var/tmp/tmp1a_gm186/model/ with prefix 9714b231e69448e7_1\n",
      "[INFO 24-02-14 15:32:21.6020 UTC kernel.cc:1061] Use fast generic engine\n",
      "[INFO 24-02-14 15:32:21.6074 UTC kernel.cc:1233] Loading model from path /var/tmp/tmp1a_gm186/model/ with prefix 9714b231e69448e7_2\n",
      "[INFO 24-02-14 15:32:21.6097 UTC kernel.cc:1061] Use fast generic engine\n"
     ]
    },
    {
     "name": "stdout",
     "output_type": "stream",
     "text": [
      "    t_barrier  barrier  overall_profit  n_trades  lower_prob  upper_prob\n",
      "11          2      0.3      -58.517649        19         0.4         0.8\n",
      "14          2      0.3      -77.841635        19         0.6         0.8\n",
      "17          2      0.3      -81.931740         7         0.8         0.8\n",
      "20          2      0.4      -85.403423        44         0.4         0.8\n",
      "29          2      0.5      -86.212504        12         0.4         0.8\n"
     ]
    },
    {
     "name": "stderr",
     "output_type": "stream",
     "text": [
      "WARNING:root:Feature \"ticker\" is an array of numpy.object_ and will be casted to numpy.string_ (Note: numpy.string_ is equivalent to numpy.bytes_).\n",
      "[INFO 24-02-14 15:32:25.2129 UTC kernel.cc:1233] Loading model from path /var/tmp/tmppcz1fj9b/model/ with prefix 027d860454c54eea_0\n",
      "[INFO 24-02-14 15:32:25.2207 UTC abstract_model.cc:1344] Engine \"GradientBoostedTreesQuickScorerExtended\" built\n",
      "[INFO 24-02-14 15:32:25.2209 UTC kernel.cc:1061] Use fast generic engine\n",
      "[INFO 24-02-14 15:32:25.2291 UTC kernel.cc:1233] Loading model from path /var/tmp/tmppcz1fj9b/model/ with prefix 027d860454c54eea_1\n",
      "[INFO 24-02-14 15:32:25.2319 UTC kernel.cc:1061] Use fast generic engine\n",
      "[INFO 24-02-14 15:32:25.2378 UTC kernel.cc:1233] Loading model from path /var/tmp/tmppcz1fj9b/model/ with prefix 027d860454c54eea_2\n",
      "[INFO 24-02-14 15:32:25.2402 UTC kernel.cc:1061] Use fast generic engine\n"
     ]
    },
    {
     "name": "stdout",
     "output_type": "stream",
     "text": [
      "    t_barrier  barrier  overall_profit  n_trades  lower_prob  upper_prob\n",
      "11          2      0.3      -58.517649        19         0.4         0.8\n",
      "14          2      0.3      -77.841635        19         0.6         0.8\n",
      "17          2      0.3      -81.931740         7         0.8         0.8\n",
      "20          2      0.4      -85.403423        44         0.4         0.8\n",
      "29          2      0.5      -86.212504        12         0.4         0.8\n"
     ]
    },
    {
     "name": "stderr",
     "output_type": "stream",
     "text": [
      "WARNING:root:Feature \"ticker\" is an array of numpy.object_ and will be casted to numpy.string_ (Note: numpy.string_ is equivalent to numpy.bytes_).\n",
      "[INFO 24-02-14 15:32:28.8947 UTC kernel.cc:1233] Loading model from path /var/tmp/tmp1afwdkc3/model/ with prefix cb1db5c5abca471b_0\n",
      "[INFO 24-02-14 15:32:28.9029 UTC kernel.cc:1061] Use fast generic engine\n",
      "[INFO 24-02-14 15:32:28.9115 UTC kernel.cc:1233] Loading model from path /var/tmp/tmp1afwdkc3/model/ with prefix cb1db5c5abca471b_1\n",
      "[INFO 24-02-14 15:32:28.9142 UTC kernel.cc:1061] Use fast generic engine\n",
      "[INFO 24-02-14 15:32:28.9204 UTC kernel.cc:1233] Loading model from path /var/tmp/tmp1afwdkc3/model/ with prefix cb1db5c5abca471b_2\n",
      "[INFO 24-02-14 15:32:28.9229 UTC kernel.cc:1061] Use fast generic engine\n"
     ]
    },
    {
     "name": "stdout",
     "output_type": "stream",
     "text": [
      "    t_barrier  barrier  overall_profit  n_trades  lower_prob  upper_prob\n",
      "11          2      0.3      -58.517649        19         0.4         0.8\n",
      "14          2      0.3      -77.841635        19         0.6         0.8\n",
      "17          2      0.3      -81.931740         7         0.8         0.8\n",
      "20          2      0.4      -85.403423        44         0.4         0.8\n",
      "29          2      0.5      -86.212504        12         0.4         0.8\n"
     ]
    },
    {
     "name": "stderr",
     "output_type": "stream",
     "text": [
      "WARNING:root:Feature \"ticker\" is an array of numpy.object_ and will be casted to numpy.string_ (Note: numpy.string_ is equivalent to numpy.bytes_).\n",
      "[INFO 24-02-14 15:32:33.7849 UTC kernel.cc:1233] Loading model from path /var/tmp/tmpj7wvpa8b/model/ with prefix f3ee1430673c4e31_0\n",
      "[INFO 24-02-14 15:32:33.7932 UTC kernel.cc:1061] Use fast generic engine\n",
      "[INFO 24-02-14 15:32:33.8002 UTC kernel.cc:1233] Loading model from path /var/tmp/tmpj7wvpa8b/model/ with prefix f3ee1430673c4e31_1\n",
      "[INFO 24-02-14 15:32:33.8029 UTC kernel.cc:1061] Use fast generic engine\n",
      "[INFO 24-02-14 15:32:33.8088 UTC kernel.cc:1233] Loading model from path /var/tmp/tmpj7wvpa8b/model/ with prefix f3ee1430673c4e31_2\n",
      "[INFO 24-02-14 15:32:33.8111 UTC kernel.cc:1061] Use fast generic engine\n"
     ]
    },
    {
     "name": "stdout",
     "output_type": "stream",
     "text": [
      "    t_barrier  barrier  overall_profit  n_trades  lower_prob  upper_prob\n",
      "11          2      0.3      -58.517649        19         0.4         0.8\n",
      "14          2      0.3      -77.841635        19         0.6         0.8\n",
      "17          2      0.3      -81.931740         7         0.8         0.8\n",
      "20          2      0.4      -85.403423        44         0.4         0.8\n",
      "29          2      0.5      -86.212504        12         0.4         0.8\n"
     ]
    },
    {
     "name": "stderr",
     "output_type": "stream",
     "text": [
      "WARNING:root:Feature \"ticker\" is an array of numpy.object_ and will be casted to numpy.string_ (Note: numpy.string_ is equivalent to numpy.bytes_).\n",
      "[INFO 24-02-14 15:32:37.5301 UTC kernel.cc:1233] Loading model from path /var/tmp/tmp3lvir4v6/model/ with prefix cd48ae2212ac4547_0\n",
      "[INFO 24-02-14 15:32:37.5380 UTC abstract_model.cc:1344] Engine \"GradientBoostedTreesQuickScorerExtended\" built\n",
      "[INFO 24-02-14 15:32:37.5381 UTC kernel.cc:1061] Use fast generic engine\n",
      "[INFO 24-02-14 15:32:37.5449 UTC kernel.cc:1233] Loading model from path /var/tmp/tmp3lvir4v6/model/ with prefix cd48ae2212ac4547_1\n",
      "[INFO 24-02-14 15:32:37.5475 UTC kernel.cc:1061] Use fast generic engine\n",
      "[INFO 24-02-14 15:32:37.5535 UTC kernel.cc:1233] Loading model from path /var/tmp/tmp3lvir4v6/model/ with prefix cd48ae2212ac4547_2\n",
      "[INFO 24-02-14 15:32:37.5559 UTC kernel.cc:1061] Use fast generic engine\n"
     ]
    },
    {
     "name": "stdout",
     "output_type": "stream",
     "text": [
      "    t_barrier  barrier  overall_profit  n_trades  lower_prob  upper_prob\n",
      "33          2      0.5      -22.373570         3         0.8         0.4\n",
      "11          2      0.3      -58.517649        19         0.4         0.8\n",
      "14          2      0.3      -77.841635        19         0.6         0.8\n",
      "17          2      0.3      -81.931740         7         0.8         0.8\n",
      "20          2      0.4      -85.403423        44         0.4         0.8\n"
     ]
    },
    {
     "name": "stderr",
     "output_type": "stream",
     "text": [
      "WARNING:root:Feature \"ticker\" is an array of numpy.object_ and will be casted to numpy.string_ (Note: numpy.string_ is equivalent to numpy.bytes_).\n",
      "[INFO 24-02-14 15:32:41.1857 UTC kernel.cc:1233] Loading model from path /var/tmp/tmp1m37tpmj/model/ with prefix c24d45add58246b7_0\n",
      "[INFO 24-02-14 15:32:41.1936 UTC kernel.cc:1061] Use fast generic engine\n",
      "[INFO 24-02-14 15:32:41.2006 UTC kernel.cc:1233] Loading model from path /var/tmp/tmp1m37tpmj/model/ with prefix c24d45add58246b7_1\n",
      "[INFO 24-02-14 15:32:41.2033 UTC kernel.cc:1061] Use fast generic engine\n",
      "[INFO 24-02-14 15:32:41.2092 UTC kernel.cc:1233] Loading model from path /var/tmp/tmp1m37tpmj/model/ with prefix c24d45add58246b7_2\n",
      "[INFO 24-02-14 15:32:41.2116 UTC kernel.cc:1061] Use fast generic engine\n"
     ]
    },
    {
     "name": "stdout",
     "output_type": "stream",
     "text": [
      "    t_barrier  barrier  overall_profit  n_trades  lower_prob  upper_prob\n",
      "34          2      0.5      -15.268428         3         0.8         0.6\n",
      "33          2      0.5      -22.373570         3         0.8         0.4\n",
      "11          2      0.3      -58.517649        19         0.4         0.8\n",
      "14          2      0.3      -77.841635        19         0.6         0.8\n",
      "17          2      0.3      -81.931740         7         0.8         0.8\n"
     ]
    },
    {
     "name": "stderr",
     "output_type": "stream",
     "text": [
      "WARNING:root:Feature \"ticker\" is an array of numpy.object_ and will be casted to numpy.string_ (Note: numpy.string_ is equivalent to numpy.bytes_).\n",
      "[INFO 24-02-14 15:32:44.8625 UTC kernel.cc:1233] Loading model from path /var/tmp/tmpz3d3hy_y/model/ with prefix fdaad38846494fcc_0\n",
      "[INFO 24-02-14 15:32:44.8705 UTC kernel.cc:1061] Use fast generic engine\n",
      "[INFO 24-02-14 15:32:44.8778 UTC kernel.cc:1233] Loading model from path /var/tmp/tmpz3d3hy_y/model/ with prefix fdaad38846494fcc_1\n",
      "[INFO 24-02-14 15:32:44.8805 UTC kernel.cc:1061] Use fast generic engine\n",
      "[INFO 24-02-14 15:32:44.8867 UTC kernel.cc:1233] Loading model from path /var/tmp/tmpz3d3hy_y/model/ with prefix fdaad38846494fcc_2\n",
      "[INFO 24-02-14 15:32:44.8892 UTC kernel.cc:1061] Use fast generic engine\n"
     ]
    },
    {
     "name": "stdout",
     "output_type": "stream",
     "text": [
      "    t_barrier  barrier  overall_profit  n_trades  lower_prob  upper_prob\n",
      "35          2      0.5        0.000000         1         0.8         0.8\n",
      "34          2      0.5      -15.268428         3         0.8         0.6\n",
      "33          2      0.5      -22.373570         3         0.8         0.4\n",
      "11          2      0.3      -58.517649        19         0.4         0.8\n",
      "14          2      0.3      -77.841635        19         0.6         0.8\n"
     ]
    },
    {
     "name": "stderr",
     "output_type": "stream",
     "text": [
      "WARNING:root:Feature \"ticker\" is an array of numpy.object_ and will be casted to numpy.string_ (Note: numpy.string_ is equivalent to numpy.bytes_).\n",
      "[INFO 24-02-14 15:32:48.4794 UTC kernel.cc:1233] Loading model from path /var/tmp/tmpxa638dqr/model/ with prefix 6094a14829f24394_0\n",
      "[INFO 24-02-14 15:32:48.4875 UTC abstract_model.cc:1344] Engine \"GradientBoostedTreesQuickScorerExtended\" built\n",
      "[INFO 24-02-14 15:32:48.4879 UTC kernel.cc:1061] Use fast generic engine\n",
      "[INFO 24-02-14 15:32:48.4956 UTC kernel.cc:1233] Loading model from path /var/tmp/tmpxa638dqr/model/ with prefix 6094a14829f24394_1\n",
      "[INFO 24-02-14 15:32:48.4968 UTC kernel.cc:1061] Use fast generic engine\n",
      "[INFO 24-02-14 15:32:48.5027 UTC kernel.cc:1233] Loading model from path /var/tmp/tmpxa638dqr/model/ with prefix 6094a14829f24394_2\n",
      "[INFO 24-02-14 15:32:48.5094 UTC kernel.cc:1061] Use fast generic engine\n"
     ]
    },
    {
     "name": "stdout",
     "output_type": "stream",
     "text": [
      "    t_barrier  barrier  overall_profit  n_trades  lower_prob  upper_prob\n",
      "35          2      0.5        0.000000         1         0.8         0.8\n",
      "34          2      0.5      -15.268428         3         0.8         0.6\n",
      "33          2      0.5      -22.373570         3         0.8         0.4\n",
      "11          2      0.3      -58.517649        19         0.4         0.8\n",
      "14          2      0.3      -77.841635        19         0.6         0.8\n"
     ]
    },
    {
     "name": "stderr",
     "output_type": "stream",
     "text": [
      "WARNING:root:Feature \"ticker\" is an array of numpy.object_ and will be casted to numpy.string_ (Note: numpy.string_ is equivalent to numpy.bytes_).\n",
      "[INFO 24-02-14 15:32:52.0287 UTC kernel.cc:1233] Loading model from path /var/tmp/tmp6hfrun28/model/ with prefix 6a79be4cadcf4aa1_0\n",
      "[INFO 24-02-14 15:32:52.0357 UTC quick_scorer_extended.cc:903] The binary was compiled without AVX2 support, but your CPU supports it. Enable it for faster model inference.\n",
      "[INFO 24-02-14 15:32:52.0363 UTC kernel.cc:1061] Use fast generic engine\n",
      "[INFO 24-02-14 15:32:52.0432 UTC kernel.cc:1233] Loading model from path /var/tmp/tmp6hfrun28/model/ with prefix 6a79be4cadcf4aa1_1\n",
      "[INFO 24-02-14 15:32:52.0443 UTC kernel.cc:1061] Use fast generic engine\n",
      "[INFO 24-02-14 15:32:52.0499 UTC kernel.cc:1233] Loading model from path /var/tmp/tmp6hfrun28/model/ with prefix 6a79be4cadcf4aa1_2\n",
      "[INFO 24-02-14 15:32:52.0559 UTC kernel.cc:1061] Use fast generic engine\n"
     ]
    },
    {
     "name": "stdout",
     "output_type": "stream",
     "text": [
      "    t_barrier  barrier  overall_profit  n_trades  lower_prob  upper_prob\n",
      "35          2      0.5        0.000000         1         0.8         0.8\n",
      "34          2      0.5      -15.268428         3         0.8         0.6\n",
      "33          2      0.5      -22.373570         3         0.8         0.4\n",
      "11          2      0.3      -58.517649        19         0.4         0.8\n",
      "14          2      0.3      -77.841635        19         0.6         0.8\n"
     ]
    },
    {
     "name": "stderr",
     "output_type": "stream",
     "text": [
      "WARNING:root:Feature \"ticker\" is an array of numpy.object_ and will be casted to numpy.string_ (Note: numpy.string_ is equivalent to numpy.bytes_).\n",
      "[INFO 24-02-14 15:32:55.6461 UTC kernel.cc:1233] Loading model from path /var/tmp/tmpq79xjink/model/ with prefix 8478660addaf4f22_0\n",
      "[INFO 24-02-14 15:32:55.6538 UTC kernel.cc:1061] Use fast generic engine\n",
      "[INFO 24-02-14 15:32:55.6626 UTC kernel.cc:1233] Loading model from path /var/tmp/tmpq79xjink/model/ with prefix 8478660addaf4f22_1\n",
      "[INFO 24-02-14 15:32:55.6641 UTC kernel.cc:1061] Use fast generic engine\n",
      "[INFO 24-02-14 15:32:55.6705 UTC kernel.cc:1233] Loading model from path /var/tmp/tmpq79xjink/model/ with prefix 8478660addaf4f22_2\n",
      "[INFO 24-02-14 15:32:55.6768 UTC kernel.cc:1061] Use fast generic engine\n"
     ]
    },
    {
     "name": "stdout",
     "output_type": "stream",
     "text": [
      "    t_barrier  barrier  overall_profit  n_trades  lower_prob  upper_prob\n",
      "35          2      0.5        0.000000         1         0.8         0.8\n",
      "34          2      0.5      -15.268428         3         0.8         0.6\n",
      "33          2      0.5      -22.373570         3         0.8         0.4\n",
      "11          2      0.3      -58.517649        19         0.4         0.8\n",
      "14          2      0.3      -77.841635        19         0.6         0.8\n"
     ]
    },
    {
     "name": "stderr",
     "output_type": "stream",
     "text": [
      "WARNING:root:Feature \"ticker\" is an array of numpy.object_ and will be casted to numpy.string_ (Note: numpy.string_ is equivalent to numpy.bytes_).\n",
      "[INFO 24-02-14 15:32:59.3265 UTC kernel.cc:1233] Loading model from path /var/tmp/tmpg53gwoda/model/ with prefix 36956c5cb6194d4a_0\n",
      "[INFO 24-02-14 15:32:59.3340 UTC abstract_model.cc:1344] Engine \"GradientBoostedTreesQuickScorerExtended\" built\n",
      "[INFO 24-02-14 15:32:59.3342 UTC kernel.cc:1061] Use fast generic engine\n",
      "[INFO 24-02-14 15:32:59.3412 UTC kernel.cc:1233] Loading model from path /var/tmp/tmpg53gwoda/model/ with prefix 36956c5cb6194d4a_1\n",
      "[INFO 24-02-14 15:32:59.3424 UTC kernel.cc:1061] Use fast generic engine\n",
      "[INFO 24-02-14 15:32:59.3484 UTC kernel.cc:1233] Loading model from path /var/tmp/tmpg53gwoda/model/ with prefix 36956c5cb6194d4a_2\n",
      "[INFO 24-02-14 15:32:59.3546 UTC kernel.cc:1061] Use fast generic engine\n"
     ]
    },
    {
     "name": "stdout",
     "output_type": "stream",
     "text": [
      "    t_barrier  barrier  overall_profit  n_trades  lower_prob  upper_prob\n",
      "35          2      0.5        0.000000         1         0.8         0.8\n",
      "34          2      0.5      -15.268428         3         0.8         0.6\n",
      "33          2      0.5      -22.373570         3         0.8         0.4\n",
      "11          2      0.3      -58.517649        19         0.4         0.8\n",
      "14          2      0.3      -77.841635        19         0.6         0.8\n"
     ]
    },
    {
     "name": "stderr",
     "output_type": "stream",
     "text": [
      "WARNING:root:Feature \"ticker\" is an array of numpy.object_ and will be casted to numpy.string_ (Note: numpy.string_ is equivalent to numpy.bytes_).\n",
      "[INFO 24-02-14 15:33:02.9949 UTC kernel.cc:1233] Loading model from path /var/tmp/tmpk3mbi08_/model/ with prefix afe94aa8a53242fd_0\n",
      "[INFO 24-02-14 15:33:03.0022 UTC kernel.cc:1061] Use fast generic engine\n",
      "[INFO 24-02-14 15:33:03.0092 UTC kernel.cc:1233] Loading model from path /var/tmp/tmpk3mbi08_/model/ with prefix afe94aa8a53242fd_1\n",
      "[INFO 24-02-14 15:33:03.0103 UTC kernel.cc:1061] Use fast generic engine\n",
      "[INFO 24-02-14 15:33:03.0163 UTC kernel.cc:1233] Loading model from path /var/tmp/tmpk3mbi08_/model/ with prefix afe94aa8a53242fd_2\n",
      "[INFO 24-02-14 15:33:03.0221 UTC kernel.cc:1061] Use fast generic engine\n"
     ]
    },
    {
     "name": "stdout",
     "output_type": "stream",
     "text": [
      "    t_barrier  barrier  overall_profit  n_trades  lower_prob  upper_prob\n",
      "35          2      0.5        0.000000         1         0.8         0.8\n",
      "34          2      0.5      -15.268428         3         0.8         0.6\n",
      "33          2      0.5      -22.373570         3         0.8         0.4\n",
      "11          2      0.3      -58.517649        19         0.4         0.8\n",
      "14          2      0.3      -77.841635        19         0.6         0.8\n"
     ]
    },
    {
     "name": "stderr",
     "output_type": "stream",
     "text": [
      "WARNING:root:Feature \"ticker\" is an array of numpy.object_ and will be casted to numpy.string_ (Note: numpy.string_ is equivalent to numpy.bytes_).\n",
      "[INFO 24-02-14 15:33:06.6610 UTC kernel.cc:1233] Loading model from path /var/tmp/tmpl96w2m9u/model/ with prefix 75251bdbb6b24d59_0\n",
      "[INFO 24-02-14 15:33:06.6684 UTC kernel.cc:1061] Use fast generic engine\n",
      "[INFO 24-02-14 15:33:06.6752 UTC kernel.cc:1233] Loading model from path /var/tmp/tmpl96w2m9u/model/ with prefix 75251bdbb6b24d59_1\n",
      "[INFO 24-02-14 15:33:06.6764 UTC kernel.cc:1061] Use fast generic engine\n",
      "[INFO 24-02-14 15:33:06.6819 UTC kernel.cc:1233] Loading model from path /var/tmp/tmpl96w2m9u/model/ with prefix 75251bdbb6b24d59_2\n",
      "[INFO 24-02-14 15:33:06.6876 UTC kernel.cc:1061] Use fast generic engine\n"
     ]
    },
    {
     "name": "stdout",
     "output_type": "stream",
     "text": [
      "    t_barrier  barrier  overall_profit  n_trades  lower_prob  upper_prob\n",
      "35          2      0.5        0.000000         1         0.8         0.8\n",
      "34          2      0.5      -15.268428         3         0.8         0.6\n",
      "33          2      0.5      -22.373570         3         0.8         0.4\n",
      "11          2      0.3      -58.517649        19         0.4         0.8\n",
      "14          2      0.3      -77.841635        19         0.6         0.8\n"
     ]
    },
    {
     "name": "stderr",
     "output_type": "stream",
     "text": [
      "WARNING:root:Feature \"ticker\" is an array of numpy.object_ and will be casted to numpy.string_ (Note: numpy.string_ is equivalent to numpy.bytes_).\n",
      "[INFO 24-02-14 15:33:10.3058 UTC kernel.cc:1233] Loading model from path /var/tmp/tmpwf5dt4zm/model/ with prefix e5e0c25a33d24eec_0\n",
      "[INFO 24-02-14 15:33:10.3132 UTC abstract_model.cc:1344] Engine \"GradientBoostedTreesQuickScorerExtended\" built\n",
      "[INFO 24-02-14 15:33:10.3134 UTC kernel.cc:1061] Use fast generic engine\n",
      "[INFO 24-02-14 15:33:10.3203 UTC kernel.cc:1233] Loading model from path /var/tmp/tmpwf5dt4zm/model/ with prefix e5e0c25a33d24eec_1\n",
      "[INFO 24-02-14 15:33:10.3216 UTC kernel.cc:1061] Use fast generic engine\n",
      "[INFO 24-02-14 15:33:10.3273 UTC kernel.cc:1233] Loading model from path /var/tmp/tmpwf5dt4zm/model/ with prefix e5e0c25a33d24eec_2\n",
      "[INFO 24-02-14 15:33:10.3331 UTC kernel.cc:1061] Use fast generic engine\n"
     ]
    },
    {
     "name": "stdout",
     "output_type": "stream",
     "text": [
      "    t_barrier  barrier  overall_profit  n_trades  lower_prob  upper_prob\n",
      "35          2      0.5        0.000000         1         0.8         0.8\n",
      "34          2      0.5      -15.268428         3         0.8         0.6\n",
      "33          2      0.5      -22.373570         3         0.8         0.4\n",
      "11          2      0.3      -58.517649        19         0.4         0.8\n",
      "14          2      0.3      -77.841635        19         0.6         0.8\n"
     ]
    },
    {
     "name": "stderr",
     "output_type": "stream",
     "text": [
      "WARNING:root:Feature \"ticker\" is an array of numpy.object_ and will be casted to numpy.string_ (Note: numpy.string_ is equivalent to numpy.bytes_).\n",
      "[INFO 24-02-14 15:33:13.8992 UTC kernel.cc:1233] Loading model from path /var/tmp/tmpdfnliqal/model/ with prefix c172998e8cd84adc_0\n",
      "[INFO 24-02-14 15:33:13.9064 UTC kernel.cc:1061] Use fast generic engine\n",
      "[INFO 24-02-14 15:33:13.9136 UTC kernel.cc:1233] Loading model from path /var/tmp/tmpdfnliqal/model/ with prefix c172998e8cd84adc_1\n",
      "[INFO 24-02-14 15:33:13.9146 UTC kernel.cc:1061] Use fast generic engine\n",
      "[INFO 24-02-14 15:33:13.9203 UTC kernel.cc:1233] Loading model from path /var/tmp/tmpdfnliqal/model/ with prefix c172998e8cd84adc_2\n",
      "[INFO 24-02-14 15:33:13.9261 UTC kernel.cc:1061] Use fast generic engine\n"
     ]
    },
    {
     "name": "stdout",
     "output_type": "stream",
     "text": [
      "    t_barrier  barrier  overall_profit  n_trades  lower_prob  upper_prob\n",
      "35          2      0.5        0.000000         1         0.8         0.8\n",
      "34          2      0.5      -15.268428         3         0.8         0.6\n",
      "33          2      0.5      -22.373570         3         0.8         0.4\n",
      "11          2      0.3      -58.517649        19         0.4         0.8\n",
      "14          2      0.3      -77.841635        19         0.6         0.8\n"
     ]
    },
    {
     "name": "stderr",
     "output_type": "stream",
     "text": [
      "WARNING:root:Feature \"ticker\" is an array of numpy.object_ and will be casted to numpy.string_ (Note: numpy.string_ is equivalent to numpy.bytes_).\n",
      "[INFO 24-02-14 15:33:17.5089 UTC kernel.cc:1233] Loading model from path /var/tmp/tmpsog1m0gu/model/ with prefix f3eeb0a7264b44cc_0\n",
      "[INFO 24-02-14 15:33:17.5161 UTC kernel.cc:1061] Use fast generic engine\n",
      "[INFO 24-02-14 15:33:17.5228 UTC kernel.cc:1233] Loading model from path /var/tmp/tmpsog1m0gu/model/ with prefix f3eeb0a7264b44cc_1\n",
      "[INFO 24-02-14 15:33:17.5240 UTC kernel.cc:1061] Use fast generic engine\n",
      "[INFO 24-02-14 15:33:17.5300 UTC kernel.cc:1233] Loading model from path /var/tmp/tmpsog1m0gu/model/ with prefix f3eeb0a7264b44cc_2\n",
      "[INFO 24-02-14 15:33:17.5361 UTC kernel.cc:1061] Use fast generic engine\n"
     ]
    },
    {
     "name": "stdout",
     "output_type": "stream",
     "text": [
      "    t_barrier  barrier  overall_profit  n_trades  lower_prob  upper_prob\n",
      "35          2      0.5        0.000000         1         0.8         0.8\n",
      "34          2      0.5      -15.268428         3         0.8         0.6\n",
      "33          2      0.5      -22.373570         3         0.8         0.4\n",
      "11          2      0.3      -58.517649        19         0.4         0.8\n",
      "14          2      0.3      -77.841635        19         0.6         0.8\n"
     ]
    },
    {
     "name": "stderr",
     "output_type": "stream",
     "text": [
      "WARNING:root:Feature \"ticker\" is an array of numpy.object_ and will be casted to numpy.string_ (Note: numpy.string_ is equivalent to numpy.bytes_).\n",
      "[INFO 24-02-14 15:33:21.4557 UTC kernel.cc:1233] Loading model from path /var/tmp/tmpj0vicudw/model/ with prefix 62aebcca3b614a24_0\n",
      "[INFO 24-02-14 15:33:21.4654 UTC abstract_model.cc:1344] Engine \"GradientBoostedTreesQuickScorerExtended\" built\n",
      "[INFO 24-02-14 15:33:21.4656 UTC kernel.cc:1061] Use fast generic engine\n",
      "[INFO 24-02-14 15:33:21.4728 UTC kernel.cc:1233] Loading model from path /var/tmp/tmpj0vicudw/model/ with prefix 62aebcca3b614a24_1\n",
      "[INFO 24-02-14 15:33:21.4756 UTC kernel.cc:1061] Use fast generic engine\n",
      "[INFO 24-02-14 15:33:21.4816 UTC kernel.cc:1233] Loading model from path /var/tmp/tmpj0vicudw/model/ with prefix 62aebcca3b614a24_2\n",
      "[INFO 24-02-14 15:33:21.4922 UTC kernel.cc:1061] Use fast generic engine\n"
     ]
    },
    {
     "name": "stdout",
     "output_type": "stream",
     "text": [
      "    t_barrier  barrier  overall_profit  n_trades  lower_prob  upper_prob\n",
      "35          2      0.5        0.000000         1         0.8         0.8\n",
      "34          2      0.5      -15.268428         3         0.8         0.6\n",
      "33          2      0.5      -22.373570         3         0.8         0.4\n",
      "11          2      0.3      -58.517649        19         0.4         0.8\n",
      "14          2      0.3      -77.841635        19         0.6         0.8\n"
     ]
    },
    {
     "name": "stderr",
     "output_type": "stream",
     "text": [
      "WARNING:root:Feature \"ticker\" is an array of numpy.object_ and will be casted to numpy.string_ (Note: numpy.string_ is equivalent to numpy.bytes_).\n",
      "[INFO 24-02-14 15:33:25.3903 UTC kernel.cc:1233] Loading model from path /var/tmp/tmppqf4aw0h/model/ with prefix 496f6838c4994e7a_0\n",
      "[INFO 24-02-14 15:33:25.3995 UTC quick_scorer_extended.cc:903] The binary was compiled without AVX2 support, but your CPU supports it. Enable it for faster model inference.\n",
      "[INFO 24-02-14 15:33:25.4001 UTC kernel.cc:1061] Use fast generic engine\n",
      "[INFO 24-02-14 15:33:25.4070 UTC kernel.cc:1233] Loading model from path /var/tmp/tmppqf4aw0h/model/ with prefix 496f6838c4994e7a_1\n",
      "[INFO 24-02-14 15:33:25.4098 UTC kernel.cc:1061] Use fast generic engine\n",
      "[INFO 24-02-14 15:33:25.4157 UTC kernel.cc:1233] Loading model from path /var/tmp/tmppqf4aw0h/model/ with prefix 496f6838c4994e7a_2\n",
      "[INFO 24-02-14 15:33:25.4260 UTC kernel.cc:1061] Use fast generic engine\n"
     ]
    },
    {
     "name": "stdout",
     "output_type": "stream",
     "text": [
      "    t_barrier  barrier  overall_profit  n_trades  lower_prob  upper_prob\n",
      "35          2      0.5        0.000000         1         0.8         0.8\n",
      "34          2      0.5      -15.268428         3         0.8         0.6\n",
      "33          2      0.5      -22.373570         3         0.8         0.4\n",
      "11          2      0.3      -58.517649        19         0.4         0.8\n",
      "14          2      0.3      -77.841635        19         0.6         0.8\n"
     ]
    },
    {
     "name": "stderr",
     "output_type": "stream",
     "text": [
      "WARNING:root:Feature \"ticker\" is an array of numpy.object_ and will be casted to numpy.string_ (Note: numpy.string_ is equivalent to numpy.bytes_).\n",
      "[INFO 24-02-14 15:33:29.4054 UTC kernel.cc:1233] Loading model from path /var/tmp/tmp0ydvn5z_/model/ with prefix 197665cf4dff4b6f_0\n",
      "[INFO 24-02-14 15:33:29.4149 UTC kernel.cc:1061] Use fast generic engine\n",
      "[INFO 24-02-14 15:33:29.4222 UTC kernel.cc:1233] Loading model from path /var/tmp/tmp0ydvn5z_/model/ with prefix 197665cf4dff4b6f_1\n",
      "[INFO 24-02-14 15:33:29.4250 UTC kernel.cc:1061] Use fast generic engine\n",
      "[INFO 24-02-14 15:33:29.4310 UTC kernel.cc:1233] Loading model from path /var/tmp/tmp0ydvn5z_/model/ with prefix 197665cf4dff4b6f_2\n",
      "[INFO 24-02-14 15:33:29.4415 UTC kernel.cc:1061] Use fast generic engine\n"
     ]
    },
    {
     "name": "stdout",
     "output_type": "stream",
     "text": [
      "    t_barrier  barrier  overall_profit  n_trades  lower_prob  upper_prob\n",
      "35          2      0.5        0.000000         1         0.8         0.8\n",
      "34          2      0.5      -15.268428         3         0.8         0.6\n",
      "33          2      0.5      -22.373570         3         0.8         0.4\n",
      "11          2      0.3      -58.517649        19         0.4         0.8\n",
      "14          2      0.3      -77.841635        19         0.6         0.8\n"
     ]
    },
    {
     "name": "stderr",
     "output_type": "stream",
     "text": [
      "WARNING:root:Feature \"ticker\" is an array of numpy.object_ and will be casted to numpy.string_ (Note: numpy.string_ is equivalent to numpy.bytes_).\n",
      "[INFO 24-02-14 15:33:33.4525 UTC kernel.cc:1233] Loading model from path /var/tmp/tmplwqtt9xs/model/ with prefix 60375884da4b46b1_0\n",
      "[INFO 24-02-14 15:33:33.4627 UTC abstract_model.cc:1344] Engine \"GradientBoostedTreesQuickScorerExtended\" built\n",
      "[INFO 24-02-14 15:33:33.4630 UTC kernel.cc:1061] Use fast generic engine\n",
      "[INFO 24-02-14 15:33:33.4710 UTC kernel.cc:1233] Loading model from path /var/tmp/tmplwqtt9xs/model/ with prefix 60375884da4b46b1_1\n",
      "[INFO 24-02-14 15:33:33.4739 UTC kernel.cc:1061] Use fast generic engine\n",
      "[INFO 24-02-14 15:33:33.4803 UTC kernel.cc:1233] Loading model from path /var/tmp/tmplwqtt9xs/model/ with prefix 60375884da4b46b1_2\n",
      "[INFO 24-02-14 15:33:33.4921 UTC kernel.cc:1061] Use fast generic engine\n"
     ]
    },
    {
     "name": "stdout",
     "output_type": "stream",
     "text": [
      "    t_barrier  barrier  overall_profit  n_trades  lower_prob  upper_prob\n",
      "35          2      0.5        0.000000         1         0.8         0.8\n",
      "34          2      0.5      -15.268428         3         0.8         0.6\n",
      "33          2      0.5      -22.373570         3         0.8         0.4\n",
      "11          2      0.3      -58.517649        19         0.4         0.8\n",
      "14          2      0.3      -77.841635        19         0.6         0.8\n"
     ]
    },
    {
     "name": "stderr",
     "output_type": "stream",
     "text": [
      "WARNING:root:Feature \"ticker\" is an array of numpy.object_ and will be casted to numpy.string_ (Note: numpy.string_ is equivalent to numpy.bytes_).\n",
      "[INFO 24-02-14 15:33:37.3971 UTC kernel.cc:1233] Loading model from path /var/tmp/tmpmlyngjme/model/ with prefix f8e1f4fbddcc4f47_0\n",
      "[INFO 24-02-14 15:33:37.4069 UTC kernel.cc:1061] Use fast generic engine\n",
      "[INFO 24-02-14 15:33:37.4142 UTC kernel.cc:1233] Loading model from path /var/tmp/tmpmlyngjme/model/ with prefix f8e1f4fbddcc4f47_1\n",
      "[INFO 24-02-14 15:33:37.4170 UTC kernel.cc:1061] Use fast generic engine\n",
      "[INFO 24-02-14 15:33:37.4228 UTC kernel.cc:1233] Loading model from path /var/tmp/tmpmlyngjme/model/ with prefix f8e1f4fbddcc4f47_2\n",
      "[INFO 24-02-14 15:33:37.4333 UTC kernel.cc:1061] Use fast generic engine\n"
     ]
    },
    {
     "name": "stdout",
     "output_type": "stream",
     "text": [
      "    t_barrier  barrier  overall_profit  n_trades  lower_prob  upper_prob\n",
      "35          2      0.5        0.000000         1         0.8         0.8\n",
      "34          2      0.5      -15.268428         3         0.8         0.6\n",
      "33          2      0.5      -22.373570         3         0.8         0.4\n",
      "11          2      0.3      -58.517649        19         0.4         0.8\n",
      "14          2      0.3      -77.841635        19         0.6         0.8\n"
     ]
    },
    {
     "name": "stderr",
     "output_type": "stream",
     "text": [
      "WARNING:root:Feature \"ticker\" is an array of numpy.object_ and will be casted to numpy.string_ (Note: numpy.string_ is equivalent to numpy.bytes_).\n",
      "[INFO 24-02-14 15:33:43.0276 UTC kernel.cc:1233] Loading model from path /var/tmp/tmpc4f3wmdx/model/ with prefix 2ee9bbe772184c8d_0\n",
      "[INFO 24-02-14 15:33:43.0396 UTC kernel.cc:1061] Use fast generic engine\n",
      "[INFO 24-02-14 15:33:43.0476 UTC kernel.cc:1233] Loading model from path /var/tmp/tmpc4f3wmdx/model/ with prefix 2ee9bbe772184c8d_1\n",
      "[INFO 24-02-14 15:33:43.0509 UTC kernel.cc:1061] Use fast generic engine\n",
      "[INFO 24-02-14 15:33:43.0574 UTC kernel.cc:1233] Loading model from path /var/tmp/tmpc4f3wmdx/model/ with prefix 2ee9bbe772184c8d_2\n",
      "[INFO 24-02-14 15:33:43.0707 UTC kernel.cc:1061] Use fast generic engine\n"
     ]
    },
    {
     "name": "stdout",
     "output_type": "stream",
     "text": [
      "    t_barrier  barrier  overall_profit  n_trades  lower_prob  upper_prob\n",
      "35          2      0.5        0.000000         1         0.8         0.8\n",
      "34          2      0.5      -15.268428         3         0.8         0.6\n",
      "33          2      0.5      -22.373570         3         0.8         0.4\n",
      "11          2      0.3      -58.517649        19         0.4         0.8\n",
      "14          2      0.3      -77.841635        19         0.6         0.8\n"
     ]
    },
    {
     "name": "stderr",
     "output_type": "stream",
     "text": [
      "WARNING:root:Feature \"ticker\" is an array of numpy.object_ and will be casted to numpy.string_ (Note: numpy.string_ is equivalent to numpy.bytes_).\n",
      "[INFO 24-02-14 15:33:47.1367 UTC kernel.cc:1233] Loading model from path /var/tmp/tmpx3fku9fz/model/ with prefix 1bc54e55d8cf4c73_0\n",
      "[INFO 24-02-14 15:33:47.1475 UTC abstract_model.cc:1344] Engine \"GradientBoostedTreesQuickScorerExtended\" built\n",
      "[INFO 24-02-14 15:33:47.1476 UTC kernel.cc:1061] Use fast generic engine\n",
      "[INFO 24-02-14 15:33:47.1560 UTC kernel.cc:1233] Loading model from path /var/tmp/tmpx3fku9fz/model/ with prefix 1bc54e55d8cf4c73_1\n",
      "[INFO 24-02-14 15:33:47.1591 UTC kernel.cc:1061] Use fast generic engine\n",
      "[INFO 24-02-14 15:33:47.1654 UTC kernel.cc:1233] Loading model from path /var/tmp/tmpx3fku9fz/model/ with prefix 1bc54e55d8cf4c73_2\n",
      "[INFO 24-02-14 15:33:47.1772 UTC kernel.cc:1061] Use fast generic engine\n"
     ]
    },
    {
     "name": "stdout",
     "output_type": "stream",
     "text": [
      "    t_barrier  barrier  overall_profit  n_trades  lower_prob  upper_prob\n",
      "35          2      0.5        0.000000         1         0.8         0.8\n",
      "34          2      0.5      -15.268428         3         0.8         0.6\n",
      "33          2      0.5      -22.373570         3         0.8         0.4\n",
      "11          2      0.3      -58.517649        19         0.4         0.8\n",
      "14          2      0.3      -77.841635        19         0.6         0.8\n"
     ]
    },
    {
     "name": "stderr",
     "output_type": "stream",
     "text": [
      "WARNING:root:Feature \"ticker\" is an array of numpy.object_ and will be casted to numpy.string_ (Note: numpy.string_ is equivalent to numpy.bytes_).\n",
      "[INFO 24-02-14 15:33:51.1578 UTC kernel.cc:1233] Loading model from path /var/tmp/tmpdkx44x2z/model/ with prefix 53e1f31b21e4408a_0\n",
      "[INFO 24-02-14 15:33:51.1690 UTC kernel.cc:1061] Use fast generic engine\n",
      "[INFO 24-02-14 15:33:51.1778 UTC kernel.cc:1233] Loading model from path /var/tmp/tmpdkx44x2z/model/ with prefix 53e1f31b21e4408a_1\n",
      "[INFO 24-02-14 15:33:51.1811 UTC kernel.cc:1061] Use fast generic engine\n",
      "[INFO 24-02-14 15:33:51.1880 UTC kernel.cc:1233] Loading model from path /var/tmp/tmpdkx44x2z/model/ with prefix 53e1f31b21e4408a_2\n",
      "[INFO 24-02-14 15:33:51.2005 UTC kernel.cc:1061] Use fast generic engine\n"
     ]
    },
    {
     "name": "stdout",
     "output_type": "stream",
     "text": [
      "    t_barrier  barrier  overall_profit  n_trades  lower_prob  upper_prob\n",
      "35          2      0.5        0.000000         1         0.8         0.8\n",
      "34          2      0.5      -15.268428         3         0.8         0.6\n",
      "33          2      0.5      -22.373570         3         0.8         0.4\n",
      "11          2      0.3      -58.517649        19         0.4         0.8\n",
      "14          2      0.3      -77.841635        19         0.6         0.8\n"
     ]
    },
    {
     "name": "stderr",
     "output_type": "stream",
     "text": [
      "WARNING:root:Feature \"ticker\" is an array of numpy.object_ and will be casted to numpy.string_ (Note: numpy.string_ is equivalent to numpy.bytes_).\n",
      "[INFO 24-02-14 15:33:55.1987 UTC kernel.cc:1233] Loading model from path /var/tmp/tmpn2bwx4gm/model/ with prefix c18546cf93a946f8_0\n",
      "[INFO 24-02-14 15:33:55.2086 UTC kernel.cc:1061] Use fast generic engine\n",
      "[INFO 24-02-14 15:33:55.2163 UTC kernel.cc:1233] Loading model from path /var/tmp/tmpn2bwx4gm/model/ with prefix c18546cf93a946f8_1\n",
      "[INFO 24-02-14 15:33:55.2192 UTC kernel.cc:1061] Use fast generic engine\n",
      "[INFO 24-02-14 15:33:55.2255 UTC kernel.cc:1233] Loading model from path /var/tmp/tmpn2bwx4gm/model/ with prefix c18546cf93a946f8_2\n",
      "[INFO 24-02-14 15:33:55.2366 UTC kernel.cc:1061] Use fast generic engine\n"
     ]
    },
    {
     "name": "stdout",
     "output_type": "stream",
     "text": [
      "    t_barrier  barrier  overall_profit  n_trades  lower_prob  upper_prob\n",
      "35          2      0.5        0.000000         1         0.8         0.8\n",
      "34          2      0.5      -15.268428         3         0.8         0.6\n",
      "33          2      0.5      -22.373570         3         0.8         0.4\n",
      "11          2      0.3      -58.517649        19         0.4         0.8\n",
      "14          2      0.3      -77.841635        19         0.6         0.8\n"
     ]
    },
    {
     "name": "stderr",
     "output_type": "stream",
     "text": [
      "WARNING:root:Feature \"ticker\" is an array of numpy.object_ and will be casted to numpy.string_ (Note: numpy.string_ is equivalent to numpy.bytes_).\n",
      "[INFO 24-02-14 15:33:59.0193 UTC kernel.cc:1233] Loading model from path /var/tmp/tmpgh9i2sz2/model/ with prefix 8c4a11ad8e134119_0\n",
      "[INFO 24-02-14 15:33:59.0263 UTC quick_scorer_extended.cc:903] The binary was compiled without AVX2 support, but your CPU supports it. Enable it for faster model inference.\n",
      "[INFO 24-02-14 15:33:59.0268 UTC abstract_model.cc:1344] Engine \"GradientBoostedTreesQuickScorerExtended\" built\n",
      "[INFO 24-02-14 15:33:59.0270 UTC kernel.cc:1061] Use fast generic engine\n",
      "[INFO 24-02-14 15:33:59.0359 UTC kernel.cc:1233] Loading model from path /var/tmp/tmpgh9i2sz2/model/ with prefix 8c4a11ad8e134119_1\n",
      "[INFO 24-02-14 15:33:59.0376 UTC kernel.cc:1061] Use fast generic engine\n",
      "[INFO 24-02-14 15:33:59.0436 UTC kernel.cc:1233] Loading model from path /var/tmp/tmpgh9i2sz2/model/ with prefix 8c4a11ad8e134119_2\n",
      "[INFO 24-02-14 15:33:59.0524 UTC kernel.cc:1061] Use fast generic engine\n"
     ]
    },
    {
     "name": "stdout",
     "output_type": "stream",
     "text": [
      "    t_barrier  barrier  overall_profit  n_trades  lower_prob  upper_prob\n",
      "35          2      0.5        0.000000         1         0.8         0.8\n",
      "34          2      0.5      -15.268428         3         0.8         0.6\n",
      "33          2      0.5      -22.373570         3         0.8         0.4\n",
      "11          2      0.3      -58.517649        19         0.4         0.8\n",
      "14          2      0.3      -77.841635        19         0.6         0.8\n"
     ]
    },
    {
     "name": "stderr",
     "output_type": "stream",
     "text": [
      "WARNING:root:Feature \"ticker\" is an array of numpy.object_ and will be casted to numpy.string_ (Note: numpy.string_ is equivalent to numpy.bytes_).\n",
      "[INFO 24-02-14 15:34:02.9233 UTC kernel.cc:1233] Loading model from path /var/tmp/tmps6scq35g/model/ with prefix 6ede4fc50e914178_0\n",
      "[INFO 24-02-14 15:34:02.9309 UTC kernel.cc:1061] Use fast generic engine\n",
      "[INFO 24-02-14 15:34:02.9389 UTC kernel.cc:1233] Loading model from path /var/tmp/tmps6scq35g/model/ with prefix 6ede4fc50e914178_1\n",
      "[INFO 24-02-14 15:34:02.9407 UTC kernel.cc:1061] Use fast generic engine\n",
      "[INFO 24-02-14 15:34:02.9476 UTC kernel.cc:1233] Loading model from path /var/tmp/tmps6scq35g/model/ with prefix 6ede4fc50e914178_2\n",
      "[INFO 24-02-14 15:34:02.9570 UTC kernel.cc:1061] Use fast generic engine\n"
     ]
    },
    {
     "name": "stdout",
     "output_type": "stream",
     "text": [
      "    t_barrier  barrier  overall_profit  n_trades  lower_prob  upper_prob\n",
      "35          2      0.5        0.000000         1         0.8         0.8\n",
      "34          2      0.5      -15.268428         3         0.8         0.6\n",
      "33          2      0.5      -22.373570         3         0.8         0.4\n",
      "11          2      0.3      -58.517649        19         0.4         0.8\n",
      "14          2      0.3      -77.841635        19         0.6         0.8\n"
     ]
    },
    {
     "name": "stderr",
     "output_type": "stream",
     "text": [
      "WARNING:root:Feature \"ticker\" is an array of numpy.object_ and will be casted to numpy.string_ (Note: numpy.string_ is equivalent to numpy.bytes_).\n",
      "[INFO 24-02-14 15:34:07.8457 UTC kernel.cc:1233] Loading model from path /var/tmp/tmpv0bqj5b6/model/ with prefix ea47e560adef48d4_0\n",
      "[INFO 24-02-14 15:34:07.8533 UTC kernel.cc:1061] Use fast generic engine\n",
      "[INFO 24-02-14 15:34:07.8610 UTC kernel.cc:1233] Loading model from path /var/tmp/tmpv0bqj5b6/model/ with prefix ea47e560adef48d4_1\n",
      "[INFO 24-02-14 15:34:07.8626 UTC kernel.cc:1061] Use fast generic engine\n",
      "[INFO 24-02-14 15:34:07.8686 UTC kernel.cc:1233] Loading model from path /var/tmp/tmpv0bqj5b6/model/ with prefix ea47e560adef48d4_2\n",
      "[INFO 24-02-14 15:34:07.8773 UTC kernel.cc:1061] Use fast generic engine\n"
     ]
    },
    {
     "name": "stdout",
     "output_type": "stream",
     "text": [
      "    t_barrier  barrier  overall_profit  n_trades  lower_prob  upper_prob\n",
      "35          2      0.5        0.000000         1         0.8         0.8\n",
      "34          2      0.5      -15.268428         3         0.8         0.6\n",
      "33          2      0.5      -22.373570         3         0.8         0.4\n",
      "11          2      0.3      -58.517649        19         0.4         0.8\n",
      "14          2      0.3      -77.841635        19         0.6         0.8\n"
     ]
    },
    {
     "name": "stderr",
     "output_type": "stream",
     "text": [
      "WARNING:root:Feature \"ticker\" is an array of numpy.object_ and will be casted to numpy.string_ (Note: numpy.string_ is equivalent to numpy.bytes_).\n",
      "[INFO 24-02-14 15:34:11.6776 UTC kernel.cc:1233] Loading model from path /var/tmp/tmphhbjmgdk/model/ with prefix 101e4afa950b4f87_0\n",
      "[INFO 24-02-14 15:34:11.6855 UTC abstract_model.cc:1344] Engine \"GradientBoostedTreesQuickScorerExtended\" built\n",
      "[INFO 24-02-14 15:34:11.6857 UTC kernel.cc:1061] Use fast generic engine\n",
      "[INFO 24-02-14 15:34:11.6938 UTC kernel.cc:1233] Loading model from path /var/tmp/tmphhbjmgdk/model/ with prefix 101e4afa950b4f87_1\n",
      "[INFO 24-02-14 15:34:11.6955 UTC kernel.cc:1061] Use fast generic engine\n",
      "[INFO 24-02-14 15:34:11.7017 UTC kernel.cc:1233] Loading model from path /var/tmp/tmphhbjmgdk/model/ with prefix 101e4afa950b4f87_2\n",
      "[INFO 24-02-14 15:34:11.7115 UTC kernel.cc:1061] Use fast generic engine\n"
     ]
    },
    {
     "name": "stdout",
     "output_type": "stream",
     "text": [
      "    t_barrier  barrier  overall_profit  n_trades  lower_prob  upper_prob\n",
      "35          2      0.5        0.000000         1         0.8         0.8\n",
      "34          2      0.5      -15.268428         3         0.8         0.6\n",
      "33          2      0.5      -22.373570         3         0.8         0.4\n",
      "11          2      0.3      -58.517649        19         0.4         0.8\n",
      "14          2      0.3      -77.841635        19         0.6         0.8\n"
     ]
    },
    {
     "name": "stderr",
     "output_type": "stream",
     "text": [
      "WARNING:root:Feature \"ticker\" is an array of numpy.object_ and will be casted to numpy.string_ (Note: numpy.string_ is equivalent to numpy.bytes_).\n",
      "[INFO 24-02-14 15:34:15.5201 UTC kernel.cc:1233] Loading model from path /var/tmp/tmps80i92f6/model/ with prefix 50e2773b4e97454d_0\n",
      "[INFO 24-02-14 15:34:15.5270 UTC kernel.cc:1061] Use fast generic engine\n",
      "[INFO 24-02-14 15:34:15.5342 UTC kernel.cc:1233] Loading model from path /var/tmp/tmps80i92f6/model/ with prefix 50e2773b4e97454d_1\n",
      "[INFO 24-02-14 15:34:15.5358 UTC kernel.cc:1061] Use fast generic engine\n",
      "[INFO 24-02-14 15:34:15.5419 UTC kernel.cc:1233] Loading model from path /var/tmp/tmps80i92f6/model/ with prefix 50e2773b4e97454d_2\n",
      "[INFO 24-02-14 15:34:15.5506 UTC kernel.cc:1061] Use fast generic engine\n"
     ]
    },
    {
     "name": "stdout",
     "output_type": "stream",
     "text": [
      "    t_barrier  barrier  overall_profit  n_trades  lower_prob  upper_prob\n",
      "35          2      0.5        0.000000         1         0.8         0.8\n",
      "34          2      0.5      -15.268428         3         0.8         0.6\n",
      "33          2      0.5      -22.373570         3         0.8         0.4\n",
      "11          2      0.3      -58.517649        19         0.4         0.8\n",
      "14          2      0.3      -77.841635        19         0.6         0.8\n"
     ]
    },
    {
     "name": "stderr",
     "output_type": "stream",
     "text": [
      "WARNING:root:Feature \"ticker\" is an array of numpy.object_ and will be casted to numpy.string_ (Note: numpy.string_ is equivalent to numpy.bytes_).\n",
      "[INFO 24-02-14 15:34:19.3414 UTC kernel.cc:1233] Loading model from path /var/tmp/tmp2w9k5ns9/model/ with prefix c3ac8900d1e344d2_0\n",
      "[INFO 24-02-14 15:34:19.3489 UTC kernel.cc:1061] Use fast generic engine\n",
      "[INFO 24-02-14 15:34:19.3560 UTC kernel.cc:1233] Loading model from path /var/tmp/tmp2w9k5ns9/model/ with prefix c3ac8900d1e344d2_1\n",
      "[INFO 24-02-14 15:34:19.3575 UTC kernel.cc:1061] Use fast generic engine\n",
      "[INFO 24-02-14 15:34:19.3633 UTC kernel.cc:1233] Loading model from path /var/tmp/tmp2w9k5ns9/model/ with prefix c3ac8900d1e344d2_2\n",
      "[INFO 24-02-14 15:34:19.3722 UTC kernel.cc:1061] Use fast generic engine\n"
     ]
    },
    {
     "name": "stdout",
     "output_type": "stream",
     "text": [
      "    t_barrier  barrier  overall_profit  n_trades  lower_prob  upper_prob\n",
      "35          2      0.5        0.000000         1         0.8         0.8\n",
      "34          2      0.5      -15.268428         3         0.8         0.6\n",
      "33          2      0.5      -22.373570         3         0.8         0.4\n",
      "11          2      0.3      -58.517649        19         0.4         0.8\n",
      "14          2      0.3      -77.841635        19         0.6         0.8\n"
     ]
    },
    {
     "name": "stderr",
     "output_type": "stream",
     "text": [
      "WARNING:root:Feature \"ticker\" is an array of numpy.object_ and will be casted to numpy.string_ (Note: numpy.string_ is equivalent to numpy.bytes_).\n",
      "[INFO 24-02-14 15:34:23.0970 UTC kernel.cc:1233] Loading model from path /var/tmp/tmpe5duubq3/model/ with prefix dd790ab4429c4e91_0\n",
      "[INFO 24-02-14 15:34:23.1038 UTC abstract_model.cc:1344] Engine \"GradientBoostedTreesQuickScorerExtended\" built\n",
      "[INFO 24-02-14 15:34:23.1039 UTC kernel.cc:1061] Use fast generic engine\n",
      "[INFO 24-02-14 15:34:23.1104 UTC kernel.cc:1233] Loading model from path /var/tmp/tmpe5duubq3/model/ with prefix dd790ab4429c4e91_1\n",
      "[INFO 24-02-14 15:34:23.1121 UTC kernel.cc:1061] Use fast generic engine\n",
      "[INFO 24-02-14 15:34:23.1176 UTC kernel.cc:1233] Loading model from path /var/tmp/tmpe5duubq3/model/ with prefix dd790ab4429c4e91_2\n",
      "[INFO 24-02-14 15:34:23.1263 UTC kernel.cc:1061] Use fast generic engine\n"
     ]
    },
    {
     "name": "stdout",
     "output_type": "stream",
     "text": [
      "    t_barrier  barrier  overall_profit  n_trades  lower_prob  upper_prob\n",
      "35          2      0.5        0.000000         1         0.8         0.8\n",
      "34          2      0.5      -15.268428         3         0.8         0.6\n",
      "33          2      0.5      -22.373570         3         0.8         0.4\n",
      "60          3      0.4      -57.906001         9         0.8         0.4\n",
      "11          2      0.3      -58.517649        19         0.4         0.8\n"
     ]
    },
    {
     "name": "stderr",
     "output_type": "stream",
     "text": [
      "WARNING:root:Feature \"ticker\" is an array of numpy.object_ and will be casted to numpy.string_ (Note: numpy.string_ is equivalent to numpy.bytes_).\n",
      "[INFO 24-02-14 15:34:26.8488 UTC kernel.cc:1233] Loading model from path /var/tmp/tmpwzxoi1at/model/ with prefix f8e43c12bfae44e0_0\n",
      "[INFO 24-02-14 15:34:26.8558 UTC kernel.cc:1061] Use fast generic engine\n",
      "[INFO 24-02-14 15:34:26.8632 UTC kernel.cc:1233] Loading model from path /var/tmp/tmpwzxoi1at/model/ with prefix f8e43c12bfae44e0_1\n",
      "[INFO 24-02-14 15:34:26.8648 UTC kernel.cc:1061] Use fast generic engine\n",
      "[INFO 24-02-14 15:34:26.8708 UTC kernel.cc:1233] Loading model from path /var/tmp/tmpwzxoi1at/model/ with prefix f8e43c12bfae44e0_2\n",
      "[INFO 24-02-14 15:34:26.8795 UTC kernel.cc:1061] Use fast generic engine\n"
     ]
    },
    {
     "name": "stdout",
     "output_type": "stream",
     "text": [
      "    t_barrier  barrier  overall_profit  n_trades  lower_prob  upper_prob\n",
      "35          2      0.5        0.000000         1         0.8         0.8\n",
      "34          2      0.5      -15.268428         3         0.8         0.6\n",
      "33          2      0.5      -22.373570         3         0.8         0.4\n",
      "60          3      0.4      -57.906001         9         0.8         0.4\n",
      "11          2      0.3      -58.517649        19         0.4         0.8\n"
     ]
    },
    {
     "name": "stderr",
     "output_type": "stream",
     "text": [
      "WARNING:root:Feature \"ticker\" is an array of numpy.object_ and will be casted to numpy.string_ (Note: numpy.string_ is equivalent to numpy.bytes_).\n",
      "[INFO 24-02-14 15:34:30.6388 UTC kernel.cc:1233] Loading model from path /var/tmp/tmpdgppc5fs/model/ with prefix 1734a5961b684756_0\n",
      "[INFO 24-02-14 15:34:30.6453 UTC quick_scorer_extended.cc:903] The binary was compiled without AVX2 support, but your CPU supports it. Enable it for faster model inference.\n",
      "[INFO 24-02-14 15:34:30.6458 UTC kernel.cc:1061] Use fast generic engine\n",
      "[INFO 24-02-14 15:34:30.6527 UTC kernel.cc:1233] Loading model from path /var/tmp/tmpdgppc5fs/model/ with prefix 1734a5961b684756_1\n",
      "[INFO 24-02-14 15:34:30.6540 UTC kernel.cc:1061] Use fast generic engine\n",
      "[INFO 24-02-14 15:34:30.6596 UTC kernel.cc:1233] Loading model from path /var/tmp/tmpdgppc5fs/model/ with prefix 1734a5961b684756_2\n",
      "[INFO 24-02-14 15:34:30.6680 UTC kernel.cc:1061] Use fast generic engine\n"
     ]
    },
    {
     "name": "stdout",
     "output_type": "stream",
     "text": [
      "    t_barrier  barrier  overall_profit  n_trades  lower_prob  upper_prob\n",
      "35          2      0.5        0.000000         1         0.8         0.8\n",
      "34          2      0.5      -15.268428         3         0.8         0.6\n",
      "33          2      0.5      -22.373570         3         0.8         0.4\n",
      "60          3      0.4      -57.906001         9         0.8         0.4\n",
      "11          2      0.3      -58.517649        19         0.4         0.8\n"
     ]
    },
    {
     "name": "stderr",
     "output_type": "stream",
     "text": [
      "WARNING:root:Feature \"ticker\" is an array of numpy.object_ and will be casted to numpy.string_ (Note: numpy.string_ is equivalent to numpy.bytes_).\n",
      "[INFO 24-02-14 15:34:34.4345 UTC kernel.cc:1233] Loading model from path /var/tmp/tmp86w0qb30/model/ with prefix 4477d11250724bfb_0\n",
      "[INFO 24-02-14 15:34:34.4441 UTC abstract_model.cc:1344] Engine \"GradientBoostedTreesQuickScorerExtended\" built\n",
      "[INFO 24-02-14 15:34:34.4443 UTC kernel.cc:1061] Use fast generic engine\n",
      "[INFO 24-02-14 15:34:34.4538 UTC kernel.cc:1233] Loading model from path /var/tmp/tmp86w0qb30/model/ with prefix 4477d11250724bfb_1\n",
      "[INFO 24-02-14 15:34:34.4559 UTC kernel.cc:1061] Use fast generic engine\n",
      "[INFO 24-02-14 15:34:34.4626 UTC kernel.cc:1233] Loading model from path /var/tmp/tmp86w0qb30/model/ with prefix 4477d11250724bfb_2\n",
      "[INFO 24-02-14 15:34:34.4698 UTC kernel.cc:1061] Use fast generic engine\n"
     ]
    },
    {
     "name": "stdout",
     "output_type": "stream",
     "text": [
      "    t_barrier  barrier  overall_profit  n_trades  lower_prob  upper_prob\n",
      "35          2      0.5        0.000000         1         0.8         0.8\n",
      "34          2      0.5      -15.268428         3         0.8         0.6\n",
      "33          2      0.5      -22.373570         3         0.8         0.4\n",
      "60          3      0.4      -57.906001         9         0.8         0.4\n",
      "11          2      0.3      -58.517649        19         0.4         0.8\n"
     ]
    },
    {
     "name": "stderr",
     "output_type": "stream",
     "text": [
      "WARNING:root:Feature \"ticker\" is an array of numpy.object_ and will be casted to numpy.string_ (Note: numpy.string_ is equivalent to numpy.bytes_).\n",
      "[INFO 24-02-14 15:34:38.2327 UTC kernel.cc:1233] Loading model from path /var/tmp/tmp1mlruchd/model/ with prefix ebb072c8f7a94ea8_0\n",
      "[INFO 24-02-14 15:34:38.2412 UTC kernel.cc:1061] Use fast generic engine\n",
      "[INFO 24-02-14 15:34:38.2483 UTC kernel.cc:1233] Loading model from path /var/tmp/tmp1mlruchd/model/ with prefix ebb072c8f7a94ea8_1\n",
      "[INFO 24-02-14 15:34:38.2503 UTC kernel.cc:1061] Use fast generic engine\n",
      "[INFO 24-02-14 15:34:38.2562 UTC kernel.cc:1233] Loading model from path /var/tmp/tmp1mlruchd/model/ with prefix ebb072c8f7a94ea8_2\n",
      "[INFO 24-02-14 15:34:38.2628 UTC kernel.cc:1061] Use fast generic engine\n"
     ]
    },
    {
     "name": "stdout",
     "output_type": "stream",
     "text": [
      "    t_barrier  barrier  overall_profit  n_trades  lower_prob  upper_prob\n",
      "35          2      0.5        0.000000         1         0.8         0.8\n",
      "34          2      0.5      -15.268428         3         0.8         0.6\n",
      "33          2      0.5      -22.373570         3         0.8         0.4\n",
      "60          3      0.4      -57.906001         9         0.8         0.4\n",
      "11          2      0.3      -58.517649        19         0.4         0.8\n"
     ]
    },
    {
     "name": "stderr",
     "output_type": "stream",
     "text": [
      "WARNING:root:Feature \"ticker\" is an array of numpy.object_ and will be casted to numpy.string_ (Note: numpy.string_ is equivalent to numpy.bytes_).\n",
      "[INFO 24-02-14 15:34:43.1078 UTC kernel.cc:1233] Loading model from path /var/tmp/tmpqi69o8by/model/ with prefix 1124bd58ffd94a72_0\n",
      "[INFO 24-02-14 15:34:43.1161 UTC kernel.cc:1061] Use fast generic engine\n",
      "[INFO 24-02-14 15:34:43.1229 UTC kernel.cc:1233] Loading model from path /var/tmp/tmpqi69o8by/model/ with prefix 1124bd58ffd94a72_1\n",
      "[INFO 24-02-14 15:34:43.1249 UTC kernel.cc:1061] Use fast generic engine\n",
      "[INFO 24-02-14 15:34:43.1306 UTC kernel.cc:1233] Loading model from path /var/tmp/tmpqi69o8by/model/ with prefix 1124bd58ffd94a72_2\n",
      "[INFO 24-02-14 15:34:43.1371 UTC kernel.cc:1061] Use fast generic engine\n"
     ]
    },
    {
     "name": "stdout",
     "output_type": "stream",
     "text": [
      "    t_barrier  barrier  overall_profit  n_trades  lower_prob  upper_prob\n",
      "35          2      0.5        0.000000         1         0.8         0.8\n",
      "34          2      0.5      -15.268428         3         0.8         0.6\n",
      "33          2      0.5      -22.373570         3         0.8         0.4\n",
      "60          3      0.4      -57.906001         9         0.8         0.4\n",
      "11          2      0.3      -58.517649        19         0.4         0.8\n"
     ]
    },
    {
     "name": "stderr",
     "output_type": "stream",
     "text": [
      "WARNING:root:Feature \"ticker\" is an array of numpy.object_ and will be casted to numpy.string_ (Note: numpy.string_ is equivalent to numpy.bytes_).\n",
      "[INFO 24-02-14 15:34:46.8236 UTC kernel.cc:1233] Loading model from path /var/tmp/tmpxbfl2_kl/model/ with prefix dd3316d530994f7b_0\n",
      "[INFO 24-02-14 15:34:46.8321 UTC abstract_model.cc:1344] Engine \"GradientBoostedTreesQuickScorerExtended\" built\n",
      "[INFO 24-02-14 15:34:46.8323 UTC kernel.cc:1061] Use fast generic engine\n",
      "[INFO 24-02-14 15:34:46.8392 UTC kernel.cc:1233] Loading model from path /var/tmp/tmpxbfl2_kl/model/ with prefix dd3316d530994f7b_1\n",
      "[INFO 24-02-14 15:34:46.8413 UTC kernel.cc:1061] Use fast generic engine\n",
      "[INFO 24-02-14 15:34:46.8470 UTC kernel.cc:1233] Loading model from path /var/tmp/tmpxbfl2_kl/model/ with prefix dd3316d530994f7b_2\n",
      "[INFO 24-02-14 15:34:46.8537 UTC kernel.cc:1061] Use fast generic engine\n"
     ]
    },
    {
     "name": "stdout",
     "output_type": "stream",
     "text": [
      "    t_barrier  barrier  overall_profit  n_trades  lower_prob  upper_prob\n",
      "35          2      0.5        0.000000         1         0.8         0.8\n",
      "34          2      0.5      -15.268428         3         0.8         0.6\n",
      "33          2      0.5      -22.373570         3         0.8         0.4\n",
      "60          3      0.4      -57.906001         9         0.8         0.4\n",
      "11          2      0.3      -58.517649        19         0.4         0.8\n"
     ]
    },
    {
     "name": "stderr",
     "output_type": "stream",
     "text": [
      "WARNING:root:Feature \"ticker\" is an array of numpy.object_ and will be casted to numpy.string_ (Note: numpy.string_ is equivalent to numpy.bytes_).\n",
      "[INFO 24-02-14 15:34:50.5349 UTC kernel.cc:1233] Loading model from path /var/tmp/tmp7ojv_jap/model/ with prefix 184621d54fb14de5_0\n",
      "[INFO 24-02-14 15:34:50.5433 UTC kernel.cc:1061] Use fast generic engine\n",
      "[INFO 24-02-14 15:34:50.5504 UTC kernel.cc:1233] Loading model from path /var/tmp/tmp7ojv_jap/model/ with prefix 184621d54fb14de5_1\n",
      "[INFO 24-02-14 15:34:50.5525 UTC kernel.cc:1061] Use fast generic engine\n",
      "[INFO 24-02-14 15:34:50.5582 UTC kernel.cc:1233] Loading model from path /var/tmp/tmp7ojv_jap/model/ with prefix 184621d54fb14de5_2\n",
      "[INFO 24-02-14 15:34:50.5648 UTC kernel.cc:1061] Use fast generic engine\n"
     ]
    },
    {
     "name": "stdout",
     "output_type": "stream",
     "text": [
      "    t_barrier  barrier  overall_profit  n_trades  lower_prob  upper_prob\n",
      "35          2      0.5        0.000000         1         0.8         0.8\n",
      "34          2      0.5      -15.268428         3         0.8         0.6\n",
      "33          2      0.5      -22.373570         3         0.8         0.4\n",
      "60          3      0.4      -57.906001         9         0.8         0.4\n",
      "11          2      0.3      -58.517649        19         0.4         0.8\n"
     ]
    },
    {
     "name": "stderr",
     "output_type": "stream",
     "text": [
      "WARNING:root:Feature \"ticker\" is an array of numpy.object_ and will be casted to numpy.string_ (Note: numpy.string_ is equivalent to numpy.bytes_).\n",
      "[INFO 24-02-14 15:34:54.2421 UTC kernel.cc:1233] Loading model from path /var/tmp/tmpwcbgft2y/model/ with prefix c21cb5919d114ce5_0\n",
      "[INFO 24-02-14 15:34:54.2506 UTC kernel.cc:1061] Use fast generic engine\n",
      "[INFO 24-02-14 15:34:54.2575 UTC kernel.cc:1233] Loading model from path /var/tmp/tmpwcbgft2y/model/ with prefix c21cb5919d114ce5_1\n",
      "[INFO 24-02-14 15:34:54.2595 UTC kernel.cc:1061] Use fast generic engine\n",
      "[INFO 24-02-14 15:34:54.2653 UTC kernel.cc:1233] Loading model from path /var/tmp/tmpwcbgft2y/model/ with prefix c21cb5919d114ce5_2\n",
      "[INFO 24-02-14 15:34:54.2720 UTC kernel.cc:1061] Use fast generic engine\n"
     ]
    },
    {
     "name": "stdout",
     "output_type": "stream",
     "text": [
      "    t_barrier  barrier  overall_profit  n_trades  lower_prob  upper_prob\n",
      "35          2      0.5        0.000000         1         0.8         0.8\n",
      "34          2      0.5      -15.268428         3         0.8         0.6\n",
      "33          2      0.5      -22.373570         3         0.8         0.4\n",
      "60          3      0.4      -57.906001         9         0.8         0.4\n",
      "11          2      0.3      -58.517649        19         0.4         0.8\n"
     ]
    },
    {
     "name": "stderr",
     "output_type": "stream",
     "text": [
      "WARNING:root:Feature \"ticker\" is an array of numpy.object_ and will be casted to numpy.string_ (Note: numpy.string_ is equivalent to numpy.bytes_).\n",
      "[INFO 24-02-14 15:34:57.9859 UTC kernel.cc:1233] Loading model from path /var/tmp/tmp_mgbsitv/model/ with prefix 3ffd6b36880248fe_0\n",
      "[INFO 24-02-14 15:34:57.9945 UTC abstract_model.cc:1344] Engine \"GradientBoostedTreesQuickScorerExtended\" built\n",
      "[INFO 24-02-14 15:34:57.9947 UTC kernel.cc:1061] Use fast generic engine\n",
      "[INFO 24-02-14 15:34:58.0016 UTC kernel.cc:1233] Loading model from path /var/tmp/tmp_mgbsitv/model/ with prefix 3ffd6b36880248fe_1\n",
      "[INFO 24-02-14 15:34:58.0037 UTC kernel.cc:1061] Use fast generic engine\n",
      "[INFO 24-02-14 15:34:58.0094 UTC kernel.cc:1233] Loading model from path /var/tmp/tmp_mgbsitv/model/ with prefix 3ffd6b36880248fe_2\n",
      "[INFO 24-02-14 15:34:58.0161 UTC kernel.cc:1061] Use fast generic engine\n"
     ]
    },
    {
     "name": "stdout",
     "output_type": "stream",
     "text": [
      "    t_barrier  barrier  overall_profit  n_trades  lower_prob  upper_prob\n",
      "35          2      0.5        0.000000         1         0.8         0.8\n",
      "34          2      0.5      -15.268428         3         0.8         0.6\n",
      "33          2      0.5      -22.373570         3         0.8         0.4\n",
      "60          3      0.4      -57.906001         9         0.8         0.4\n",
      "11          2      0.3      -58.517649        19         0.4         0.8\n"
     ]
    },
    {
     "name": "stderr",
     "output_type": "stream",
     "text": [
      "WARNING:root:Feature \"ticker\" is an array of numpy.object_ and will be casted to numpy.string_ (Note: numpy.string_ is equivalent to numpy.bytes_).\n",
      "[INFO 24-02-14 15:35:01.6945 UTC kernel.cc:1233] Loading model from path /var/tmp/tmp8mpb9d_9/model/ with prefix ed1470b78fbe4a44_0\n",
      "[INFO 24-02-14 15:35:01.7027 UTC quick_scorer_extended.cc:903] The binary was compiled without AVX2 support, but your CPU supports it. Enable it for faster model inference.\n",
      "[INFO 24-02-14 15:35:01.7032 UTC kernel.cc:1061] Use fast generic engine\n",
      "[INFO 24-02-14 15:35:01.7104 UTC kernel.cc:1233] Loading model from path /var/tmp/tmp8mpb9d_9/model/ with prefix ed1470b78fbe4a44_1\n",
      "[INFO 24-02-14 15:35:01.7124 UTC kernel.cc:1061] Use fast generic engine\n",
      "[INFO 24-02-14 15:35:01.7184 UTC kernel.cc:1233] Loading model from path /var/tmp/tmp8mpb9d_9/model/ with prefix ed1470b78fbe4a44_2\n",
      "[INFO 24-02-14 15:35:01.7250 UTC kernel.cc:1061] Use fast generic engine\n"
     ]
    },
    {
     "name": "stdout",
     "output_type": "stream",
     "text": [
      "    t_barrier  barrier  overall_profit  n_trades  lower_prob  upper_prob\n",
      "35          2      0.5        0.000000         1         0.8         0.8\n",
      "34          2      0.5      -15.268428         3         0.8         0.6\n",
      "33          2      0.5      -22.373570         3         0.8         0.4\n",
      "60          3      0.4      -57.906001         9         0.8         0.4\n",
      "11          2      0.3      -58.517649        19         0.4         0.8\n"
     ]
    },
    {
     "name": "stderr",
     "output_type": "stream",
     "text": [
      "WARNING:root:Feature \"ticker\" is an array of numpy.object_ and will be casted to numpy.string_ (Note: numpy.string_ is equivalent to numpy.bytes_).\n",
      "[INFO 24-02-14 15:35:05.5978 UTC kernel.cc:1233] Loading model from path /var/tmp/tmpv02ja0_9/model/ with prefix 45ddb56b667146b5_0\n",
      "[INFO 24-02-14 15:35:05.6063 UTC kernel.cc:1061] Use fast generic engine\n",
      "[INFO 24-02-14 15:35:05.6132 UTC kernel.cc:1233] Loading model from path /var/tmp/tmpv02ja0_9/model/ with prefix 45ddb56b667146b5_1\n",
      "[INFO 24-02-14 15:35:05.6152 UTC kernel.cc:1061] Use fast generic engine\n",
      "[INFO 24-02-14 15:35:05.6212 UTC kernel.cc:1233] Loading model from path /var/tmp/tmpv02ja0_9/model/ with prefix 45ddb56b667146b5_2\n",
      "[INFO 24-02-14 15:35:05.6280 UTC kernel.cc:1061] Use fast generic engine\n"
     ]
    },
    {
     "name": "stdout",
     "output_type": "stream",
     "text": [
      "    t_barrier  barrier  overall_profit  n_trades  lower_prob  upper_prob\n",
      "35          2      0.5        0.000000         1         0.8         0.8\n",
      "34          2      0.5      -15.268428         3         0.8         0.6\n",
      "33          2      0.5      -22.373570         3         0.8         0.4\n",
      "60          3      0.4      -57.906001         9         0.8         0.4\n",
      "11          2      0.3      -58.517649        19         0.4         0.8\n"
     ]
    },
    {
     "name": "stderr",
     "output_type": "stream",
     "text": [
      "WARNING:root:Feature \"ticker\" is an array of numpy.object_ and will be casted to numpy.string_ (Note: numpy.string_ is equivalent to numpy.bytes_).\n",
      "[INFO 24-02-14 15:35:10.4248 UTC kernel.cc:1233] Loading model from path /var/tmp/tmpvkjl30lj/model/ with prefix a46d722bbe05454a_0\n",
      "[INFO 24-02-14 15:35:10.4266 UTC abstract_model.cc:1344] Engine \"GradientBoostedTreesQuickScorerExtended\" built\n",
      "[INFO 24-02-14 15:35:10.4268 UTC kernel.cc:1061] Use fast generic engine\n",
      "[INFO 24-02-14 15:35:10.4332 UTC kernel.cc:1233] Loading model from path /var/tmp/tmpvkjl30lj/model/ with prefix a46d722bbe05454a_1\n",
      "[INFO 24-02-14 15:35:10.4355 UTC kernel.cc:1061] Use fast generic engine\n",
      "[INFO 24-02-14 15:35:10.4415 UTC kernel.cc:1233] Loading model from path /var/tmp/tmpvkjl30lj/model/ with prefix a46d722bbe05454a_2\n",
      "[INFO 24-02-14 15:35:10.4519 UTC kernel.cc:1061] Use fast generic engine\n"
     ]
    },
    {
     "name": "stdout",
     "output_type": "stream",
     "text": [
      "    t_barrier  barrier  overall_profit  n_trades  lower_prob  upper_prob\n",
      "35          2      0.5        0.000000         1         0.8         0.8\n",
      "34          2      0.5      -15.268428         3         0.8         0.6\n",
      "33          2      0.5      -22.373570         3         0.8         0.4\n",
      "60          3      0.4      -57.906001         9         0.8         0.4\n",
      "11          2      0.3      -58.517649        19         0.4         0.8\n"
     ]
    },
    {
     "name": "stderr",
     "output_type": "stream",
     "text": [
      "WARNING:root:Feature \"ticker\" is an array of numpy.object_ and will be casted to numpy.string_ (Note: numpy.string_ is equivalent to numpy.bytes_).\n",
      "[INFO 24-02-14 15:35:14.2132 UTC kernel.cc:1233] Loading model from path /var/tmp/tmpl348mxz3/model/ with prefix c2d7d03d6e1b4be1_0\n",
      "[INFO 24-02-14 15:35:14.2151 UTC kernel.cc:1061] Use fast generic engine\n",
      "[INFO 24-02-14 15:35:14.2214 UTC kernel.cc:1233] Loading model from path /var/tmp/tmpl348mxz3/model/ with prefix c2d7d03d6e1b4be1_1\n",
      "[INFO 24-02-14 15:35:14.2236 UTC kernel.cc:1061] Use fast generic engine\n",
      "[INFO 24-02-14 15:35:14.2294 UTC kernel.cc:1233] Loading model from path /var/tmp/tmpl348mxz3/model/ with prefix c2d7d03d6e1b4be1_2\n",
      "[INFO 24-02-14 15:35:14.2395 UTC kernel.cc:1061] Use fast generic engine\n"
     ]
    },
    {
     "name": "stdout",
     "output_type": "stream",
     "text": [
      "    t_barrier  barrier  overall_profit  n_trades  lower_prob  upper_prob\n",
      "35          2      0.5        0.000000         1         0.8         0.8\n",
      "34          2      0.5      -15.268428         3         0.8         0.6\n",
      "33          2      0.5      -22.373570         3         0.8         0.4\n",
      "60          3      0.4      -57.906001         9         0.8         0.4\n",
      "11          2      0.3      -58.517649        19         0.4         0.8\n"
     ]
    },
    {
     "name": "stderr",
     "output_type": "stream",
     "text": [
      "WARNING:root:Feature \"ticker\" is an array of numpy.object_ and will be casted to numpy.string_ (Note: numpy.string_ is equivalent to numpy.bytes_).\n",
      "[INFO 24-02-14 15:35:18.0188 UTC kernel.cc:1233] Loading model from path /var/tmp/tmpv6tksc4k/model/ with prefix 6ffda3e3d70a4f90_0\n",
      "[INFO 24-02-14 15:35:18.0207 UTC kernel.cc:1061] Use fast generic engine\n",
      "[INFO 24-02-14 15:35:18.0283 UTC kernel.cc:1233] Loading model from path /var/tmp/tmpv6tksc4k/model/ with prefix 6ffda3e3d70a4f90_1\n",
      "[INFO 24-02-14 15:35:18.0304 UTC kernel.cc:1061] Use fast generic engine\n",
      "[INFO 24-02-14 15:35:18.0364 UTC kernel.cc:1233] Loading model from path /var/tmp/tmpv6tksc4k/model/ with prefix 6ffda3e3d70a4f90_2\n",
      "[INFO 24-02-14 15:35:18.0463 UTC kernel.cc:1061] Use fast generic engine\n"
     ]
    },
    {
     "name": "stdout",
     "output_type": "stream",
     "text": [
      "    t_barrier  barrier  overall_profit  n_trades  lower_prob  upper_prob\n",
      "35          2      0.5        0.000000         1         0.8         0.8\n",
      "34          2      0.5      -15.268428         3         0.8         0.6\n",
      "33          2      0.5      -22.373570         3         0.8         0.4\n",
      "60          3      0.4      -57.906001         9         0.8         0.4\n",
      "11          2      0.3      -58.517649        19         0.4         0.8\n"
     ]
    },
    {
     "name": "stderr",
     "output_type": "stream",
     "text": [
      "WARNING:root:Feature \"ticker\" is an array of numpy.object_ and will be casted to numpy.string_ (Note: numpy.string_ is equivalent to numpy.bytes_).\n",
      "[INFO 24-02-14 15:35:21.8299 UTC kernel.cc:1233] Loading model from path /var/tmp/tmpatxphlqw/model/ with prefix 84ebebd3a4f4416a_0\n",
      "[INFO 24-02-14 15:35:21.8318 UTC abstract_model.cc:1344] Engine \"GradientBoostedTreesQuickScorerExtended\" built\n",
      "[INFO 24-02-14 15:35:21.8320 UTC kernel.cc:1061] Use fast generic engine\n",
      "[INFO 24-02-14 15:35:21.8381 UTC kernel.cc:1233] Loading model from path /var/tmp/tmpatxphlqw/model/ with prefix 84ebebd3a4f4416a_1\n",
      "[INFO 24-02-14 15:35:21.8403 UTC kernel.cc:1061] Use fast generic engine\n",
      "[INFO 24-02-14 15:35:21.8458 UTC kernel.cc:1233] Loading model from path /var/tmp/tmpatxphlqw/model/ with prefix 84ebebd3a4f4416a_2\n",
      "[INFO 24-02-14 15:35:21.8557 UTC kernel.cc:1061] Use fast generic engine\n"
     ]
    },
    {
     "name": "stdout",
     "output_type": "stream",
     "text": [
      "    t_barrier  barrier  overall_profit  n_trades  lower_prob  upper_prob\n",
      "75          4      0.2        0.000000         1         0.6         0.4\n",
      "35          2      0.5        0.000000         1         0.8         0.8\n",
      "34          2      0.5      -15.268428         3         0.8         0.6\n",
      "33          2      0.5      -22.373570         3         0.8         0.4\n",
      "60          3      0.4      -57.906001         9         0.8         0.4\n"
     ]
    },
    {
     "name": "stderr",
     "output_type": "stream",
     "text": [
      "WARNING:root:Feature \"ticker\" is an array of numpy.object_ and will be casted to numpy.string_ (Note: numpy.string_ is equivalent to numpy.bytes_).\n",
      "[INFO 24-02-14 15:35:25.6125 UTC kernel.cc:1233] Loading model from path /var/tmp/tmpjkgjq8zi/model/ with prefix 784b2262027a4040_0\n",
      "[INFO 24-02-14 15:35:25.6143 UTC kernel.cc:1061] Use fast generic engine\n",
      "[INFO 24-02-14 15:35:25.6216 UTC kernel.cc:1233] Loading model from path /var/tmp/tmpjkgjq8zi/model/ with prefix 784b2262027a4040_1\n",
      "[INFO 24-02-14 15:35:25.6238 UTC kernel.cc:1061] Use fast generic engine\n",
      "[INFO 24-02-14 15:35:25.6296 UTC kernel.cc:1233] Loading model from path /var/tmp/tmpjkgjq8zi/model/ with prefix 784b2262027a4040_2\n",
      "[INFO 24-02-14 15:35:25.6396 UTC kernel.cc:1061] Use fast generic engine\n"
     ]
    },
    {
     "name": "stdout",
     "output_type": "stream",
     "text": [
      "    t_barrier  barrier  overall_profit  n_trades  lower_prob  upper_prob\n",
      "76          4      0.2        0.000000         1         0.6         0.6\n",
      "35          2      0.5        0.000000         1         0.8         0.8\n",
      "75          4      0.2        0.000000         1         0.6         0.4\n",
      "34          2      0.5      -15.268428         3         0.8         0.6\n",
      "33          2      0.5      -22.373570         3         0.8         0.4\n"
     ]
    },
    {
     "name": "stderr",
     "output_type": "stream",
     "text": [
      "WARNING:root:Feature \"ticker\" is an array of numpy.object_ and will be casted to numpy.string_ (Note: numpy.string_ is equivalent to numpy.bytes_).\n",
      "[INFO 24-02-14 15:35:29.3804 UTC kernel.cc:1233] Loading model from path /var/tmp/tmpa5c743ll/model/ with prefix a9c82ff068dd400a_0\n",
      "[INFO 24-02-14 15:35:29.3822 UTC kernel.cc:1061] Use fast generic engine\n",
      "[INFO 24-02-14 15:35:29.3888 UTC kernel.cc:1233] Loading model from path /var/tmp/tmpa5c743ll/model/ with prefix a9c82ff068dd400a_1\n",
      "[INFO 24-02-14 15:35:29.3914 UTC kernel.cc:1061] Use fast generic engine\n",
      "[INFO 24-02-14 15:35:29.3974 UTC kernel.cc:1233] Loading model from path /var/tmp/tmpa5c743ll/model/ with prefix a9c82ff068dd400a_2\n",
      "[INFO 24-02-14 15:35:29.4078 UTC kernel.cc:1061] Use fast generic engine\n"
     ]
    },
    {
     "name": "stdout",
     "output_type": "stream",
     "text": [
      "    t_barrier  barrier  overall_profit  n_trades  lower_prob  upper_prob\n",
      "77          4      0.2        0.000000         1         0.6         0.8\n",
      "75          4      0.2        0.000000         1         0.6         0.4\n",
      "35          2      0.5        0.000000         1         0.8         0.8\n",
      "76          4      0.2        0.000000         1         0.6         0.6\n",
      "34          2      0.5      -15.268428         3         0.8         0.6\n"
     ]
    },
    {
     "name": "stderr",
     "output_type": "stream",
     "text": [
      "WARNING:root:Feature \"ticker\" is an array of numpy.object_ and will be casted to numpy.string_ (Note: numpy.string_ is equivalent to numpy.bytes_).\n",
      "[INFO 24-02-14 15:35:33.1704 UTC kernel.cc:1233] Loading model from path /var/tmp/tmp0neeqg2o/model/ with prefix 94f22a8bfd8c4abe_0\n",
      "[INFO 24-02-14 15:35:33.1722 UTC quick_scorer_extended.cc:903] The binary was compiled without AVX2 support, but your CPU supports it. Enable it for faster model inference.\n",
      "[INFO 24-02-14 15:35:33.1725 UTC abstract_model.cc:1344] Engine \"GradientBoostedTreesQuickScorerExtended\" built\n",
      "[INFO 24-02-14 15:35:33.1726 UTC kernel.cc:1061] Use fast generic engine\n",
      "[INFO 24-02-14 15:35:33.1793 UTC kernel.cc:1233] Loading model from path /var/tmp/tmp0neeqg2o/model/ with prefix 94f22a8bfd8c4abe_1\n",
      "[INFO 24-02-14 15:35:33.1816 UTC kernel.cc:1061] Use fast generic engine\n",
      "[INFO 24-02-14 15:35:33.1878 UTC kernel.cc:1233] Loading model from path /var/tmp/tmp0neeqg2o/model/ with prefix 94f22a8bfd8c4abe_2\n",
      "[INFO 24-02-14 15:35:33.1979 UTC kernel.cc:1061] Use fast generic engine\n"
     ]
    },
    {
     "name": "stdout",
     "output_type": "stream",
     "text": [
      "    t_barrier  barrier  overall_profit  n_trades  lower_prob  upper_prob\n",
      "78          4      0.2             0.0         1         0.8         0.4\n",
      "76          4      0.2             0.0         1         0.6         0.6\n",
      "35          2      0.5             0.0         1         0.8         0.8\n",
      "77          4      0.2             0.0         1         0.6         0.8\n",
      "75          4      0.2             0.0         1         0.6         0.4\n"
     ]
    },
    {
     "name": "stderr",
     "output_type": "stream",
     "text": [
      "WARNING:root:Feature \"ticker\" is an array of numpy.object_ and will be casted to numpy.string_ (Note: numpy.string_ is equivalent to numpy.bytes_).\n",
      "[INFO 24-02-14 15:35:37.0170 UTC kernel.cc:1233] Loading model from path /var/tmp/tmpxihc1hbg/model/ with prefix e67f5fb9a2a94290_0\n",
      "[INFO 24-02-14 15:35:37.0190 UTC kernel.cc:1061] Use fast generic engine\n",
      "[INFO 24-02-14 15:35:37.0252 UTC kernel.cc:1233] Loading model from path /var/tmp/tmpxihc1hbg/model/ with prefix e67f5fb9a2a94290_1\n",
      "[INFO 24-02-14 15:35:37.0275 UTC kernel.cc:1061] Use fast generic engine\n",
      "[INFO 24-02-14 15:35:37.0334 UTC kernel.cc:1233] Loading model from path /var/tmp/tmpxihc1hbg/model/ with prefix e67f5fb9a2a94290_2\n",
      "[INFO 24-02-14 15:35:37.0432 UTC kernel.cc:1061] Use fast generic engine\n"
     ]
    },
    {
     "name": "stdout",
     "output_type": "stream",
     "text": [
      "    t_barrier  barrier  overall_profit  n_trades  lower_prob  upper_prob\n",
      "79          4      0.2             0.0         1         0.8         0.6\n",
      "77          4      0.2             0.0         1         0.6         0.8\n",
      "35          2      0.5             0.0         1         0.8         0.8\n",
      "78          4      0.2             0.0         1         0.8         0.4\n",
      "75          4      0.2             0.0         1         0.6         0.4\n"
     ]
    },
    {
     "name": "stderr",
     "output_type": "stream",
     "text": [
      "WARNING:root:Feature \"ticker\" is an array of numpy.object_ and will be casted to numpy.string_ (Note: numpy.string_ is equivalent to numpy.bytes_).\n",
      "[INFO 24-02-14 15:35:42.5452 UTC kernel.cc:1233] Loading model from path /var/tmp/tmp3himotma/model/ with prefix 77fa96a700ee4bdf_0\n",
      "[INFO 24-02-14 15:35:42.5474 UTC kernel.cc:1061] Use fast generic engine\n",
      "[INFO 24-02-14 15:35:42.5537 UTC kernel.cc:1233] Loading model from path /var/tmp/tmp3himotma/model/ with prefix 77fa96a700ee4bdf_1\n",
      "[INFO 24-02-14 15:35:42.5562 UTC kernel.cc:1061] Use fast generic engine\n",
      "[INFO 24-02-14 15:35:42.5621 UTC kernel.cc:1233] Loading model from path /var/tmp/tmp3himotma/model/ with prefix 77fa96a700ee4bdf_2\n",
      "[INFO 24-02-14 15:35:42.5744 UTC kernel.cc:1061] Use fast generic engine\n"
     ]
    },
    {
     "name": "stdout",
     "output_type": "stream",
     "text": [
      "    t_barrier  barrier  overall_profit  n_trades  lower_prob  upper_prob\n",
      "80          4      0.2             0.0         1         0.8         0.8\n",
      "78          4      0.2             0.0         1         0.8         0.4\n",
      "35          2      0.5             0.0         1         0.8         0.8\n",
      "79          4      0.2             0.0         1         0.8         0.6\n",
      "75          4      0.2             0.0         1         0.6         0.4\n"
     ]
    },
    {
     "name": "stderr",
     "output_type": "stream",
     "text": [
      "WARNING:root:Feature \"ticker\" is an array of numpy.object_ and will be casted to numpy.string_ (Note: numpy.string_ is equivalent to numpy.bytes_).\n",
      "[INFO 24-02-14 15:35:46.3040 UTC kernel.cc:1233] Loading model from path /var/tmp/tmpozv5d4nm/model/ with prefix 1cd745109d2d44d6_0\n",
      "[INFO 24-02-14 15:35:46.3134 UTC abstract_model.cc:1344] Engine \"GradientBoostedTreesQuickScorerExtended\" built\n",
      "[INFO 24-02-14 15:35:46.3135 UTC kernel.cc:1061] Use fast generic engine\n",
      "[INFO 24-02-14 15:35:46.3211 UTC kernel.cc:1233] Loading model from path /var/tmp/tmpozv5d4nm/model/ with prefix 1cd745109d2d44d6_1\n",
      "[INFO 24-02-14 15:35:46.3224 UTC kernel.cc:1061] Use fast generic engine\n",
      "[INFO 24-02-14 15:35:46.3284 UTC kernel.cc:1233] Loading model from path /var/tmp/tmpozv5d4nm/model/ with prefix 1cd745109d2d44d6_2\n",
      "[INFO 24-02-14 15:35:46.3327 UTC kernel.cc:1061] Use fast generic engine\n"
     ]
    },
    {
     "name": "stdout",
     "output_type": "stream",
     "text": [
      "    t_barrier  barrier  overall_profit  n_trades  lower_prob  upper_prob\n",
      "75          4      0.2             0.0         1         0.6         0.4\n",
      "79          4      0.2             0.0         1         0.8         0.6\n",
      "35          2      0.5             0.0         1         0.8         0.8\n",
      "80          4      0.2             0.0         1         0.8         0.8\n",
      "76          4      0.2             0.0         1         0.6         0.6\n"
     ]
    },
    {
     "name": "stderr",
     "output_type": "stream",
     "text": [
      "WARNING:root:Feature \"ticker\" is an array of numpy.object_ and will be casted to numpy.string_ (Note: numpy.string_ is equivalent to numpy.bytes_).\n",
      "[INFO 24-02-14 15:35:50.0012 UTC kernel.cc:1233] Loading model from path /var/tmp/tmp8qp612re/model/ with prefix 4fda46283286409c_0\n",
      "[INFO 24-02-14 15:35:50.0100 UTC kernel.cc:1061] Use fast generic engine\n",
      "[INFO 24-02-14 15:35:50.0173 UTC kernel.cc:1233] Loading model from path /var/tmp/tmp8qp612re/model/ with prefix 4fda46283286409c_1\n",
      "[INFO 24-02-14 15:35:50.0184 UTC kernel.cc:1061] Use fast generic engine\n",
      "[INFO 24-02-14 15:35:50.0241 UTC kernel.cc:1233] Loading model from path /var/tmp/tmp8qp612re/model/ with prefix 4fda46283286409c_2\n",
      "[INFO 24-02-14 15:35:50.0281 UTC kernel.cc:1061] Use fast generic engine\n"
     ]
    },
    {
     "name": "stdout",
     "output_type": "stream",
     "text": [
      "    t_barrier  barrier  overall_profit  n_trades  lower_prob  upper_prob\n",
      "75          4      0.2             0.0         1         0.6         0.4\n",
      "35          2      0.5             0.0         1         0.8         0.8\n",
      "76          4      0.2             0.0         1         0.6         0.6\n",
      "77          4      0.2             0.0         1         0.6         0.8\n",
      "78          4      0.2             0.0         1         0.8         0.4\n"
     ]
    },
    {
     "name": "stderr",
     "output_type": "stream",
     "text": [
      "WARNING:root:Feature \"ticker\" is an array of numpy.object_ and will be casted to numpy.string_ (Note: numpy.string_ is equivalent to numpy.bytes_).\n",
      "[INFO 24-02-14 15:35:53.6593 UTC kernel.cc:1233] Loading model from path /var/tmp/tmp9aqyi1lt/model/ with prefix 591813de70574475_0\n",
      "[INFO 24-02-14 15:35:53.6683 UTC kernel.cc:1061] Use fast generic engine\n",
      "[INFO 24-02-14 15:35:53.6776 UTC kernel.cc:1233] Loading model from path /var/tmp/tmp9aqyi1lt/model/ with prefix 591813de70574475_1\n",
      "[INFO 24-02-14 15:35:53.6787 UTC kernel.cc:1061] Use fast generic engine\n",
      "[INFO 24-02-14 15:35:53.6847 UTC kernel.cc:1233] Loading model from path /var/tmp/tmp9aqyi1lt/model/ with prefix 591813de70574475_2\n",
      "[INFO 24-02-14 15:35:53.6887 UTC kernel.cc:1061] Use fast generic engine\n"
     ]
    },
    {
     "name": "stdout",
     "output_type": "stream",
     "text": [
      "    t_barrier  barrier  overall_profit  n_trades  lower_prob  upper_prob\n",
      "77          4      0.2             0.0         1         0.6         0.8\n",
      "80          4      0.2             0.0         1         0.8         0.8\n",
      "79          4      0.2             0.0         1         0.8         0.6\n",
      "35          2      0.5             0.0         1         0.8         0.8\n",
      "78          4      0.2             0.0         1         0.8         0.4\n"
     ]
    },
    {
     "name": "stderr",
     "output_type": "stream",
     "text": [
      "WARNING:root:Feature \"ticker\" is an array of numpy.object_ and will be casted to numpy.string_ (Note: numpy.string_ is equivalent to numpy.bytes_).\n",
      "[INFO 24-02-14 15:35:57.4061 UTC kernel.cc:1233] Loading model from path /var/tmp/tmpmcttg2id/model/ with prefix a57366f9865e489b_0\n",
      "[INFO 24-02-14 15:35:57.4153 UTC abstract_model.cc:1344] Engine \"GradientBoostedTreesQuickScorerExtended\" built\n",
      "[INFO 24-02-14 15:35:57.4154 UTC kernel.cc:1061] Use fast generic engine\n",
      "[INFO 24-02-14 15:35:57.4232 UTC kernel.cc:1233] Loading model from path /var/tmp/tmpmcttg2id/model/ with prefix a57366f9865e489b_1\n",
      "[INFO 24-02-14 15:35:57.4247 UTC kernel.cc:1061] Use fast generic engine\n",
      "[INFO 24-02-14 15:35:57.4311 UTC kernel.cc:1233] Loading model from path /var/tmp/tmpmcttg2id/model/ with prefix a57366f9865e489b_2\n",
      "[INFO 24-02-14 15:35:57.4353 UTC kernel.cc:1061] Use fast generic engine\n"
     ]
    },
    {
     "name": "stdout",
     "output_type": "stream",
     "text": [
      "    t_barrier  barrier  overall_profit  n_trades  lower_prob  upper_prob\n",
      "76          4      0.2             0.0         1         0.6         0.6\n",
      "79          4      0.2             0.0         1         0.8         0.6\n",
      "75          4      0.2             0.0         1         0.6         0.4\n",
      "78          4      0.2             0.0         1         0.8         0.4\n",
      "77          4      0.2             0.0         1         0.6         0.8\n"
     ]
    },
    {
     "name": "stderr",
     "output_type": "stream",
     "text": [
      "WARNING:root:Feature \"ticker\" is an array of numpy.object_ and will be casted to numpy.string_ (Note: numpy.string_ is equivalent to numpy.bytes_).\n",
      "[INFO 24-02-14 15:36:01.1005 UTC kernel.cc:1233] Loading model from path /var/tmp/tmpgqz5cr49/model/ with prefix a23d630d362a46de_0\n",
      "[INFO 24-02-14 15:36:01.1091 UTC kernel.cc:1061] Use fast generic engine\n",
      "[INFO 24-02-14 15:36:01.1162 UTC kernel.cc:1233] Loading model from path /var/tmp/tmpgqz5cr49/model/ with prefix a23d630d362a46de_1\n",
      "[INFO 24-02-14 15:36:01.1173 UTC kernel.cc:1061] Use fast generic engine\n",
      "[INFO 24-02-14 15:36:01.1230 UTC kernel.cc:1233] Loading model from path /var/tmp/tmpgqz5cr49/model/ with prefix a23d630d362a46de_2\n",
      "[INFO 24-02-14 15:36:01.1268 UTC kernel.cc:1061] Use fast generic engine\n"
     ]
    },
    {
     "name": "stdout",
     "output_type": "stream",
     "text": [
      "    t_barrier  barrier  overall_profit  n_trades  lower_prob  upper_prob\n",
      "80          4      0.2             0.0         1         0.8         0.8\n",
      "75          4      0.2             0.0         1         0.6         0.4\n",
      "77          4      0.2             0.0         1         0.6         0.8\n",
      "35          2      0.5             0.0         1         0.8         0.8\n",
      "76          4      0.2             0.0         1         0.6         0.6\n"
     ]
    },
    {
     "name": "stderr",
     "output_type": "stream",
     "text": [
      "WARNING:root:Feature \"ticker\" is an array of numpy.object_ and will be casted to numpy.string_ (Note: numpy.string_ is equivalent to numpy.bytes_).\n",
      "[INFO 24-02-14 15:36:04.8422 UTC kernel.cc:1233] Loading model from path /var/tmp/tmp0odna3f2/model/ with prefix 910fcb12bcf445a2_0\n",
      "[INFO 24-02-14 15:36:04.8503 UTC quick_scorer_extended.cc:903] The binary was compiled without AVX2 support, but your CPU supports it. Enable it for faster model inference.\n",
      "[INFO 24-02-14 15:36:04.8508 UTC kernel.cc:1061] Use fast generic engine\n",
      "[INFO 24-02-14 15:36:04.8606 UTC kernel.cc:1233] Loading model from path /var/tmp/tmp0odna3f2/model/ with prefix 910fcb12bcf445a2_1\n",
      "[INFO 24-02-14 15:36:04.8617 UTC kernel.cc:1061] Use fast generic engine\n",
      "[INFO 24-02-14 15:36:04.8675 UTC kernel.cc:1233] Loading model from path /var/tmp/tmp0odna3f2/model/ with prefix 910fcb12bcf445a2_2\n",
      "[INFO 24-02-14 15:36:04.8714 UTC kernel.cc:1061] Use fast generic engine\n"
     ]
    },
    {
     "name": "stdout",
     "output_type": "stream",
     "text": [
      "    t_barrier  barrier  overall_profit  n_trades  lower_prob  upper_prob\n",
      "76          4      0.2             0.0         1         0.6         0.6\n",
      "79          4      0.2             0.0         1         0.8         0.6\n",
      "75          4      0.2             0.0         1         0.6         0.4\n",
      "78          4      0.2             0.0         1         0.8         0.4\n",
      "77          4      0.2             0.0         1         0.6         0.8\n"
     ]
    },
    {
     "name": "stderr",
     "output_type": "stream",
     "text": [
      "WARNING:root:Feature \"ticker\" is an array of numpy.object_ and will be casted to numpy.string_ (Note: numpy.string_ is equivalent to numpy.bytes_).\n",
      "[INFO 24-02-14 15:36:08.6594 UTC kernel.cc:1233] Loading model from path /var/tmp/tmpt6q13bcb/model/ with prefix 8d10f65339ba4f1c_0\n",
      "[INFO 24-02-14 15:36:08.6679 UTC abstract_model.cc:1344] Engine \"GradientBoostedTreesQuickScorerExtended\" built\n",
      "[INFO 24-02-14 15:36:08.6680 UTC kernel.cc:1061] Use fast generic engine\n",
      "[INFO 24-02-14 15:36:08.6752 UTC kernel.cc:1233] Loading model from path /var/tmp/tmpt6q13bcb/model/ with prefix 8d10f65339ba4f1c_1\n",
      "[INFO 24-02-14 15:36:08.6765 UTC kernel.cc:1061] Use fast generic engine\n",
      "[INFO 24-02-14 15:36:08.6821 UTC kernel.cc:1233] Loading model from path /var/tmp/tmpt6q13bcb/model/ with prefix 8d10f65339ba4f1c_2\n",
      "[INFO 24-02-14 15:36:08.6863 UTC kernel.cc:1061] Use fast generic engine\n"
     ]
    },
    {
     "name": "stdout",
     "output_type": "stream",
     "text": [
      "    t_barrier  barrier  overall_profit  n_trades  lower_prob  upper_prob\n",
      "35          2      0.5             0.0         1         0.8         0.8\n",
      "80          4      0.2             0.0         1         0.8         0.8\n",
      "79          4      0.2             0.0         1         0.8         0.6\n",
      "78          4      0.2             0.0         1         0.8         0.4\n",
      "77          4      0.2             0.0         1         0.6         0.8\n"
     ]
    },
    {
     "name": "stderr",
     "output_type": "stream",
     "text": [
      "WARNING:root:Feature \"ticker\" is an array of numpy.object_ and will be casted to numpy.string_ (Note: numpy.string_ is equivalent to numpy.bytes_).\n",
      "[INFO 24-02-14 15:36:12.2968 UTC kernel.cc:1233] Loading model from path /var/tmp/tmpy4w9afaf/model/ with prefix a557127b27bb4400_0\n",
      "[INFO 24-02-14 15:36:12.3053 UTC kernel.cc:1061] Use fast generic engine\n",
      "[INFO 24-02-14 15:36:12.3124 UTC kernel.cc:1233] Loading model from path /var/tmp/tmpy4w9afaf/model/ with prefix a557127b27bb4400_1\n",
      "[INFO 24-02-14 15:36:12.3137 UTC kernel.cc:1061] Use fast generic engine\n",
      "[INFO 24-02-14 15:36:12.3194 UTC kernel.cc:1233] Loading model from path /var/tmp/tmpy4w9afaf/model/ with prefix a557127b27bb4400_2\n",
      "[INFO 24-02-14 15:36:12.3233 UTC kernel.cc:1061] Use fast generic engine\n"
     ]
    },
    {
     "name": "stdout",
     "output_type": "stream",
     "text": [
      "    t_barrier  barrier  overall_profit  n_trades  lower_prob  upper_prob\n",
      "35          2      0.5             0.0         1         0.8         0.8\n",
      "80          4      0.2             0.0         1         0.8         0.8\n",
      "79          4      0.2             0.0         1         0.8         0.6\n",
      "78          4      0.2             0.0         1         0.8         0.4\n",
      "77          4      0.2             0.0         1         0.6         0.8\n"
     ]
    },
    {
     "name": "stderr",
     "output_type": "stream",
     "text": [
      "WARNING:root:Feature \"ticker\" is an array of numpy.object_ and will be casted to numpy.string_ (Note: numpy.string_ is equivalent to numpy.bytes_).\n",
      "[INFO 24-02-14 15:36:15.9548 UTC kernel.cc:1233] Loading model from path /var/tmp/tmpgffis_wf/model/ with prefix 0e3a5dbbbcb14150_0\n",
      "[INFO 24-02-14 15:36:15.9634 UTC kernel.cc:1061] Use fast generic engine\n",
      "[INFO 24-02-14 15:36:15.9706 UTC kernel.cc:1233] Loading model from path /var/tmp/tmpgffis_wf/model/ with prefix 0e3a5dbbbcb14150_1\n",
      "[INFO 24-02-14 15:36:15.9718 UTC kernel.cc:1061] Use fast generic engine\n",
      "[INFO 24-02-14 15:36:15.9776 UTC kernel.cc:1233] Loading model from path /var/tmp/tmpgffis_wf/model/ with prefix 0e3a5dbbbcb14150_2\n",
      "[INFO 24-02-14 15:36:15.9815 UTC kernel.cc:1061] Use fast generic engine\n"
     ]
    },
    {
     "name": "stdout",
     "output_type": "stream",
     "text": [
      "    t_barrier  barrier  overall_profit  n_trades  lower_prob  upper_prob\n",
      "89          4      0.3             0.0         1         0.8         0.8\n",
      "76          4      0.2             0.0         1         0.6         0.6\n",
      "35          2      0.5             0.0         1         0.8         0.8\n",
      "75          4      0.2             0.0         1         0.6         0.4\n",
      "80          4      0.2             0.0         1         0.8         0.8\n"
     ]
    },
    {
     "name": "stderr",
     "output_type": "stream",
     "text": [
      "WARNING:root:Feature \"ticker\" is an array of numpy.object_ and will be casted to numpy.string_ (Note: numpy.string_ is equivalent to numpy.bytes_).\n",
      "[INFO 24-02-14 15:36:20.1904 UTC kernel.cc:1233] Loading model from path /var/tmp/tmpuknstm3e/model/ with prefix cc602586090a4838_0\n",
      "[INFO 24-02-14 15:36:20.2045 UTC abstract_model.cc:1344] Engine \"GradientBoostedTreesQuickScorerExtended\" built\n",
      "[INFO 24-02-14 15:36:20.2046 UTC kernel.cc:1061] Use fast generic engine\n",
      "[INFO 24-02-14 15:36:20.2121 UTC kernel.cc:1233] Loading model from path /var/tmp/tmpuknstm3e/model/ with prefix cc602586090a4838_1\n",
      "[INFO 24-02-14 15:36:20.2139 UTC kernel.cc:1061] Use fast generic engine\n",
      "[INFO 24-02-14 15:36:20.2194 UTC kernel.cc:1233] Loading model from path /var/tmp/tmpuknstm3e/model/ with prefix cc602586090a4838_2\n",
      "[INFO 24-02-14 15:36:20.2294 UTC kernel.cc:1061] Use fast generic engine\n"
     ]
    },
    {
     "name": "stdout",
     "output_type": "stream",
     "text": [
      "    t_barrier  barrier  overall_profit  n_trades  lower_prob  upper_prob\n",
      "77          4      0.2             0.0         1         0.6         0.8\n",
      "76          4      0.2             0.0         1         0.6         0.6\n",
      "79          4      0.2             0.0         1         0.8         0.6\n",
      "89          4      0.3             0.0         1         0.8         0.8\n",
      "80          4      0.2             0.0         1         0.8         0.8\n"
     ]
    },
    {
     "name": "stderr",
     "output_type": "stream",
     "text": [
      "WARNING:root:Feature \"ticker\" is an array of numpy.object_ and will be casted to numpy.string_ (Note: numpy.string_ is equivalent to numpy.bytes_).\n",
      "[INFO 24-02-14 15:36:24.4916 UTC kernel.cc:1233] Loading model from path /var/tmp/tmppjdp2wpg/model/ with prefix 4e565ee1fb21405c_0\n",
      "[INFO 24-02-14 15:36:24.5057 UTC kernel.cc:1061] Use fast generic engine\n",
      "[INFO 24-02-14 15:36:24.5132 UTC kernel.cc:1233] Loading model from path /var/tmp/tmppjdp2wpg/model/ with prefix 4e565ee1fb21405c_1\n",
      "[INFO 24-02-14 15:36:24.5150 UTC kernel.cc:1061] Use fast generic engine\n",
      "[INFO 24-02-14 15:36:24.5206 UTC kernel.cc:1233] Loading model from path /var/tmp/tmppjdp2wpg/model/ with prefix 4e565ee1fb21405c_2\n",
      "[INFO 24-02-14 15:36:24.5303 UTC kernel.cc:1061] Use fast generic engine\n"
     ]
    },
    {
     "name": "stdout",
     "output_type": "stream",
     "text": [
      "    t_barrier  barrier  overall_profit  n_trades  lower_prob  upper_prob\n",
      "75          4      0.2             0.0         1         0.6         0.4\n",
      "80          4      0.2             0.0         1         0.8         0.8\n",
      "35          2      0.5             0.0         1         0.8         0.8\n",
      "89          4      0.3             0.0         1         0.8         0.8\n",
      "78          4      0.2             0.0         1         0.8         0.4\n"
     ]
    },
    {
     "name": "stderr",
     "output_type": "stream",
     "text": [
      "WARNING:root:Feature \"ticker\" is an array of numpy.object_ and will be casted to numpy.string_ (Note: numpy.string_ is equivalent to numpy.bytes_).\n",
      "[INFO 24-02-14 15:36:28.7340 UTC kernel.cc:1233] Loading model from path /var/tmp/tmp1vtask3e/model/ with prefix 755d622ec2a84d80_0\n",
      "[INFO 24-02-14 15:36:28.7484 UTC kernel.cc:1061] Use fast generic engine\n",
      "[INFO 24-02-14 15:36:28.7564 UTC kernel.cc:1233] Loading model from path /var/tmp/tmp1vtask3e/model/ with prefix 755d622ec2a84d80_1\n",
      "[INFO 24-02-14 15:36:28.7580 UTC kernel.cc:1061] Use fast generic engine\n",
      "[INFO 24-02-14 15:36:28.7635 UTC kernel.cc:1233] Loading model from path /var/tmp/tmp1vtask3e/model/ with prefix 755d622ec2a84d80_2\n",
      "[INFO 24-02-14 15:36:28.7735 UTC kernel.cc:1061] Use fast generic engine\n"
     ]
    },
    {
     "name": "stdout",
     "output_type": "stream",
     "text": [
      "    t_barrier  barrier  overall_profit  n_trades  lower_prob  upper_prob\n",
      "75          4      0.2             0.0         1         0.6         0.4\n",
      "80          4      0.2             0.0         1         0.8         0.8\n",
      "89          4      0.3             0.0         1         0.8         0.8\n",
      "77          4      0.2             0.0         1         0.6         0.8\n",
      "35          2      0.5             0.0         1         0.8         0.8\n"
     ]
    },
    {
     "name": "stderr",
     "output_type": "stream",
     "text": [
      "WARNING:root:Feature \"ticker\" is an array of numpy.object_ and will be casted to numpy.string_ (Note: numpy.string_ is equivalent to numpy.bytes_).\n",
      "[INFO 24-02-14 15:36:33.0217 UTC kernel.cc:1233] Loading model from path /var/tmp/tmpegfyyqa7/model/ with prefix e7315373723c4a4f_0\n",
      "[INFO 24-02-14 15:36:33.0367 UTC abstract_model.cc:1344] Engine \"GradientBoostedTreesQuickScorerExtended\" built\n",
      "[INFO 24-02-14 15:36:33.0369 UTC kernel.cc:1061] Use fast generic engine\n",
      "[INFO 24-02-14 15:36:33.0454 UTC kernel.cc:1233] Loading model from path /var/tmp/tmpegfyyqa7/model/ with prefix e7315373723c4a4f_1\n",
      "[INFO 24-02-14 15:36:33.0474 UTC kernel.cc:1061] Use fast generic engine\n",
      "[INFO 24-02-14 15:36:33.0537 UTC kernel.cc:1233] Loading model from path /var/tmp/tmpegfyyqa7/model/ with prefix e7315373723c4a4f_2\n",
      "[INFO 24-02-14 15:36:33.0643 UTC kernel.cc:1061] Use fast generic engine\n"
     ]
    },
    {
     "name": "stdout",
     "output_type": "stream",
     "text": [
      "    t_barrier  barrier  overall_profit  n_trades  lower_prob  upper_prob\n",
      "77          4      0.2             0.0         1         0.6         0.8\n",
      "80          4      0.2             0.0         1         0.8         0.8\n",
      "89          4      0.3             0.0         1         0.8         0.8\n",
      "35          2      0.5             0.0         1         0.8         0.8\n",
      "76          4      0.2             0.0         1         0.6         0.6\n"
     ]
    },
    {
     "name": "stderr",
     "output_type": "stream",
     "text": [
      "WARNING:root:Feature \"ticker\" is an array of numpy.object_ and will be casted to numpy.string_ (Note: numpy.string_ is equivalent to numpy.bytes_).\n",
      "[INFO 24-02-14 15:36:37.2920 UTC kernel.cc:1233] Loading model from path /var/tmp/tmpt1z59lmd/model/ with prefix 63312d63c2ed4682_0\n",
      "[INFO 24-02-14 15:36:37.3053 UTC quick_scorer_extended.cc:903] The binary was compiled without AVX2 support, but your CPU supports it. Enable it for faster model inference.\n",
      "[INFO 24-02-14 15:36:37.3062 UTC kernel.cc:1061] Use fast generic engine\n",
      "[INFO 24-02-14 15:36:37.3136 UTC kernel.cc:1233] Loading model from path /var/tmp/tmpt1z59lmd/model/ with prefix 63312d63c2ed4682_1\n",
      "[INFO 24-02-14 15:36:37.3152 UTC kernel.cc:1061] Use fast generic engine\n",
      "[INFO 24-02-14 15:36:37.3208 UTC kernel.cc:1233] Loading model from path /var/tmp/tmpt1z59lmd/model/ with prefix 63312d63c2ed4682_2\n",
      "[INFO 24-02-14 15:36:37.3305 UTC kernel.cc:1061] Use fast generic engine\n"
     ]
    },
    {
     "name": "stdout",
     "output_type": "stream",
     "text": [
      "    t_barrier  barrier  overall_profit  n_trades  lower_prob  upper_prob\n",
      "89          4      0.3             0.0         1         0.8         0.8\n",
      "35          2      0.5             0.0         1         0.8         0.8\n",
      "75          4      0.2             0.0         1         0.6         0.4\n",
      "76          4      0.2             0.0         1         0.6         0.6\n",
      "77          4      0.2             0.0         1         0.6         0.8\n"
     ]
    },
    {
     "name": "stderr",
     "output_type": "stream",
     "text": [
      "WARNING:root:Feature \"ticker\" is an array of numpy.object_ and will be casted to numpy.string_ (Note: numpy.string_ is equivalent to numpy.bytes_).\n",
      "[INFO 24-02-14 15:36:41.5540 UTC kernel.cc:1233] Loading model from path /var/tmp/tmpv0zmmwfq/model/ with prefix cdd2f16d7d434777_0\n",
      "[INFO 24-02-14 15:36:41.5680 UTC kernel.cc:1061] Use fast generic engine\n",
      "[INFO 24-02-14 15:36:41.5753 UTC kernel.cc:1233] Loading model from path /var/tmp/tmpv0zmmwfq/model/ with prefix cdd2f16d7d434777_1\n",
      "[INFO 24-02-14 15:36:41.5770 UTC kernel.cc:1061] Use fast generic engine\n",
      "[INFO 24-02-14 15:36:41.5826 UTC kernel.cc:1233] Loading model from path /var/tmp/tmpv0zmmwfq/model/ with prefix cdd2f16d7d434777_2\n",
      "[INFO 24-02-14 15:36:41.5925 UTC kernel.cc:1061] Use fast generic engine\n"
     ]
    },
    {
     "name": "stdout",
     "output_type": "stream",
     "text": [
      "    t_barrier  barrier  overall_profit  n_trades  lower_prob  upper_prob\n",
      "76          4      0.2             0.0         1         0.6         0.6\n",
      "80          4      0.2             0.0         1         0.8         0.8\n",
      "89          4      0.3             0.0         1         0.8         0.8\n",
      "75          4      0.2             0.0         1         0.6         0.4\n",
      "79          4      0.2             0.0         1         0.8         0.6\n"
     ]
    },
    {
     "name": "stderr",
     "output_type": "stream",
     "text": [
      "WARNING:root:Feature \"ticker\" is an array of numpy.object_ and will be casted to numpy.string_ (Note: numpy.string_ is equivalent to numpy.bytes_).\n",
      "[INFO 24-02-14 15:36:45.9057 UTC kernel.cc:1233] Loading model from path /var/tmp/tmpv4i0l43h/model/ with prefix ef0cf92d18784a18_0\n",
      "[INFO 24-02-14 15:36:45.9198 UTC abstract_model.cc:1344] Engine \"GradientBoostedTreesQuickScorerExtended\" built\n",
      "[INFO 24-02-14 15:36:45.9200 UTC kernel.cc:1061] Use fast generic engine\n",
      "[INFO 24-02-14 15:36:45.9273 UTC kernel.cc:1233] Loading model from path /var/tmp/tmpv4i0l43h/model/ with prefix ef0cf92d18784a18_1\n",
      "[INFO 24-02-14 15:36:45.9289 UTC kernel.cc:1061] Use fast generic engine\n",
      "[INFO 24-02-14 15:36:45.9346 UTC kernel.cc:1233] Loading model from path /var/tmp/tmpv4i0l43h/model/ with prefix ef0cf92d18784a18_2\n",
      "[INFO 24-02-14 15:36:45.9444 UTC kernel.cc:1061] Use fast generic engine\n"
     ]
    },
    {
     "name": "stdout",
     "output_type": "stream",
     "text": [
      "    t_barrier  barrier  overall_profit  n_trades  lower_prob  upper_prob\n",
      "77          4      0.2             0.0         1         0.6         0.8\n",
      "89          4      0.3             0.0         1         0.8         0.8\n",
      "76          4      0.2             0.0         1         0.6         0.6\n",
      "75          4      0.2             0.0         1         0.6         0.4\n",
      "79          4      0.2             0.0         1         0.8         0.6\n"
     ]
    },
    {
     "name": "stderr",
     "output_type": "stream",
     "text": [
      "WARNING:root:Feature \"ticker\" is an array of numpy.object_ and will be casted to numpy.string_ (Note: numpy.string_ is equivalent to numpy.bytes_).\n",
      "[INFO 24-02-14 15:36:50.1500 UTC kernel.cc:1233] Loading model from path /var/tmp/tmp048we8bt/model/ with prefix 54618bebf94c45b0_0\n",
      "[INFO 24-02-14 15:36:50.1641 UTC kernel.cc:1061] Use fast generic engine\n",
      "[INFO 24-02-14 15:36:50.1720 UTC kernel.cc:1233] Loading model from path /var/tmp/tmp048we8bt/model/ with prefix 54618bebf94c45b0_1\n",
      "[INFO 24-02-14 15:36:50.1737 UTC kernel.cc:1061] Use fast generic engine\n",
      "[INFO 24-02-14 15:36:50.1794 UTC kernel.cc:1233] Loading model from path /var/tmp/tmp048we8bt/model/ with prefix 54618bebf94c45b0_2\n",
      "[INFO 24-02-14 15:36:50.1892 UTC kernel.cc:1061] Use fast generic engine\n"
     ]
    },
    {
     "name": "stdout",
     "output_type": "stream",
     "text": [
      "    t_barrier  barrier  overall_profit  n_trades  lower_prob  upper_prob\n",
      "78          4      0.2             0.0         1         0.8         0.4\n",
      "77          4      0.2             0.0         1         0.6         0.8\n",
      "76          4      0.2             0.0         1         0.6         0.6\n",
      "75          4      0.2             0.0         1         0.6         0.4\n",
      "80          4      0.2             0.0         1         0.8         0.8\n"
     ]
    },
    {
     "name": "stderr",
     "output_type": "stream",
     "text": [
      "WARNING:root:Feature \"ticker\" is an array of numpy.object_ and will be casted to numpy.string_ (Note: numpy.string_ is equivalent to numpy.bytes_).\n",
      "[INFO 24-02-14 15:36:54.4317 UTC kernel.cc:1233] Loading model from path /var/tmp/tmpmhi18k98/model/ with prefix bc1b4dc55e7b4c4d_0\n",
      "[INFO 24-02-14 15:36:54.4461 UTC kernel.cc:1061] Use fast generic engine\n",
      "[INFO 24-02-14 15:36:54.4556 UTC kernel.cc:1233] Loading model from path /var/tmp/tmpmhi18k98/model/ with prefix bc1b4dc55e7b4c4d_1\n",
      "[INFO 24-02-14 15:36:54.4576 UTC kernel.cc:1061] Use fast generic engine\n",
      "[INFO 24-02-14 15:36:54.4640 UTC kernel.cc:1233] Loading model from path /var/tmp/tmpmhi18k98/model/ with prefix bc1b4dc55e7b4c4d_2\n",
      "[INFO 24-02-14 15:36:54.4743 UTC kernel.cc:1061] Use fast generic engine\n"
     ]
    },
    {
     "name": "stdout",
     "output_type": "stream",
     "text": [
      "    t_barrier  barrier  overall_profit  n_trades  lower_prob  upper_prob\n",
      "79          4      0.2             0.0         1         0.8         0.6\n",
      "78          4      0.2             0.0         1         0.8         0.4\n",
      "77          4      0.2             0.0         1         0.6         0.8\n",
      "76          4      0.2             0.0         1         0.6         0.6\n",
      "75          4      0.2             0.0         1         0.6         0.4\n"
     ]
    },
    {
     "name": "stderr",
     "output_type": "stream",
     "text": [
      "WARNING:root:Feature \"ticker\" is an array of numpy.object_ and will be casted to numpy.string_ (Note: numpy.string_ is equivalent to numpy.bytes_).\n",
      "[INFO 24-02-14 15:36:58.1632 UTC kernel.cc:1233] Loading model from path /var/tmp/tmp2v4t67r9/model/ with prefix 7c7e287c4bd349f4_0\n",
      "[INFO 24-02-14 15:36:58.1707 UTC abstract_model.cc:1344] Engine \"GradientBoostedTreesQuickScorerExtended\" built\n",
      "[INFO 24-02-14 15:36:58.1710 UTC kernel.cc:1061] Use fast generic engine\n",
      "[INFO 24-02-14 15:36:58.1788 UTC kernel.cc:1233] Loading model from path /var/tmp/tmp2v4t67r9/model/ with prefix 7c7e287c4bd349f4_1\n",
      "[INFO 24-02-14 15:36:58.1805 UTC kernel.cc:1061] Use fast generic engine\n",
      "[INFO 24-02-14 15:36:58.1868 UTC kernel.cc:1233] Loading model from path /var/tmp/tmp2v4t67r9/model/ with prefix 7c7e287c4bd349f4_2\n",
      "[INFO 24-02-14 15:36:58.1962 UTC kernel.cc:1061] Use fast generic engine\n"
     ]
    },
    {
     "name": "stdout",
     "output_type": "stream",
     "text": [
      "    t_barrier  barrier  overall_profit  n_trades  lower_prob  upper_prob\n",
      "79          4      0.2             0.0         1         0.8         0.6\n",
      "35          2      0.5             0.0         1         0.8         0.8\n",
      "78          4      0.2             0.0         1         0.8         0.4\n",
      "80          4      0.2             0.0         1         0.8         0.8\n",
      "77          4      0.2             0.0         1         0.6         0.8\n"
     ]
    },
    {
     "name": "stderr",
     "output_type": "stream",
     "text": [
      "WARNING:root:Feature \"ticker\" is an array of numpy.object_ and will be casted to numpy.string_ (Note: numpy.string_ is equivalent to numpy.bytes_).\n",
      "[INFO 24-02-14 15:37:01.9429 UTC kernel.cc:1233] Loading model from path /var/tmp/tmpbk20jocp/model/ with prefix bdd7bfa2ff7c4c38_0\n",
      "[INFO 24-02-14 15:37:01.9495 UTC kernel.cc:1061] Use fast generic engine\n",
      "[INFO 24-02-14 15:37:01.9563 UTC kernel.cc:1233] Loading model from path /var/tmp/tmpbk20jocp/model/ with prefix bdd7bfa2ff7c4c38_1\n",
      "[INFO 24-02-14 15:37:01.9578 UTC kernel.cc:1061] Use fast generic engine\n",
      "[INFO 24-02-14 15:37:01.9635 UTC kernel.cc:1233] Loading model from path /var/tmp/tmpbk20jocp/model/ with prefix bdd7bfa2ff7c4c38_2\n",
      "[INFO 24-02-14 15:37:01.9721 UTC kernel.cc:1061] Use fast generic engine\n"
     ]
    },
    {
     "name": "stdout",
     "output_type": "stream",
     "text": [
      "    t_barrier  barrier  overall_profit  n_trades  lower_prob  upper_prob\n",
      "80          4      0.2             0.0         1         0.8         0.8\n",
      "79          4      0.2             0.0         1         0.8         0.6\n",
      "35          2      0.5             0.0         1         0.8         0.8\n",
      "78          4      0.2             0.0         1         0.8         0.4\n",
      "77          4      0.2             0.0         1         0.6         0.8\n"
     ]
    },
    {
     "name": "stderr",
     "output_type": "stream",
     "text": [
      "WARNING:root:Feature \"ticker\" is an array of numpy.object_ and will be casted to numpy.string_ (Note: numpy.string_ is equivalent to numpy.bytes_).\n",
      "[INFO 24-02-14 15:37:06.8046 UTC kernel.cc:1233] Loading model from path /var/tmp/tmpnrluxmcf/model/ with prefix 73ed3143832a4ebb_0\n",
      "[INFO 24-02-14 15:37:06.8113 UTC kernel.cc:1061] Use fast generic engine\n",
      "[INFO 24-02-14 15:37:06.8182 UTC kernel.cc:1233] Loading model from path /var/tmp/tmpnrluxmcf/model/ with prefix 73ed3143832a4ebb_1\n",
      "[INFO 24-02-14 15:37:06.8198 UTC kernel.cc:1061] Use fast generic engine\n",
      "[INFO 24-02-14 15:37:06.8255 UTC kernel.cc:1233] Loading model from path /var/tmp/tmpnrluxmcf/model/ with prefix 73ed3143832a4ebb_2\n",
      "[INFO 24-02-14 15:37:06.8341 UTC kernel.cc:1061] Use fast generic engine\n"
     ]
    },
    {
     "name": "stdout",
     "output_type": "stream",
     "text": [
      "    t_barrier  barrier  overall_profit  n_trades  lower_prob  upper_prob\n",
      "89          4      0.3             0.0         1         0.8         0.8\n",
      "35          2      0.5             0.0         1         0.8         0.8\n",
      "75          4      0.2             0.0         1         0.6         0.4\n",
      "77          4      0.2             0.0         1         0.6         0.8\n",
      "80          4      0.2             0.0         1         0.8         0.8\n"
     ]
    },
    {
     "name": "stderr",
     "output_type": "stream",
     "text": [
      "WARNING:root:Feature \"ticker\" is an array of numpy.object_ and will be casted to numpy.string_ (Note: numpy.string_ is equivalent to numpy.bytes_).\n",
      "[INFO 24-02-14 15:37:10.5445 UTC kernel.cc:1233] Loading model from path /var/tmp/tmpwd433rs_/model/ with prefix 02b547492b9d44b6_0\n",
      "[INFO 24-02-14 15:37:10.5512 UTC quick_scorer_extended.cc:903] The binary was compiled without AVX2 support, but your CPU supports it. Enable it for faster model inference.\n",
      "[INFO 24-02-14 15:37:10.5517 UTC abstract_model.cc:1344] Engine \"GradientBoostedTreesQuickScorerExtended\" built\n",
      "[INFO 24-02-14 15:37:10.5518 UTC kernel.cc:1061] Use fast generic engine\n",
      "[INFO 24-02-14 15:37:10.5589 UTC kernel.cc:1233] Loading model from path /var/tmp/tmpwd433rs_/model/ with prefix 02b547492b9d44b6_1\n",
      "[INFO 24-02-14 15:37:10.5605 UTC kernel.cc:1061] Use fast generic engine\n",
      "[INFO 24-02-14 15:37:10.5664 UTC kernel.cc:1233] Loading model from path /var/tmp/tmpwd433rs_/model/ with prefix 02b547492b9d44b6_2\n",
      "[INFO 24-02-14 15:37:10.5752 UTC kernel.cc:1061] Use fast generic engine\n"
     ]
    },
    {
     "name": "stdout",
     "output_type": "stream",
     "text": [
      "    t_barrier  barrier  overall_profit  n_trades  lower_prob  upper_prob\n",
      "80          4      0.2             0.0         1         0.8         0.8\n",
      "75          4      0.2             0.0         1         0.6         0.4\n",
      "76          4      0.2             0.0         1         0.6         0.6\n",
      "35          2      0.5             0.0         1         0.8         0.8\n",
      "79          4      0.2             0.0         1         0.8         0.6\n"
     ]
    },
    {
     "name": "stderr",
     "output_type": "stream",
     "text": [
      "WARNING:root:Feature \"ticker\" is an array of numpy.object_ and will be casted to numpy.string_ (Note: numpy.string_ is equivalent to numpy.bytes_).\n",
      "[INFO 24-02-14 15:37:14.3409 UTC kernel.cc:1233] Loading model from path /var/tmp/tmpm2zijblx/model/ with prefix 03049ace3d1d450f_0\n",
      "[INFO 24-02-14 15:37:14.3480 UTC kernel.cc:1061] Use fast generic engine\n",
      "[INFO 24-02-14 15:37:14.3549 UTC kernel.cc:1233] Loading model from path /var/tmp/tmpm2zijblx/model/ with prefix 03049ace3d1d450f_1\n",
      "[INFO 24-02-14 15:37:14.3564 UTC kernel.cc:1061] Use fast generic engine\n",
      "[INFO 24-02-14 15:37:14.3620 UTC kernel.cc:1233] Loading model from path /var/tmp/tmpm2zijblx/model/ with prefix 03049ace3d1d450f_2\n",
      "[INFO 24-02-14 15:37:14.3703 UTC kernel.cc:1061] Use fast generic engine\n"
     ]
    },
    {
     "name": "stdout",
     "output_type": "stream",
     "text": [
      "    t_barrier  barrier  overall_profit  n_trades  lower_prob  upper_prob\n",
      "35          2      0.5             0.0         1         0.8         0.8\n",
      "77          4      0.2             0.0         1         0.6         0.8\n",
      "80          4      0.2             0.0         1         0.8         0.8\n",
      "79          4      0.2             0.0         1         0.8         0.6\n",
      "75          4      0.2             0.0         1         0.6         0.4\n"
     ]
    },
    {
     "name": "stderr",
     "output_type": "stream",
     "text": [
      "WARNING:root:Feature \"ticker\" is an array of numpy.object_ and will be casted to numpy.string_ (Note: numpy.string_ is equivalent to numpy.bytes_).\n",
      "[INFO 24-02-14 15:37:18.0694 UTC kernel.cc:1233] Loading model from path /var/tmp/tmpzig66s3b/model/ with prefix 5adf72737fd24bfe_0\n",
      "[INFO 24-02-14 15:37:18.0766 UTC kernel.cc:1061] Use fast generic engine\n",
      "[INFO 24-02-14 15:37:18.0834 UTC kernel.cc:1233] Loading model from path /var/tmp/tmpzig66s3b/model/ with prefix 5adf72737fd24bfe_1\n",
      "[INFO 24-02-14 15:37:18.0849 UTC kernel.cc:1061] Use fast generic engine\n",
      "[INFO 24-02-14 15:37:18.0903 UTC kernel.cc:1233] Loading model from path /var/tmp/tmpzig66s3b/model/ with prefix 5adf72737fd24bfe_2\n",
      "[INFO 24-02-14 15:37:18.0988 UTC kernel.cc:1061] Use fast generic engine\n"
     ]
    },
    {
     "name": "stdout",
     "output_type": "stream",
     "text": [
      "    t_barrier  barrier  overall_profit  n_trades  lower_prob  upper_prob\n",
      "89          4      0.3             0.0         1         0.8         0.8\n",
      "80          4      0.2             0.0         1         0.8         0.8\n",
      "75          4      0.2             0.0         1         0.6         0.4\n",
      "76          4      0.2             0.0         1         0.6         0.6\n",
      "77          4      0.2             0.0         1         0.6         0.8\n"
     ]
    },
    {
     "name": "stderr",
     "output_type": "stream",
     "text": [
      "WARNING:root:Feature \"ticker\" is an array of numpy.object_ and will be casted to numpy.string_ (Note: numpy.string_ is equivalent to numpy.bytes_).\n",
      "[INFO 24-02-14 15:37:21.7271 UTC kernel.cc:1233] Loading model from path /var/tmp/tmpyasx1aag/model/ with prefix 9855f2a6d8494371_0\n",
      "[INFO 24-02-14 15:37:21.7339 UTC abstract_model.cc:1344] Engine \"GradientBoostedTreesQuickScorerExtended\" built\n",
      "[INFO 24-02-14 15:37:21.7340 UTC kernel.cc:1061] Use fast generic engine\n",
      "[INFO 24-02-14 15:37:21.7407 UTC kernel.cc:1233] Loading model from path /var/tmp/tmpyasx1aag/model/ with prefix 9855f2a6d8494371_1\n",
      "[INFO 24-02-14 15:37:21.7422 UTC kernel.cc:1061] Use fast generic engine\n",
      "[INFO 24-02-14 15:37:21.7478 UTC kernel.cc:1233] Loading model from path /var/tmp/tmpyasx1aag/model/ with prefix 9855f2a6d8494371_2\n",
      "[INFO 24-02-14 15:37:21.7568 UTC kernel.cc:1061] Use fast generic engine\n"
     ]
    },
    {
     "name": "stdout",
     "output_type": "stream",
     "text": [
      "    t_barrier  barrier  overall_profit  n_trades  lower_prob  upper_prob\n",
      "89          4      0.3             0.0         1         0.8         0.8\n",
      "75          4      0.2             0.0         1         0.6         0.4\n",
      "76          4      0.2             0.0         1         0.6         0.6\n",
      "77          4      0.2             0.0         1         0.6         0.8\n",
      "78          4      0.2             0.0         1         0.8         0.4\n"
     ]
    },
    {
     "name": "stderr",
     "output_type": "stream",
     "text": [
      "WARNING:root:Feature \"ticker\" is an array of numpy.object_ and will be casted to numpy.string_ (Note: numpy.string_ is equivalent to numpy.bytes_).\n",
      "[INFO 24-02-14 15:37:25.4635 UTC kernel.cc:1233] Loading model from path /var/tmp/tmptgvsqw41/model/ with prefix 79a8466c33014ee7_0\n",
      "[INFO 24-02-14 15:37:25.4702 UTC kernel.cc:1061] Use fast generic engine\n",
      "[INFO 24-02-14 15:37:25.4770 UTC kernel.cc:1233] Loading model from path /var/tmp/tmptgvsqw41/model/ with prefix 79a8466c33014ee7_1\n",
      "[INFO 24-02-14 15:37:25.4783 UTC kernel.cc:1061] Use fast generic engine\n",
      "[INFO 24-02-14 15:37:25.4841 UTC kernel.cc:1233] Loading model from path /var/tmp/tmptgvsqw41/model/ with prefix 79a8466c33014ee7_2\n",
      "[INFO 24-02-14 15:37:25.4929 UTC kernel.cc:1061] Use fast generic engine\n"
     ]
    },
    {
     "name": "stdout",
     "output_type": "stream",
     "text": [
      "    t_barrier  barrier  overall_profit  n_trades  lower_prob  upper_prob\n",
      "35          2      0.5             0.0         1         0.8         0.8\n",
      "89          4      0.3             0.0         1         0.8         0.8\n",
      "75          4      0.2             0.0         1         0.6         0.4\n",
      "76          4      0.2             0.0         1         0.6         0.6\n",
      "77          4      0.2             0.0         1         0.6         0.8\n"
     ]
    },
    {
     "name": "stderr",
     "output_type": "stream",
     "text": [
      "WARNING:root:Feature \"ticker\" is an array of numpy.object_ and will be casted to numpy.string_ (Note: numpy.string_ is equivalent to numpy.bytes_).\n",
      "[INFO 24-02-14 15:37:30.2799 UTC kernel.cc:1233] Loading model from path /var/tmp/tmp801eubri/model/ with prefix 383910f1a5624735_0\n",
      "[INFO 24-02-14 15:37:30.2869 UTC kernel.cc:1061] Use fast generic engine\n",
      "[INFO 24-02-14 15:37:30.2935 UTC kernel.cc:1233] Loading model from path /var/tmp/tmp801eubri/model/ with prefix 383910f1a5624735_1\n",
      "[INFO 24-02-14 15:37:30.2950 UTC kernel.cc:1061] Use fast generic engine\n",
      "[INFO 24-02-14 15:37:30.3006 UTC kernel.cc:1233] Loading model from path /var/tmp/tmp801eubri/model/ with prefix 383910f1a5624735_2\n",
      "[INFO 24-02-14 15:37:30.3090 UTC kernel.cc:1061] Use fast generic engine\n"
     ]
    },
    {
     "name": "stdout",
     "output_type": "stream",
     "text": [
      "    t_barrier  barrier  overall_profit  n_trades  lower_prob  upper_prob\n",
      "80          4      0.2             0.0         1         0.8         0.8\n",
      "79          4      0.2             0.0         1         0.8         0.6\n",
      "78          4      0.2             0.0         1         0.8         0.4\n",
      "77          4      0.2             0.0         1         0.6         0.8\n",
      "76          4      0.2             0.0         1         0.6         0.6\n"
     ]
    },
    {
     "name": "stderr",
     "output_type": "stream",
     "text": [
      "WARNING:root:Feature \"ticker\" is an array of numpy.object_ and will be casted to numpy.string_ (Note: numpy.string_ is equivalent to numpy.bytes_).\n",
      "[INFO 24-02-14 15:37:33.8737 UTC kernel.cc:1233] Loading model from path /var/tmp/tmpbv7734hw/model/ with prefix 6097715a77fe4544_0\n",
      "[INFO 24-02-14 15:37:33.8799 UTC abstract_model.cc:1344] Engine \"GradientBoostedTreesQuickScorerExtended\" built\n",
      "[INFO 24-02-14 15:37:33.8800 UTC kernel.cc:1061] Use fast generic engine\n",
      "[INFO 24-02-14 15:37:33.8863 UTC kernel.cc:1233] Loading model from path /var/tmp/tmpbv7734hw/model/ with prefix 6097715a77fe4544_1\n",
      "[INFO 24-02-14 15:37:33.8871 UTC kernel.cc:1061] Use fast generic engine\n",
      "[INFO 24-02-14 15:37:33.8927 UTC kernel.cc:1233] Loading model from path /var/tmp/tmpbv7734hw/model/ with prefix 6097715a77fe4544_2\n",
      "[INFO 24-02-14 15:37:33.9004 UTC kernel.cc:1061] Use fast generic engine\n"
     ]
    },
    {
     "name": "stdout",
     "output_type": "stream",
     "text": [
      "    t_barrier  barrier  overall_profit  n_trades  lower_prob  upper_prob\n",
      "89          4      0.3             0.0         1         0.8         0.8\n",
      "79          4      0.2             0.0         1         0.8         0.6\n",
      "35          2      0.5             0.0         1         0.8         0.8\n",
      "75          4      0.2             0.0         1         0.6         0.4\n",
      "76          4      0.2             0.0         1         0.6         0.6\n"
     ]
    },
    {
     "name": "stderr",
     "output_type": "stream",
     "text": [
      "WARNING:root:Feature \"ticker\" is an array of numpy.object_ and will be casted to numpy.string_ (Note: numpy.string_ is equivalent to numpy.bytes_).\n",
      "[INFO 24-02-14 15:37:37.4875 UTC kernel.cc:1233] Loading model from path /var/tmp/tmpzfrgv9n0/model/ with prefix ee50671f77ef4db5_0\n",
      "[INFO 24-02-14 15:37:37.4936 UTC kernel.cc:1061] Use fast generic engine\n",
      "[INFO 24-02-14 15:37:37.5003 UTC kernel.cc:1233] Loading model from path /var/tmp/tmpzfrgv9n0/model/ with prefix ee50671f77ef4db5_1\n",
      "[INFO 24-02-14 15:37:37.5011 UTC kernel.cc:1061] Use fast generic engine\n",
      "[INFO 24-02-14 15:37:37.5066 UTC kernel.cc:1233] Loading model from path /var/tmp/tmpzfrgv9n0/model/ with prefix ee50671f77ef4db5_2\n",
      "[INFO 24-02-14 15:37:37.5142 UTC kernel.cc:1061] Use fast generic engine\n"
     ]
    },
    {
     "name": "stdout",
     "output_type": "stream",
     "text": [
      "    t_barrier  barrier  overall_profit  n_trades  lower_prob  upper_prob\n",
      "75          4      0.2             0.0         1         0.6         0.4\n",
      "77          4      0.2             0.0         1         0.6         0.8\n",
      "35          2      0.5             0.0         1         0.8         0.8\n",
      "89          4      0.3             0.0         1         0.8         0.8\n",
      "80          4      0.2             0.0         1         0.8         0.8\n"
     ]
    },
    {
     "name": "stderr",
     "output_type": "stream",
     "text": [
      "WARNING:root:Feature \"ticker\" is an array of numpy.object_ and will be casted to numpy.string_ (Note: numpy.string_ is equivalent to numpy.bytes_).\n",
      "[INFO 24-02-14 15:37:41.0896 UTC kernel.cc:1233] Loading model from path /var/tmp/tmptzoebwkn/model/ with prefix 3941de44ed8045b9_0\n",
      "[INFO 24-02-14 15:37:41.0956 UTC quick_scorer_extended.cc:903] The binary was compiled without AVX2 support, but your CPU supports it. Enable it for faster model inference.\n",
      "[INFO 24-02-14 15:37:41.0961 UTC kernel.cc:1061] Use fast generic engine\n",
      "[INFO 24-02-14 15:37:41.1028 UTC kernel.cc:1233] Loading model from path /var/tmp/tmptzoebwkn/model/ with prefix 3941de44ed8045b9_1\n",
      "[INFO 24-02-14 15:37:41.1037 UTC kernel.cc:1061] Use fast generic engine\n",
      "[INFO 24-02-14 15:37:41.1092 UTC kernel.cc:1233] Loading model from path /var/tmp/tmptzoebwkn/model/ with prefix 3941de44ed8045b9_2\n",
      "[INFO 24-02-14 15:37:41.1167 UTC kernel.cc:1061] Use fast generic engine\n"
     ]
    },
    {
     "name": "stdout",
     "output_type": "stream",
     "text": [
      "    t_barrier  barrier  overall_profit  n_trades  lower_prob  upper_prob\n",
      "78          4      0.2             0.0         1         0.8         0.4\n",
      "79          4      0.2             0.0         1         0.8         0.6\n",
      "89          4      0.3             0.0         1         0.8         0.8\n",
      "80          4      0.2             0.0         1         0.8         0.8\n",
      "75          4      0.2             0.0         1         0.6         0.4\n"
     ]
    },
    {
     "name": "stderr",
     "output_type": "stream",
     "text": [
      "WARNING:root:Feature \"ticker\" is an array of numpy.object_ and will be casted to numpy.string_ (Note: numpy.string_ is equivalent to numpy.bytes_).\n",
      "[INFO 24-02-14 15:37:46.5448 UTC kernel.cc:1233] Loading model from path /var/tmp/tmpfp2truut/model/ with prefix e4f6012b41164b61_0\n",
      "[INFO 24-02-14 15:37:46.5528 UTC abstract_model.cc:1344] Engine \"GradientBoostedTreesQuickScorerExtended\" built\n",
      "[INFO 24-02-14 15:37:46.5529 UTC kernel.cc:1061] Use fast generic engine\n",
      "[INFO 24-02-14 15:37:46.5602 UTC kernel.cc:1233] Loading model from path /var/tmp/tmpfp2truut/model/ with prefix e4f6012b41164b61_1\n",
      "[INFO 24-02-14 15:37:46.5612 UTC kernel.cc:1061] Use fast generic engine\n",
      "[INFO 24-02-14 15:37:46.5671 UTC kernel.cc:1233] Loading model from path /var/tmp/tmpfp2truut/model/ with prefix e4f6012b41164b61_2\n",
      "[INFO 24-02-14 15:37:46.5766 UTC kernel.cc:1061] Use fast generic engine\n"
     ]
    },
    {
     "name": "stdout",
     "output_type": "stream",
     "text": [
      "    t_barrier  barrier  overall_profit  n_trades  lower_prob  upper_prob\n",
      "76          4      0.2             0.0         1         0.6         0.6\n",
      "79          4      0.2             0.0         1         0.8         0.6\n",
      "89          4      0.3             0.0         1         0.8         0.8\n",
      "75          4      0.2             0.0         1         0.6         0.4\n",
      "77          4      0.2             0.0         1         0.6         0.8\n"
     ]
    },
    {
     "name": "stderr",
     "output_type": "stream",
     "text": [
      "WARNING:root:Feature \"ticker\" is an array of numpy.object_ and will be casted to numpy.string_ (Note: numpy.string_ is equivalent to numpy.bytes_).\n",
      "[INFO 24-02-14 15:37:50.3142 UTC kernel.cc:1233] Loading model from path /var/tmp/tmp090ut1fs/model/ with prefix ac2de3884ee64323_0\n",
      "[INFO 24-02-14 15:37:50.3211 UTC kernel.cc:1061] Use fast generic engine\n",
      "[INFO 24-02-14 15:37:50.3285 UTC kernel.cc:1233] Loading model from path /var/tmp/tmp090ut1fs/model/ with prefix ac2de3884ee64323_1\n",
      "[INFO 24-02-14 15:37:50.3294 UTC kernel.cc:1061] Use fast generic engine\n",
      "[INFO 24-02-14 15:37:50.3352 UTC kernel.cc:1233] Loading model from path /var/tmp/tmp090ut1fs/model/ with prefix ac2de3884ee64323_2\n",
      "[INFO 24-02-14 15:37:50.3436 UTC kernel.cc:1061] Use fast generic engine\n"
     ]
    },
    {
     "name": "stdout",
     "output_type": "stream",
     "text": [
      "    t_barrier  barrier  overall_profit  n_trades  lower_prob  upper_prob\n",
      "77          4      0.2             0.0         1         0.6         0.8\n",
      "75          4      0.2             0.0         1         0.6         0.4\n",
      "89          4      0.3             0.0         1         0.8         0.8\n",
      "79          4      0.2             0.0         1         0.8         0.6\n",
      "76          4      0.2             0.0         1         0.6         0.6\n"
     ]
    },
    {
     "name": "stderr",
     "output_type": "stream",
     "text": [
      "WARNING:root:Feature \"ticker\" is an array of numpy.object_ and will be casted to numpy.string_ (Note: numpy.string_ is equivalent to numpy.bytes_).\n",
      "[INFO 24-02-14 15:37:54.0068 UTC kernel.cc:1233] Loading model from path /var/tmp/tmpwnkj6n7_/model/ with prefix 17b4c164c6294f7f_0\n",
      "[INFO 24-02-14 15:37:54.0134 UTC kernel.cc:1061] Use fast generic engine\n",
      "[INFO 24-02-14 15:37:54.0205 UTC kernel.cc:1233] Loading model from path /var/tmp/tmpwnkj6n7_/model/ with prefix 17b4c164c6294f7f_1\n",
      "[INFO 24-02-14 15:37:54.0214 UTC kernel.cc:1061] Use fast generic engine\n",
      "[INFO 24-02-14 15:37:54.0270 UTC kernel.cc:1233] Loading model from path /var/tmp/tmpwnkj6n7_/model/ with prefix 17b4c164c6294f7f_2\n",
      "[INFO 24-02-14 15:37:54.0351 UTC kernel.cc:1061] Use fast generic engine\n"
     ]
    },
    {
     "name": "stdout",
     "output_type": "stream",
     "text": [
      "    t_barrier  barrier  overall_profit  n_trades  lower_prob  upper_prob\n",
      "77          4      0.2             0.0         1         0.6         0.8\n",
      "76          4      0.2             0.0         1         0.6         0.6\n",
      "75          4      0.2             0.0         1         0.6         0.4\n",
      "79          4      0.2             0.0         1         0.8         0.6\n",
      "80          4      0.2             0.0         1         0.8         0.8\n"
     ]
    },
    {
     "name": "stderr",
     "output_type": "stream",
     "text": [
      "WARNING:root:Feature \"ticker\" is an array of numpy.object_ and will be casted to numpy.string_ (Note: numpy.string_ is equivalent to numpy.bytes_).\n",
      "[INFO 24-02-14 15:37:57.7095 UTC kernel.cc:1233] Loading model from path /var/tmp/tmpwkym1ekl/model/ with prefix 6cbe06b32b054484_0\n",
      "[INFO 24-02-14 15:37:57.7160 UTC abstract_model.cc:1344] Engine \"GradientBoostedTreesQuickScorerExtended\" built\n",
      "[INFO 24-02-14 15:37:57.7162 UTC kernel.cc:1061] Use fast generic engine\n",
      "[INFO 24-02-14 15:37:57.7234 UTC kernel.cc:1233] Loading model from path /var/tmp/tmpwkym1ekl/model/ with prefix 6cbe06b32b054484_1\n",
      "[INFO 24-02-14 15:37:57.7243 UTC kernel.cc:1061] Use fast generic engine\n",
      "[INFO 24-02-14 15:37:57.7302 UTC kernel.cc:1233] Loading model from path /var/tmp/tmpwkym1ekl/model/ with prefix 6cbe06b32b054484_2\n",
      "[INFO 24-02-14 15:37:57.7381 UTC kernel.cc:1061] Use fast generic engine\n"
     ]
    },
    {
     "name": "stdout",
     "output_type": "stream",
     "text": [
      "     t_barrier  barrier  overall_profit  n_trades  lower_prob  upper_prob\n",
      "114          5      0.2             0.0         1         0.8         0.4\n",
      "35           2      0.5             0.0         1         0.8         0.8\n",
      "89           4      0.3             0.0         1         0.8         0.8\n",
      "80           4      0.2             0.0         1         0.8         0.8\n",
      "79           4      0.2             0.0         1         0.8         0.6\n"
     ]
    },
    {
     "name": "stderr",
     "output_type": "stream",
     "text": [
      "WARNING:root:Feature \"ticker\" is an array of numpy.object_ and will be casted to numpy.string_ (Note: numpy.string_ is equivalent to numpy.bytes_).\n",
      "[INFO 24-02-14 15:38:01.4358 UTC kernel.cc:1233] Loading model from path /var/tmp/tmpxfq2im4h/model/ with prefix ba99b24727e14373_0\n",
      "[INFO 24-02-14 15:38:01.4421 UTC kernel.cc:1061] Use fast generic engine\n",
      "[INFO 24-02-14 15:38:01.4487 UTC kernel.cc:1233] Loading model from path /var/tmp/tmpxfq2im4h/model/ with prefix ba99b24727e14373_1\n",
      "[INFO 24-02-14 15:38:01.4496 UTC kernel.cc:1061] Use fast generic engine\n",
      "[INFO 24-02-14 15:38:01.4551 UTC kernel.cc:1233] Loading model from path /var/tmp/tmpxfq2im4h/model/ with prefix ba99b24727e14373_2\n",
      "[INFO 24-02-14 15:38:01.4626 UTC kernel.cc:1061] Use fast generic engine\n"
     ]
    },
    {
     "name": "stdout",
     "output_type": "stream",
     "text": [
      "     t_barrier  barrier  overall_profit  n_trades  lower_prob  upper_prob\n",
      "115          5      0.2             0.0         1         0.8         0.6\n",
      "35           2      0.5             0.0         1         0.8         0.8\n",
      "89           4      0.3             0.0         1         0.8         0.8\n",
      "114          5      0.2             0.0         1         0.8         0.4\n",
      "80           4      0.2             0.0         1         0.8         0.8\n"
     ]
    },
    {
     "name": "stderr",
     "output_type": "stream",
     "text": [
      "WARNING:root:Feature \"ticker\" is an array of numpy.object_ and will be casted to numpy.string_ (Note: numpy.string_ is equivalent to numpy.bytes_).\n",
      "[INFO 24-02-14 15:38:05.0864 UTC kernel.cc:1233] Loading model from path /var/tmp/tmp7p2bpf9k/model/ with prefix 05d5e393f1e049a2_0\n",
      "[INFO 24-02-14 15:38:05.0930 UTC kernel.cc:1061] Use fast generic engine\n",
      "[INFO 24-02-14 15:38:05.1005 UTC kernel.cc:1233] Loading model from path /var/tmp/tmp7p2bpf9k/model/ with prefix 05d5e393f1e049a2_1\n",
      "[INFO 24-02-14 15:38:05.1015 UTC kernel.cc:1061] Use fast generic engine\n",
      "[INFO 24-02-14 15:38:05.1076 UTC kernel.cc:1233] Loading model from path /var/tmp/tmp7p2bpf9k/model/ with prefix 05d5e393f1e049a2_2\n",
      "[INFO 24-02-14 15:38:05.1157 UTC kernel.cc:1061] Use fast generic engine\n"
     ]
    },
    {
     "name": "stdout",
     "output_type": "stream",
     "text": [
      "     t_barrier  barrier  overall_profit  n_trades  lower_prob  upper_prob\n",
      "116          5      0.2             0.0         1         0.8         0.8\n",
      "114          5      0.2             0.0         1         0.8         0.4\n",
      "89           4      0.3             0.0         1         0.8         0.8\n",
      "115          5      0.2             0.0         1         0.8         0.6\n",
      "80           4      0.2             0.0         1         0.8         0.8\n"
     ]
    },
    {
     "name": "stderr",
     "output_type": "stream",
     "text": [
      "WARNING:root:Feature \"ticker\" is an array of numpy.object_ and will be casted to numpy.string_ (Note: numpy.string_ is equivalent to numpy.bytes_).\n",
      "[INFO 24-02-14 15:38:08.7522 UTC kernel.cc:1233] Loading model from path /var/tmp/tmp3f5sq0vx/model/ with prefix c03483f77d7c4ebe_0\n",
      "[INFO 24-02-14 15:38:08.7566 UTC abstract_model.cc:1344] Engine \"GradientBoostedTreesQuickScorerExtended\" built\n",
      "[INFO 24-02-14 15:38:08.7568 UTC kernel.cc:1061] Use fast generic engine\n",
      "[INFO 24-02-14 15:38:08.7648 UTC kernel.cc:1233] Loading model from path /var/tmp/tmp3f5sq0vx/model/ with prefix c03483f77d7c4ebe_1\n",
      "[INFO 24-02-14 15:38:08.7658 UTC kernel.cc:1061] Use fast generic engine\n",
      "[INFO 24-02-14 15:38:08.7714 UTC kernel.cc:1233] Loading model from path /var/tmp/tmp3f5sq0vx/model/ with prefix c03483f77d7c4ebe_2\n",
      "[INFO 24-02-14 15:38:08.7794 UTC kernel.cc:1061] Use fast generic engine\n"
     ]
    },
    {
     "name": "stdout",
     "output_type": "stream",
     "text": [
      "     t_barrier  barrier  overall_profit  n_trades  lower_prob  upper_prob\n",
      "115          5      0.2             0.0         1         0.8         0.6\n",
      "76           4      0.2             0.0         1         0.6         0.6\n",
      "116          5      0.2             0.0         1         0.8         0.8\n",
      "89           4      0.3             0.0         1         0.8         0.8\n",
      "77           4      0.2             0.0         1         0.6         0.8\n"
     ]
    },
    {
     "name": "stderr",
     "output_type": "stream",
     "text": [
      "WARNING:root:Feature \"ticker\" is an array of numpy.object_ and will be casted to numpy.string_ (Note: numpy.string_ is equivalent to numpy.bytes_).\n",
      "[INFO 24-02-14 15:38:12.4390 UTC kernel.cc:1233] Loading model from path /var/tmp/tmpox7o6h7x/model/ with prefix 36f01cb863dd4a7f_0\n",
      "[INFO 24-02-14 15:38:12.4432 UTC quick_scorer_extended.cc:903] The binary was compiled without AVX2 support, but your CPU supports it. Enable it for faster model inference.\n",
      "[INFO 24-02-14 15:38:12.4435 UTC kernel.cc:1061] Use fast generic engine\n",
      "[INFO 24-02-14 15:38:12.4500 UTC kernel.cc:1233] Loading model from path /var/tmp/tmpox7o6h7x/model/ with prefix 36f01cb863dd4a7f_1\n",
      "[INFO 24-02-14 15:38:12.4511 UTC kernel.cc:1061] Use fast generic engine\n",
      "[INFO 24-02-14 15:38:12.4568 UTC kernel.cc:1233] Loading model from path /var/tmp/tmpox7o6h7x/model/ with prefix 36f01cb863dd4a7f_2\n",
      "[INFO 24-02-14 15:38:12.4647 UTC kernel.cc:1061] Use fast generic engine\n"
     ]
    },
    {
     "name": "stdout",
     "output_type": "stream",
     "text": [
      "     t_barrier  barrier  overall_profit  n_trades  lower_prob  upper_prob\n",
      "79           4      0.2             0.0         1         0.8         0.6\n",
      "114          5      0.2             0.0         1         0.8         0.4\n",
      "78           4      0.2             0.0         1         0.8         0.4\n",
      "77           4      0.2             0.0         1         0.6         0.8\n",
      "89           4      0.3             0.0         1         0.8         0.8\n"
     ]
    },
    {
     "name": "stderr",
     "output_type": "stream",
     "text": [
      "WARNING:root:Feature \"ticker\" is an array of numpy.object_ and will be casted to numpy.string_ (Note: numpy.string_ is equivalent to numpy.bytes_).\n",
      "[INFO 24-02-14 15:38:16.1717 UTC kernel.cc:1233] Loading model from path /var/tmp/tmpdve56jre/model/ with prefix aeacd0c73bb44d39_0\n",
      "[INFO 24-02-14 15:38:16.1766 UTC kernel.cc:1061] Use fast generic engine\n",
      "[INFO 24-02-14 15:38:16.1858 UTC kernel.cc:1233] Loading model from path /var/tmp/tmpdve56jre/model/ with prefix aeacd0c73bb44d39_1\n",
      "[INFO 24-02-14 15:38:16.1871 UTC kernel.cc:1061] Use fast generic engine\n",
      "[INFO 24-02-14 15:38:16.1934 UTC kernel.cc:1233] Loading model from path /var/tmp/tmpdve56jre/model/ with prefix aeacd0c73bb44d39_2\n",
      "[INFO 24-02-14 15:38:16.2024 UTC kernel.cc:1061] Use fast generic engine\n"
     ]
    },
    {
     "name": "stdout",
     "output_type": "stream",
     "text": [
      "     t_barrier  barrier  overall_profit  n_trades  lower_prob  upper_prob\n",
      "79           4      0.2             0.0         1         0.8         0.6\n",
      "35           2      0.5             0.0         1         0.8         0.8\n",
      "75           4      0.2             0.0         1         0.6         0.4\n",
      "116          5      0.2             0.0         1         0.8         0.8\n",
      "115          5      0.2             0.0         1         0.8         0.6\n"
     ]
    },
    {
     "name": "stderr",
     "output_type": "stream",
     "text": [
      "WARNING:root:Feature \"ticker\" is an array of numpy.object_ and will be casted to numpy.string_ (Note: numpy.string_ is equivalent to numpy.bytes_).\n",
      "[INFO 24-02-14 15:38:19.8337 UTC kernel.cc:1233] Loading model from path /var/tmp/tmpod93texg/model/ with prefix 43ea47d784e24596_0\n",
      "[INFO 24-02-14 15:38:19.8385 UTC abstract_model.cc:1344] Engine \"GradientBoostedTreesQuickScorerExtended\" built\n",
      "[INFO 24-02-14 15:38:19.8387 UTC kernel.cc:1061] Use fast generic engine\n",
      "[INFO 24-02-14 15:38:19.8463 UTC kernel.cc:1233] Loading model from path /var/tmp/tmpod93texg/model/ with prefix 43ea47d784e24596_1\n",
      "[INFO 24-02-14 15:38:19.8476 UTC kernel.cc:1061] Use fast generic engine\n",
      "[INFO 24-02-14 15:38:19.8543 UTC kernel.cc:1233] Loading model from path /var/tmp/tmpod93texg/model/ with prefix 43ea47d784e24596_2\n",
      "[INFO 24-02-14 15:38:19.8634 UTC kernel.cc:1061] Use fast generic engine\n"
     ]
    },
    {
     "name": "stdout",
     "output_type": "stream",
     "text": [
      "     t_barrier  barrier  overall_profit  n_trades  lower_prob  upper_prob\n",
      "80           4      0.2             0.0         1         0.8         0.8\n",
      "89           4      0.3             0.0         1         0.8         0.8\n",
      "75           4      0.2             0.0         1         0.6         0.4\n",
      "76           4      0.2             0.0         1         0.6         0.6\n",
      "116          5      0.2             0.0         1         0.8         0.8\n"
     ]
    },
    {
     "name": "stderr",
     "output_type": "stream",
     "text": [
      "WARNING:root:Feature \"ticker\" is an array of numpy.object_ and will be casted to numpy.string_ (Note: numpy.string_ is equivalent to numpy.bytes_).\n",
      "[INFO 24-02-14 15:38:23.4613 UTC kernel.cc:1233] Loading model from path /var/tmp/tmpt92vhvon/model/ with prefix 5c7872681af549ab_0\n",
      "[INFO 24-02-14 15:38:23.4658 UTC kernel.cc:1061] Use fast generic engine\n",
      "[INFO 24-02-14 15:38:23.4725 UTC kernel.cc:1233] Loading model from path /var/tmp/tmpt92vhvon/model/ with prefix 5c7872681af549ab_1\n",
      "[INFO 24-02-14 15:38:23.4737 UTC kernel.cc:1061] Use fast generic engine\n",
      "[INFO 24-02-14 15:38:23.4795 UTC kernel.cc:1233] Loading model from path /var/tmp/tmpt92vhvon/model/ with prefix 5c7872681af549ab_2\n",
      "[INFO 24-02-14 15:38:23.4876 UTC kernel.cc:1061] Use fast generic engine\n"
     ]
    },
    {
     "name": "stdout",
     "output_type": "stream",
     "text": [
      "     t_barrier  barrier  overall_profit  n_trades  lower_prob  upper_prob\n",
      "115          5      0.2             0.0         1         0.8         0.6\n",
      "35           2      0.5             0.0         1         0.8         0.8\n",
      "75           4      0.2             0.0         1         0.6         0.4\n",
      "76           4      0.2             0.0         1         0.6         0.6\n",
      "116          5      0.2             0.0         1         0.8         0.8\n"
     ]
    },
    {
     "name": "stderr",
     "output_type": "stream",
     "text": [
      "WARNING:root:Feature \"ticker\" is an array of numpy.object_ and will be casted to numpy.string_ (Note: numpy.string_ is equivalent to numpy.bytes_).\n",
      "[INFO 24-02-14 15:38:27.1292 UTC kernel.cc:1233] Loading model from path /var/tmp/tmpziqkt7gz/model/ with prefix 13884dab4d8e4f62_0\n",
      "[INFO 24-02-14 15:38:27.1339 UTC kernel.cc:1061] Use fast generic engine\n",
      "[INFO 24-02-14 15:38:27.1408 UTC kernel.cc:1233] Loading model from path /var/tmp/tmpziqkt7gz/model/ with prefix 13884dab4d8e4f62_1\n",
      "[INFO 24-02-14 15:38:27.1419 UTC kernel.cc:1061] Use fast generic engine\n",
      "[INFO 24-02-14 15:38:27.1477 UTC kernel.cc:1233] Loading model from path /var/tmp/tmpziqkt7gz/model/ with prefix 13884dab4d8e4f62_2\n",
      "[INFO 24-02-14 15:38:27.1559 UTC kernel.cc:1061] Use fast generic engine\n"
     ]
    },
    {
     "name": "stdout",
     "output_type": "stream",
     "text": [
      "     t_barrier  barrier  overall_profit  n_trades  lower_prob  upper_prob\n",
      "78           4      0.2             0.0         1         0.8         0.4\n",
      "75           4      0.2             0.0         1         0.6         0.4\n",
      "116          5      0.2             0.0         1         0.8         0.8\n",
      "115          5      0.2             0.0         1         0.8         0.6\n",
      "114          5      0.2             0.0         1         0.8         0.4\n"
     ]
    },
    {
     "name": "stderr",
     "output_type": "stream",
     "text": [
      "WARNING:root:Feature \"ticker\" is an array of numpy.object_ and will be casted to numpy.string_ (Note: numpy.string_ is equivalent to numpy.bytes_).\n",
      "[INFO 24-02-14 15:38:30.8290 UTC kernel.cc:1233] Loading model from path /var/tmp/tmp_677dww0/model/ with prefix dd6cb27e9ab84ef8_0\n",
      "[INFO 24-02-14 15:38:30.8335 UTC abstract_model.cc:1344] Engine \"GradientBoostedTreesQuickScorerExtended\" built\n",
      "[INFO 24-02-14 15:38:30.8337 UTC kernel.cc:1061] Use fast generic engine\n",
      "[INFO 24-02-14 15:38:30.8407 UTC kernel.cc:1233] Loading model from path /var/tmp/tmp_677dww0/model/ with prefix dd6cb27e9ab84ef8_1\n",
      "[INFO 24-02-14 15:38:30.8419 UTC kernel.cc:1061] Use fast generic engine\n",
      "[INFO 24-02-14 15:38:30.8478 UTC kernel.cc:1233] Loading model from path /var/tmp/tmp_677dww0/model/ with prefix dd6cb27e9ab84ef8_2\n",
      "[INFO 24-02-14 15:38:30.8560 UTC kernel.cc:1061] Use fast generic engine\n"
     ]
    },
    {
     "name": "stdout",
     "output_type": "stream",
     "text": [
      "     t_barrier  barrier  overall_profit  n_trades  lower_prob  upper_prob\n",
      "123          5      0.3             0.0         1         0.8         0.4\n",
      "80           4      0.2             0.0         1         0.8         0.8\n",
      "35           2      0.5             0.0         1         0.8         0.8\n",
      "75           4      0.2             0.0         1         0.6         0.4\n",
      "76           4      0.2             0.0         1         0.6         0.6\n"
     ]
    },
    {
     "name": "stderr",
     "output_type": "stream",
     "text": [
      "WARNING:root:Feature \"ticker\" is an array of numpy.object_ and will be casted to numpy.string_ (Note: numpy.string_ is equivalent to numpy.bytes_).\n",
      "[INFO 24-02-14 15:38:34.5615 UTC kernel.cc:1233] Loading model from path /var/tmp/tmp421s35ub/model/ with prefix 7ed61ec0c4e14813_0\n",
      "[INFO 24-02-14 15:38:34.5664 UTC kernel.cc:1061] Use fast generic engine\n",
      "[INFO 24-02-14 15:38:34.5735 UTC kernel.cc:1233] Loading model from path /var/tmp/tmp421s35ub/model/ with prefix 7ed61ec0c4e14813_1\n",
      "[INFO 24-02-14 15:38:34.5747 UTC kernel.cc:1061] Use fast generic engine\n",
      "[INFO 24-02-14 15:38:34.5806 UTC kernel.cc:1233] Loading model from path /var/tmp/tmp421s35ub/model/ with prefix 7ed61ec0c4e14813_2\n",
      "[INFO 24-02-14 15:38:34.5889 UTC kernel.cc:1061] Use fast generic engine\n"
     ]
    },
    {
     "name": "stdout",
     "output_type": "stream",
     "text": [
      "     t_barrier  barrier  overall_profit  n_trades  lower_prob  upper_prob\n",
      "124          5      0.3             0.0         1         0.8         0.6\n",
      "80           4      0.2             0.0         1         0.8         0.8\n",
      "35           2      0.5             0.0         1         0.8         0.8\n",
      "75           4      0.2             0.0         1         0.6         0.4\n",
      "76           4      0.2             0.0         1         0.6         0.6\n"
     ]
    },
    {
     "name": "stderr",
     "output_type": "stream",
     "text": [
      "WARNING:root:Feature \"ticker\" is an array of numpy.object_ and will be casted to numpy.string_ (Note: numpy.string_ is equivalent to numpy.bytes_).\n",
      "[INFO 24-02-14 15:38:38.2971 UTC kernel.cc:1233] Loading model from path /var/tmp/tmpcd25f_7z/model/ with prefix ddae7bc2efa843eb_0\n",
      "[INFO 24-02-14 15:38:38.3021 UTC kernel.cc:1061] Use fast generic engine\n",
      "[INFO 24-02-14 15:38:38.3094 UTC kernel.cc:1233] Loading model from path /var/tmp/tmpcd25f_7z/model/ with prefix ddae7bc2efa843eb_1\n",
      "[INFO 24-02-14 15:38:38.3109 UTC kernel.cc:1061] Use fast generic engine\n",
      "[INFO 24-02-14 15:38:38.3177 UTC kernel.cc:1233] Loading model from path /var/tmp/tmpcd25f_7z/model/ with prefix ddae7bc2efa843eb_2\n",
      "[INFO 24-02-14 15:38:38.3274 UTC kernel.cc:1061] Use fast generic engine\n"
     ]
    },
    {
     "name": "stdout",
     "output_type": "stream",
     "text": [
      "     t_barrier  barrier  overall_profit  n_trades  lower_prob  upper_prob\n",
      "125          5      0.3             0.0         1         0.8         0.8\n",
      "80           4      0.2             0.0         1         0.8         0.8\n",
      "78           4      0.2             0.0         1         0.8         0.4\n",
      "77           4      0.2             0.0         1         0.6         0.8\n",
      "35           2      0.5             0.0         1         0.8         0.8\n"
     ]
    },
    {
     "name": "stderr",
     "output_type": "stream",
     "text": [
      "WARNING:root:Feature \"ticker\" is an array of numpy.object_ and will be casted to numpy.string_ (Note: numpy.string_ is equivalent to numpy.bytes_).\n",
      "[INFO 24-02-14 15:38:42.5781 UTC kernel.cc:1233] Loading model from path /var/tmp/tmpgbr1lt6e/model/ with prefix 03cd845723d8487a_0\n",
      "[INFO 24-02-14 15:38:42.5912 UTC quick_scorer_extended.cc:903] The binary was compiled without AVX2 support, but your CPU supports it. Enable it for faster model inference.\n",
      "[INFO 24-02-14 15:38:42.5921 UTC abstract_model.cc:1344] Engine \"GradientBoostedTreesQuickScorerExtended\" built\n",
      "[INFO 24-02-14 15:38:42.5922 UTC kernel.cc:1061] Use fast generic engine\n",
      "[INFO 24-02-14 15:38:42.6003 UTC kernel.cc:1233] Loading model from path /var/tmp/tmpgbr1lt6e/model/ with prefix 03cd845723d8487a_1\n",
      "[INFO 24-02-14 15:38:42.6023 UTC kernel.cc:1061] Use fast generic engine\n",
      "[INFO 24-02-14 15:38:42.6084 UTC kernel.cc:1233] Loading model from path /var/tmp/tmpgbr1lt6e/model/ with prefix 03cd845723d8487a_2\n",
      "[INFO 24-02-14 15:38:42.6247 UTC kernel.cc:1061] Use fast generic engine\n"
     ]
    },
    {
     "name": "stdout",
     "output_type": "stream",
     "text": [
      "     t_barrier  barrier  overall_profit  n_trades  lower_prob  upper_prob\n",
      "89           4      0.3             0.0         1         0.8         0.8\n",
      "124          5      0.3             0.0         1         0.8         0.6\n",
      "35           2      0.5             0.0         1         0.8         0.8\n",
      "79           4      0.2             0.0         1         0.8         0.6\n",
      "78           4      0.2             0.0         1         0.8         0.4\n"
     ]
    },
    {
     "name": "stderr",
     "output_type": "stream",
     "text": [
      "WARNING:root:Feature \"ticker\" is an array of numpy.object_ and will be casted to numpy.string_ (Note: numpy.string_ is equivalent to numpy.bytes_).\n",
      "[INFO 24-02-14 15:38:46.9611 UTC kernel.cc:1233] Loading model from path /var/tmp/tmp_415m9n5/model/ with prefix feb2e6eb860d4179_0\n",
      "[INFO 24-02-14 15:38:46.9739 UTC kernel.cc:1061] Use fast generic engine\n",
      "[INFO 24-02-14 15:38:46.9812 UTC kernel.cc:1233] Loading model from path /var/tmp/tmp_415m9n5/model/ with prefix feb2e6eb860d4179_1\n",
      "[INFO 24-02-14 15:38:46.9831 UTC kernel.cc:1061] Use fast generic engine\n",
      "[INFO 24-02-14 15:38:46.9888 UTC kernel.cc:1233] Loading model from path /var/tmp/tmp_415m9n5/model/ with prefix feb2e6eb860d4179_2\n",
      "[INFO 24-02-14 15:38:47.0029 UTC kernel.cc:1061] Use fast generic engine\n"
     ]
    },
    {
     "name": "stdout",
     "output_type": "stream",
     "text": [
      "     t_barrier  barrier  overall_profit  n_trades  lower_prob  upper_prob\n",
      "89           4      0.3             0.0         1         0.8         0.8\n",
      "78           4      0.2             0.0         1         0.8         0.4\n",
      "124          5      0.3             0.0         1         0.8         0.6\n",
      "123          5      0.3             0.0         1         0.8         0.4\n",
      "35           2      0.5             0.0         1         0.8         0.8\n"
     ]
    },
    {
     "name": "stderr",
     "output_type": "stream",
     "text": [
      "WARNING:root:Feature \"ticker\" is an array of numpy.object_ and will be casted to numpy.string_ (Note: numpy.string_ is equivalent to numpy.bytes_).\n",
      "[INFO 24-02-14 15:38:51.2990 UTC kernel.cc:1233] Loading model from path /var/tmp/tmpqtz3em17/model/ with prefix 62796339310f4e04_0\n",
      "[INFO 24-02-14 15:38:51.3119 UTC kernel.cc:1061] Use fast generic engine\n",
      "[INFO 24-02-14 15:38:51.3193 UTC kernel.cc:1233] Loading model from path /var/tmp/tmpqtz3em17/model/ with prefix 62796339310f4e04_1\n",
      "[INFO 24-02-14 15:38:51.3210 UTC kernel.cc:1061] Use fast generic engine\n",
      "[INFO 24-02-14 15:38:51.3267 UTC kernel.cc:1233] Loading model from path /var/tmp/tmpqtz3em17/model/ with prefix 62796339310f4e04_2\n",
      "[INFO 24-02-14 15:38:51.3410 UTC kernel.cc:1061] Use fast generic engine\n"
     ]
    },
    {
     "name": "stdout",
     "output_type": "stream",
     "text": [
      "     t_barrier  barrier  overall_profit  n_trades  lower_prob  upper_prob\n",
      "116          5      0.2             0.0         1         0.8         0.8\n",
      "77           4      0.2             0.0         1         0.6         0.8\n",
      "125          5      0.3             0.0         1         0.8         0.8\n",
      "115          5      0.2             0.0         1         0.8         0.6\n",
      "124          5      0.3             0.0         1         0.8         0.6\n"
     ]
    },
    {
     "name": "stderr",
     "output_type": "stream",
     "text": [
      "WARNING:root:Feature \"ticker\" is an array of numpy.object_ and will be casted to numpy.string_ (Note: numpy.string_ is equivalent to numpy.bytes_).\n",
      "[INFO 24-02-14 15:38:55.6532 UTC kernel.cc:1233] Loading model from path /var/tmp/tmplvx68ctm/model/ with prefix e6fd5c25c9024bf8_0\n",
      "[INFO 24-02-14 15:38:55.6661 UTC abstract_model.cc:1344] Engine \"GradientBoostedTreesQuickScorerExtended\" built\n",
      "[INFO 24-02-14 15:38:55.6663 UTC kernel.cc:1061] Use fast generic engine\n",
      "[INFO 24-02-14 15:38:55.6743 UTC kernel.cc:1233] Loading model from path /var/tmp/tmplvx68ctm/model/ with prefix e6fd5c25c9024bf8_1\n",
      "[INFO 24-02-14 15:38:55.6761 UTC kernel.cc:1061] Use fast generic engine\n",
      "[INFO 24-02-14 15:38:55.6818 UTC kernel.cc:1233] Loading model from path /var/tmp/tmplvx68ctm/model/ with prefix e6fd5c25c9024bf8_2\n",
      "[INFO 24-02-14 15:38:55.6963 UTC kernel.cc:1061] Use fast generic engine\n"
     ]
    },
    {
     "name": "stdout",
     "output_type": "stream",
     "text": [
      "     t_barrier  barrier  overall_profit  n_trades  lower_prob  upper_prob\n",
      "125          5      0.3             0.0         1         0.8         0.8\n",
      "77           4      0.2             0.0         1         0.6         0.8\n",
      "124          5      0.3             0.0         1         0.8         0.6\n",
      "114          5      0.2             0.0         1         0.8         0.4\n",
      "115          5      0.2             0.0         1         0.8         0.6\n"
     ]
    },
    {
     "name": "stderr",
     "output_type": "stream",
     "text": [
      "WARNING:root:Feature \"ticker\" is an array of numpy.object_ and will be casted to numpy.string_ (Note: numpy.string_ is equivalent to numpy.bytes_).\n",
      "[INFO 24-02-14 15:38:59.9339 UTC kernel.cc:1233] Loading model from path /var/tmp/tmp4yywhl1f/model/ with prefix c3c8f0366b294513_0\n",
      "[INFO 24-02-14 15:38:59.9466 UTC kernel.cc:1061] Use fast generic engine\n",
      "[INFO 24-02-14 15:38:59.9551 UTC kernel.cc:1233] Loading model from path /var/tmp/tmp4yywhl1f/model/ with prefix c3c8f0366b294513_1\n",
      "[INFO 24-02-14 15:38:59.9570 UTC kernel.cc:1061] Use fast generic engine\n",
      "[INFO 24-02-14 15:38:59.9625 UTC kernel.cc:1233] Loading model from path /var/tmp/tmp4yywhl1f/model/ with prefix c3c8f0366b294513_2\n",
      "[INFO 24-02-14 15:38:59.9765 UTC kernel.cc:1061] Use fast generic engine\n"
     ]
    },
    {
     "name": "stdout",
     "output_type": "stream",
     "text": [
      "     t_barrier  barrier  overall_profit  n_trades  lower_prob  upper_prob\n",
      "80           4      0.2             0.0         1         0.8         0.8\n",
      "77           4      0.2             0.0         1         0.6         0.8\n",
      "125          5      0.3             0.0         1         0.8         0.8\n",
      "124          5      0.3             0.0         1         0.8         0.6\n",
      "89           4      0.3             0.0         1         0.8         0.8\n"
     ]
    },
    {
     "name": "stderr",
     "output_type": "stream",
     "text": [
      "WARNING:root:Feature \"ticker\" is an array of numpy.object_ and will be casted to numpy.string_ (Note: numpy.string_ is equivalent to numpy.bytes_).\n",
      "[INFO 24-02-14 15:39:04.3139 UTC kernel.cc:1233] Loading model from path /var/tmp/tmpgnhur7sf/model/ with prefix 534cdf00e24442e1_0\n",
      "[INFO 24-02-14 15:39:04.3277 UTC kernel.cc:1061] Use fast generic engine\n",
      "[INFO 24-02-14 15:39:04.3364 UTC kernel.cc:1233] Loading model from path /var/tmp/tmpgnhur7sf/model/ with prefix 534cdf00e24442e1_1\n",
      "[INFO 24-02-14 15:39:04.3382 UTC kernel.cc:1061] Use fast generic engine\n",
      "[INFO 24-02-14 15:39:04.3443 UTC kernel.cc:1233] Loading model from path /var/tmp/tmpgnhur7sf/model/ with prefix 534cdf00e24442e1_2\n",
      "[INFO 24-02-14 15:39:04.3587 UTC kernel.cc:1061] Use fast generic engine\n"
     ]
    },
    {
     "name": "stdout",
     "output_type": "stream",
     "text": [
      "     t_barrier  barrier  overall_profit  n_trades  lower_prob  upper_prob\n",
      "124          5      0.3             0.0         1         0.8         0.6\n",
      "115          5      0.2             0.0         1         0.8         0.6\n",
      "116          5      0.2             0.0         1         0.8         0.8\n",
      "80           4      0.2             0.0         1         0.8         0.8\n",
      "79           4      0.2             0.0         1         0.8         0.6\n"
     ]
    },
    {
     "name": "stderr",
     "output_type": "stream",
     "text": [
      "WARNING:root:Feature \"ticker\" is an array of numpy.object_ and will be casted to numpy.string_ (Note: numpy.string_ is equivalent to numpy.bytes_).\n",
      "[INFO 24-02-14 15:39:08.6585 UTC kernel.cc:1233] Loading model from path /var/tmp/tmpyf57becw/model/ with prefix 953738f52bd644bd_0\n",
      "[INFO 24-02-14 15:39:08.6711 UTC abstract_model.cc:1344] Engine \"GradientBoostedTreesQuickScorerExtended\" built\n",
      "[INFO 24-02-14 15:39:08.6711 UTC kernel.cc:1061] Use fast generic engine\n",
      "[INFO 24-02-14 15:39:08.6784 UTC kernel.cc:1233] Loading model from path /var/tmp/tmpyf57becw/model/ with prefix 953738f52bd644bd_1\n",
      "[INFO 24-02-14 15:39:08.6802 UTC kernel.cc:1061] Use fast generic engine\n",
      "[INFO 24-02-14 15:39:08.6859 UTC kernel.cc:1233] Loading model from path /var/tmp/tmpyf57becw/model/ with prefix 953738f52bd644bd_2\n",
      "[INFO 24-02-14 15:39:08.7004 UTC kernel.cc:1061] Use fast generic engine\n"
     ]
    },
    {
     "name": "stdout",
     "output_type": "stream",
     "text": [
      "     t_barrier  barrier  overall_profit  n_trades  lower_prob  upper_prob\n",
      "115          5      0.2             0.0         1         0.8         0.6\n",
      "89           4      0.3             0.0         1         0.8         0.8\n",
      "80           4      0.2             0.0         1         0.8         0.8\n",
      "79           4      0.2             0.0         1         0.8         0.6\n",
      "78           4      0.2             0.0         1         0.8         0.4\n"
     ]
    },
    {
     "name": "stderr",
     "output_type": "stream",
     "text": [
      "WARNING:root:Feature \"ticker\" is an array of numpy.object_ and will be casted to numpy.string_ (Note: numpy.string_ is equivalent to numpy.bytes_).\n",
      "[INFO 24-02-14 15:39:12.9565 UTC kernel.cc:1233] Loading model from path /var/tmp/tmp3lt34tkq/model/ with prefix 72b5b72eb7cb42c8_0\n",
      "[INFO 24-02-14 15:39:12.9688 UTC quick_scorer_extended.cc:903] The binary was compiled without AVX2 support, but your CPU supports it. Enable it for faster model inference.\n",
      "[INFO 24-02-14 15:39:12.9696 UTC kernel.cc:1061] Use fast generic engine\n",
      "[INFO 24-02-14 15:39:12.9770 UTC kernel.cc:1233] Loading model from path /var/tmp/tmp3lt34tkq/model/ with prefix 72b5b72eb7cb42c8_1\n",
      "[INFO 24-02-14 15:39:12.9788 UTC kernel.cc:1061] Use fast generic engine\n",
      "[INFO 24-02-14 15:39:12.9848 UTC kernel.cc:1233] Loading model from path /var/tmp/tmp3lt34tkq/model/ with prefix 72b5b72eb7cb42c8_2\n",
      "[INFO 24-02-14 15:39:12.9992 UTC kernel.cc:1061] Use fast generic engine\n"
     ]
    },
    {
     "name": "stdout",
     "output_type": "stream",
     "text": [
      "     t_barrier  barrier  overall_profit  n_trades  lower_prob  upper_prob\n",
      "114          5      0.2             0.0         1         0.8         0.4\n",
      "80           4      0.2             0.0         1         0.8         0.8\n",
      "35           2      0.5             0.0         1         0.8         0.8\n",
      "125          5      0.3             0.0         1         0.8         0.8\n",
      "124          5      0.3             0.0         1         0.8         0.6\n"
     ]
    },
    {
     "name": "stderr",
     "output_type": "stream",
     "text": [
      "WARNING:root:Feature \"ticker\" is an array of numpy.object_ and will be casted to numpy.string_ (Note: numpy.string_ is equivalent to numpy.bytes_).\n",
      "[INFO 24-02-14 15:39:17.4114 UTC kernel.cc:1233] Loading model from path /var/tmp/tmpgio2u769/model/ with prefix 10250fac32814b5e_0\n",
      "[INFO 24-02-14 15:39:17.4302 UTC kernel.cc:1061] Use fast generic engine\n",
      "[INFO 24-02-14 15:39:17.4392 UTC kernel.cc:1233] Loading model from path /var/tmp/tmpgio2u769/model/ with prefix 10250fac32814b5e_1\n",
      "[INFO 24-02-14 15:39:17.4417 UTC kernel.cc:1061] Use fast generic engine\n",
      "[INFO 24-02-14 15:39:17.4480 UTC kernel.cc:1233] Loading model from path /var/tmp/tmpgio2u769/model/ with prefix 10250fac32814b5e_2\n",
      "[INFO 24-02-14 15:39:17.4629 UTC kernel.cc:1061] Use fast generic engine\n"
     ]
    },
    {
     "name": "stdout",
     "output_type": "stream",
     "text": [
      "     t_barrier  barrier  overall_profit  n_trades  lower_prob  upper_prob\n",
      "115          5      0.2             0.0         1         0.8         0.6\n",
      "76           4      0.2             0.0         1         0.6         0.6\n",
      "77           4      0.2             0.0         1         0.6         0.8\n",
      "78           4      0.2             0.0         1         0.8         0.4\n",
      "79           4      0.2             0.0         1         0.8         0.6\n"
     ]
    },
    {
     "name": "stderr",
     "output_type": "stream",
     "text": [
      "WARNING:root:Feature \"ticker\" is an array of numpy.object_ and will be casted to numpy.string_ (Note: numpy.string_ is equivalent to numpy.bytes_).\n",
      "[INFO 24-02-14 15:39:21.3613 UTC kernel.cc:1233] Loading model from path /var/tmp/tmpfa0wrv29/model/ with prefix 30c44dca90d54928_0\n",
      "[INFO 24-02-14 15:39:21.3718 UTC abstract_model.cc:1344] Engine \"GradientBoostedTreesQuickScorerExtended\" built\n",
      "[INFO 24-02-14 15:39:21.3720 UTC kernel.cc:1061] Use fast generic engine\n",
      "[INFO 24-02-14 15:39:21.3791 UTC kernel.cc:1233] Loading model from path /var/tmp/tmpfa0wrv29/model/ with prefix 30c44dca90d54928_1\n",
      "[INFO 24-02-14 15:39:21.3818 UTC kernel.cc:1061] Use fast generic engine\n",
      "[INFO 24-02-14 15:39:21.3875 UTC kernel.cc:1233] Loading model from path /var/tmp/tmpfa0wrv29/model/ with prefix 30c44dca90d54928_2\n",
      "[INFO 24-02-14 15:39:21.3951 UTC kernel.cc:1061] Use fast generic engine\n"
     ]
    },
    {
     "name": "stdout",
     "output_type": "stream",
     "text": [
      "     t_barrier  barrier  overall_profit  n_trades  lower_prob  upper_prob\n",
      "116          5      0.2             0.0         1         0.8         0.8\n",
      "76           4      0.2             0.0         1         0.6         0.6\n",
      "123          5      0.3             0.0         1         0.8         0.4\n",
      "35           2      0.5             0.0         1         0.8         0.8\n",
      "115          5      0.2             0.0         1         0.8         0.6\n"
     ]
    },
    {
     "name": "stderr",
     "output_type": "stream",
     "text": [
      "WARNING:root:Feature \"ticker\" is an array of numpy.object_ and will be casted to numpy.string_ (Note: numpy.string_ is equivalent to numpy.bytes_).\n",
      "[INFO 24-02-14 15:39:25.3611 UTC kernel.cc:1233] Loading model from path /var/tmp/tmp3l12witb/model/ with prefix 9349f073e1c94afd_0\n",
      "[INFO 24-02-14 15:39:25.3715 UTC kernel.cc:1061] Use fast generic engine\n",
      "[INFO 24-02-14 15:39:25.3786 UTC kernel.cc:1233] Loading model from path /var/tmp/tmp3l12witb/model/ with prefix 9349f073e1c94afd_1\n",
      "[INFO 24-02-14 15:39:25.3813 UTC kernel.cc:1061] Use fast generic engine\n",
      "[INFO 24-02-14 15:39:25.3873 UTC kernel.cc:1233] Loading model from path /var/tmp/tmp3l12witb/model/ with prefix 9349f073e1c94afd_2\n",
      "[INFO 24-02-14 15:39:25.3952 UTC kernel.cc:1061] Use fast generic engine\n"
     ]
    },
    {
     "name": "stdout",
     "output_type": "stream",
     "text": [
      "     t_barrier  barrier  overall_profit  n_trades  lower_prob  upper_prob\n",
      "116          5      0.2             0.0         1         0.8         0.8\n",
      "89           4      0.3             0.0         1         0.8         0.8\n",
      "124          5      0.3             0.0         1         0.8         0.6\n",
      "123          5      0.3             0.0         1         0.8         0.4\n",
      "35           2      0.5             0.0         1         0.8         0.8\n"
     ]
    },
    {
     "name": "stderr",
     "output_type": "stream",
     "text": [
      "WARNING:root:Feature \"ticker\" is an array of numpy.object_ and will be casted to numpy.string_ (Note: numpy.string_ is equivalent to numpy.bytes_).\n",
      "[INFO 24-02-14 15:39:29.3135 UTC kernel.cc:1233] Loading model from path /var/tmp/tmpbgq60ya8/model/ with prefix 8a656dd5d9a04fb5_0\n",
      "[INFO 24-02-14 15:39:29.3239 UTC kernel.cc:1061] Use fast generic engine\n",
      "[INFO 24-02-14 15:39:29.3311 UTC kernel.cc:1233] Loading model from path /var/tmp/tmpbgq60ya8/model/ with prefix 8a656dd5d9a04fb5_1\n",
      "[INFO 24-02-14 15:39:29.3337 UTC kernel.cc:1061] Use fast generic engine\n",
      "[INFO 24-02-14 15:39:29.3395 UTC kernel.cc:1233] Loading model from path /var/tmp/tmpbgq60ya8/model/ with prefix 8a656dd5d9a04fb5_2\n",
      "[INFO 24-02-14 15:39:29.3471 UTC kernel.cc:1061] Use fast generic engine\n"
     ]
    },
    {
     "name": "stdout",
     "output_type": "stream",
     "text": [
      "     t_barrier  barrier  overall_profit  n_trades  lower_prob  upper_prob\n",
      "115          5      0.2             0.0         1         0.8         0.6\n",
      "125          5      0.3             0.0         1         0.8         0.8\n",
      "123          5      0.3             0.0         1         0.8         0.4\n",
      "89           4      0.3             0.0         1         0.8         0.8\n",
      "35           2      0.5             0.0         1         0.8         0.8\n"
     ]
    },
    {
     "name": "stderr",
     "output_type": "stream",
     "text": [
      "WARNING:root:Feature \"ticker\" is an array of numpy.object_ and will be casted to numpy.string_ (Note: numpy.string_ is equivalent to numpy.bytes_).\n",
      "[INFO 24-02-14 15:39:33.1585 UTC kernel.cc:1233] Loading model from path /var/tmp/tmpfipv_amp/model/ with prefix c17e7afd4c92400e_0\n",
      "[INFO 24-02-14 15:39:33.1690 UTC abstract_model.cc:1344] Engine \"GradientBoostedTreesQuickScorerExtended\" built\n",
      "[INFO 24-02-14 15:39:33.1692 UTC kernel.cc:1061] Use fast generic engine\n",
      "[INFO 24-02-14 15:39:33.1764 UTC kernel.cc:1233] Loading model from path /var/tmp/tmpfipv_amp/model/ with prefix c17e7afd4c92400e_1\n",
      "[INFO 24-02-14 15:39:33.1791 UTC kernel.cc:1061] Use fast generic engine\n",
      "[INFO 24-02-14 15:39:33.1851 UTC kernel.cc:1233] Loading model from path /var/tmp/tmpfipv_amp/model/ with prefix c17e7afd4c92400e_2\n",
      "[INFO 24-02-14 15:39:33.1929 UTC kernel.cc:1061] Use fast generic engine\n"
     ]
    },
    {
     "name": "stdout",
     "output_type": "stream",
     "text": [
      "     t_barrier  barrier  overall_profit  n_trades  lower_prob  upper_prob\n",
      "35           2      0.5             0.0         1         0.8         0.8\n",
      "125          5      0.3             0.0         1         0.8         0.8\n",
      "89           4      0.3             0.0         1         0.8         0.8\n",
      "80           4      0.2             0.0         1         0.8         0.8\n",
      "79           4      0.2             0.0         1         0.8         0.6\n"
     ]
    },
    {
     "name": "stderr",
     "output_type": "stream",
     "text": [
      "WARNING:root:Feature \"ticker\" is an array of numpy.object_ and will be casted to numpy.string_ (Note: numpy.string_ is equivalent to numpy.bytes_).\n",
      "[INFO 24-02-14 15:39:37.0265 UTC kernel.cc:1233] Loading model from path /var/tmp/tmp9z5a5evq/model/ with prefix c72418b380c64774_0\n",
      "[INFO 24-02-14 15:39:37.0370 UTC kernel.cc:1061] Use fast generic engine\n",
      "[INFO 24-02-14 15:39:37.0440 UTC kernel.cc:1233] Loading model from path /var/tmp/tmp9z5a5evq/model/ with prefix c72418b380c64774_1\n",
      "[INFO 24-02-14 15:39:37.0466 UTC kernel.cc:1061] Use fast generic engine\n",
      "[INFO 24-02-14 15:39:37.0522 UTC kernel.cc:1233] Loading model from path /var/tmp/tmp9z5a5evq/model/ with prefix c72418b380c64774_2\n",
      "[INFO 24-02-14 15:39:37.0598 UTC kernel.cc:1061] Use fast generic engine\n"
     ]
    },
    {
     "name": "stdout",
     "output_type": "stream",
     "text": [
      "     t_barrier  barrier  overall_profit  n_trades  lower_prob  upper_prob\n",
      "79           4      0.2             0.0         1         0.8         0.6\n",
      "78           4      0.2             0.0         1         0.8         0.4\n",
      "76           4      0.2             0.0         1         0.6         0.6\n",
      "75           4      0.2             0.0         1         0.6         0.4\n",
      "123          5      0.3             0.0         1         0.8         0.4\n"
     ]
    },
    {
     "name": "stderr",
     "output_type": "stream",
     "text": [
      "WARNING:root:Feature \"ticker\" is an array of numpy.object_ and will be casted to numpy.string_ (Note: numpy.string_ is equivalent to numpy.bytes_).\n",
      "[INFO 24-02-14 15:39:40.8609 UTC kernel.cc:1233] Loading model from path /var/tmp/tmpi2axo_ny/model/ with prefix fe617581910a4090_0\n",
      "[INFO 24-02-14 15:39:40.8715 UTC kernel.cc:1061] Use fast generic engine\n",
      "[INFO 24-02-14 15:39:40.8785 UTC kernel.cc:1233] Loading model from path /var/tmp/tmpi2axo_ny/model/ with prefix fe617581910a4090_1\n",
      "[INFO 24-02-14 15:39:40.8811 UTC kernel.cc:1061] Use fast generic engine\n",
      "[INFO 24-02-14 15:39:40.8902 UTC kernel.cc:1233] Loading model from path /var/tmp/tmpi2axo_ny/model/ with prefix fe617581910a4090_2\n",
      "[INFO 24-02-14 15:39:40.8978 UTC kernel.cc:1061] Use fast generic engine\n"
     ]
    },
    {
     "name": "stdout",
     "output_type": "stream",
     "text": [
      "     t_barrier  barrier  overall_profit  n_trades  lower_prob  upper_prob\n",
      "79           4      0.2             0.0         1         0.8         0.6\n",
      "116          5      0.2             0.0         1         0.8         0.8\n",
      "114          5      0.2             0.0         1         0.8         0.4\n",
      "125          5      0.3             0.0         1         0.8         0.8\n",
      "89           4      0.3             0.0         1         0.8         0.8\n"
     ]
    },
    {
     "name": "stderr",
     "output_type": "stream",
     "text": [
      "WARNING:root:Feature \"ticker\" is an array of numpy.object_ and will be casted to numpy.string_ (Note: numpy.string_ is equivalent to numpy.bytes_).\n",
      "[INFO 24-02-14 15:39:44.7452 UTC kernel.cc:1233] Loading model from path /var/tmp/tmpl88ahwdw/model/ with prefix fb0c88d5cb334509_0\n",
      "[INFO 24-02-14 15:39:44.7554 UTC quick_scorer_extended.cc:903] The binary was compiled without AVX2 support, but your CPU supports it. Enable it for faster model inference.\n",
      "[INFO 24-02-14 15:39:44.7561 UTC abstract_model.cc:1344] Engine \"GradientBoostedTreesQuickScorerExtended\" built\n",
      "[INFO 24-02-14 15:39:44.7563 UTC kernel.cc:1061] Use fast generic engine\n",
      "[INFO 24-02-14 15:39:44.7635 UTC kernel.cc:1233] Loading model from path /var/tmp/tmpl88ahwdw/model/ with prefix fb0c88d5cb334509_1\n",
      "[INFO 24-02-14 15:39:44.7664 UTC kernel.cc:1061] Use fast generic engine\n",
      "[INFO 24-02-14 15:39:44.7725 UTC kernel.cc:1233] Loading model from path /var/tmp/tmpl88ahwdw/model/ with prefix fb0c88d5cb334509_2\n",
      "[INFO 24-02-14 15:39:44.7803 UTC kernel.cc:1061] Use fast generic engine\n"
     ]
    },
    {
     "name": "stdout",
     "output_type": "stream",
     "text": [
      "     t_barrier  barrier  overall_profit  n_trades  lower_prob  upper_prob\n",
      "125          5      0.3             0.0         1         0.8         0.8\n",
      "79           4      0.2             0.0         1         0.8         0.6\n",
      "80           4      0.2             0.0         1         0.8         0.8\n",
      "116          5      0.2             0.0         1         0.8         0.8\n",
      "123          5      0.3             0.0         1         0.8         0.4\n"
     ]
    },
    {
     "name": "stderr",
     "output_type": "stream",
     "text": [
      "WARNING:root:Feature \"ticker\" is an array of numpy.object_ and will be casted to numpy.string_ (Note: numpy.string_ is equivalent to numpy.bytes_).\n",
      "[INFO 24-02-14 15:39:48.6458 UTC kernel.cc:1233] Loading model from path /var/tmp/tmpfb2lnxe3/model/ with prefix 7748ac165ec54317_0\n",
      "[INFO 24-02-14 15:39:48.6564 UTC kernel.cc:1061] Use fast generic engine\n",
      "[INFO 24-02-14 15:39:48.6633 UTC kernel.cc:1233] Loading model from path /var/tmp/tmpfb2lnxe3/model/ with prefix 7748ac165ec54317_1\n",
      "[INFO 24-02-14 15:39:48.6660 UTC kernel.cc:1061] Use fast generic engine\n",
      "[INFO 24-02-14 15:39:48.6718 UTC kernel.cc:1233] Loading model from path /var/tmp/tmpfb2lnxe3/model/ with prefix 7748ac165ec54317_2\n",
      "[INFO 24-02-14 15:39:48.6795 UTC kernel.cc:1061] Use fast generic engine\n"
     ]
    },
    {
     "name": "stdout",
     "output_type": "stream",
     "text": [
      "     t_barrier  barrier  overall_profit  n_trades  lower_prob  upper_prob\n",
      "114          5      0.2             0.0         1         0.8         0.4\n",
      "116          5      0.2             0.0         1         0.8         0.8\n",
      "35           2      0.5             0.0         1         0.8         0.8\n",
      "75           4      0.2             0.0         1         0.6         0.4\n",
      "76           4      0.2             0.0         1         0.6         0.6\n"
     ]
    },
    {
     "name": "stderr",
     "output_type": "stream",
     "text": [
      "WARNING:root:Feature \"ticker\" is an array of numpy.object_ and will be casted to numpy.string_ (Note: numpy.string_ is equivalent to numpy.bytes_).\n",
      "[INFO 24-02-14 15:39:52.5506 UTC kernel.cc:1233] Loading model from path /var/tmp/tmppezza_qp/model/ with prefix 5e4eaa2785c04923_0\n",
      "[INFO 24-02-14 15:39:52.5609 UTC kernel.cc:1061] Use fast generic engine\n",
      "[INFO 24-02-14 15:39:52.5681 UTC kernel.cc:1233] Loading model from path /var/tmp/tmppezza_qp/model/ with prefix 5e4eaa2785c04923_1\n",
      "[INFO 24-02-14 15:39:52.5707 UTC kernel.cc:1061] Use fast generic engine\n",
      "[INFO 24-02-14 15:39:52.5765 UTC kernel.cc:1233] Loading model from path /var/tmp/tmppezza_qp/model/ with prefix 5e4eaa2785c04923_2\n",
      "[INFO 24-02-14 15:39:52.5841 UTC kernel.cc:1061] Use fast generic engine\n"
     ]
    },
    {
     "name": "stdout",
     "output_type": "stream",
     "text": [
      "     t_barrier  barrier  overall_profit  n_trades  lower_prob  upper_prob\n",
      "114          5      0.2             0.0         1         0.8         0.4\n",
      "76           4      0.2             0.0         1         0.6         0.6\n",
      "89           4      0.3             0.0         1         0.8         0.8\n",
      "78           4      0.2             0.0         1         0.8         0.4\n",
      "35           2      0.5             0.0         1         0.8         0.8\n"
     ]
    },
    {
     "name": "stderr",
     "output_type": "stream",
     "text": [
      "WARNING:root:Feature \"ticker\" is an array of numpy.object_ and will be casted to numpy.string_ (Note: numpy.string_ is equivalent to numpy.bytes_).\n",
      "[INFO 24-02-14 15:40:00.3495 UTC kernel.cc:1233] Loading model from path /var/tmp/tmpn9tqvpg3/model/ with prefix d48d4e793cdf4fd8_0\n",
      "[INFO 24-02-14 15:40:00.3630 UTC abstract_model.cc:1344] Engine \"GradientBoostedTreesQuickScorerExtended\" built\n",
      "[INFO 24-02-14 15:40:00.3632 UTC kernel.cc:1061] Use fast generic engine\n",
      "[INFO 24-02-14 15:40:00.3729 UTC kernel.cc:1233] Loading model from path /var/tmp/tmpn9tqvpg3/model/ with prefix d48d4e793cdf4fd8_1\n",
      "[INFO 24-02-14 15:40:00.3885 UTC kernel.cc:1061] Use fast generic engine\n",
      "[INFO 24-02-14 15:40:00.3982 UTC kernel.cc:1233] Loading model from path /var/tmp/tmpn9tqvpg3/model/ with prefix d48d4e793cdf4fd8_2\n",
      "[INFO 24-02-14 15:40:00.4233 UTC kernel.cc:1061] Use fast generic engine\n"
     ]
    },
    {
     "name": "stdout",
     "output_type": "stream",
     "text": [
      "     t_barrier  barrier  overall_profit  n_trades  lower_prob  upper_prob\n",
      "115          5      0.2             0.0         1         0.8         0.6\n",
      "125          5      0.3             0.0         1         0.8         0.8\n",
      "114          5      0.2             0.0         1         0.8         0.4\n",
      "89           4      0.3             0.0         1         0.8         0.8\n",
      "35           2      0.5             0.0         1         0.8         0.8\n"
     ]
    },
    {
     "name": "stderr",
     "output_type": "stream",
     "text": [
      "WARNING:root:Feature \"ticker\" is an array of numpy.object_ and will be casted to numpy.string_ (Note: numpy.string_ is equivalent to numpy.bytes_).\n",
      "[INFO 24-02-14 15:40:05.5446 UTC kernel.cc:1233] Loading model from path /var/tmp/tmpc83sduc6/model/ with prefix 912c875762ac46a8_0\n",
      "[INFO 24-02-14 15:40:05.5563 UTC kernel.cc:1061] Use fast generic engine\n",
      "[INFO 24-02-14 15:40:05.5645 UTC kernel.cc:1233] Loading model from path /var/tmp/tmpc83sduc6/model/ with prefix 912c875762ac46a8_1\n",
      "[INFO 24-02-14 15:40:05.5779 UTC kernel.cc:1061] Use fast generic engine\n",
      "[INFO 24-02-14 15:40:05.5860 UTC kernel.cc:1233] Loading model from path /var/tmp/tmpc83sduc6/model/ with prefix 912c875762ac46a8_2\n",
      "[INFO 24-02-14 15:40:05.6076 UTC kernel.cc:1061] Use fast generic engine\n"
     ]
    },
    {
     "name": "stdout",
     "output_type": "stream",
     "text": [
      "     t_barrier  barrier  overall_profit  n_trades  lower_prob  upper_prob\n",
      "114          5      0.2             0.0         1         0.8         0.4\n",
      "77           4      0.2             0.0         1         0.6         0.8\n",
      "35           2      0.5             0.0         1         0.8         0.8\n",
      "89           4      0.3             0.0         1         0.8         0.8\n",
      "80           4      0.2             0.0         1         0.8         0.8\n"
     ]
    },
    {
     "name": "stderr",
     "output_type": "stream",
     "text": [
      "WARNING:root:Feature \"ticker\" is an array of numpy.object_ and will be casted to numpy.string_ (Note: numpy.string_ is equivalent to numpy.bytes_).\n",
      "[INFO 24-02-14 15:40:10.4588 UTC kernel.cc:1233] Loading model from path /var/tmp/tmp_7e2v7nk/model/ with prefix 20cceb5ee809472c_0\n",
      "[INFO 24-02-14 15:40:10.4697 UTC abstract_model.cc:1344] Engine \"GradientBoostedTreesQuickScorerExtended\" built\n",
      "[INFO 24-02-14 15:40:10.4699 UTC kernel.cc:1061] Use fast generic engine\n",
      "[INFO 24-02-14 15:40:10.4775 UTC kernel.cc:1233] Loading model from path /var/tmp/tmp_7e2v7nk/model/ with prefix 20cceb5ee809472c_1\n",
      "[INFO 24-02-14 15:40:10.4897 UTC kernel.cc:1061] Use fast generic engine\n",
      "[INFO 24-02-14 15:40:10.4972 UTC kernel.cc:1233] Loading model from path /var/tmp/tmp_7e2v7nk/model/ with prefix 20cceb5ee809472c_2\n",
      "[INFO 24-02-14 15:40:10.5171 UTC kernel.cc:1061] Use fast generic engine\n"
     ]
    },
    {
     "name": "stdout",
     "output_type": "stream",
     "text": [
      "     t_barrier  barrier  overall_profit  n_trades  lower_prob  upper_prob\n",
      "124          5      0.3             0.0         1         0.8         0.6\n",
      "123          5      0.3             0.0         1         0.8         0.4\n",
      "116          5      0.2             0.0         1         0.8         0.8\n",
      "75           4      0.2             0.0         1         0.6         0.4\n",
      "76           4      0.2             0.0         1         0.6         0.6\n"
     ]
    },
    {
     "name": "stderr",
     "output_type": "stream",
     "text": [
      "WARNING:root:Feature \"ticker\" is an array of numpy.object_ and will be casted to numpy.string_ (Note: numpy.string_ is equivalent to numpy.bytes_).\n",
      "[INFO 24-02-14 15:40:15.3575 UTC kernel.cc:1233] Loading model from path /var/tmp/tmptzz8o3v9/model/ with prefix ebe27630d7a84550_0\n",
      "[INFO 24-02-14 15:40:15.3679 UTC quick_scorer_extended.cc:903] The binary was compiled without AVX2 support, but your CPU supports it. Enable it for faster model inference.\n",
      "[INFO 24-02-14 15:40:15.3687 UTC kernel.cc:1061] Use fast generic engine\n",
      "[INFO 24-02-14 15:40:15.3762 UTC kernel.cc:1233] Loading model from path /var/tmp/tmptzz8o3v9/model/ with prefix ebe27630d7a84550_1\n",
      "[INFO 24-02-14 15:40:15.3885 UTC kernel.cc:1061] Use fast generic engine\n",
      "[INFO 24-02-14 15:40:15.3958 UTC kernel.cc:1233] Loading model from path /var/tmp/tmptzz8o3v9/model/ with prefix ebe27630d7a84550_2\n",
      "[INFO 24-02-14 15:40:15.4155 UTC kernel.cc:1061] Use fast generic engine\n"
     ]
    },
    {
     "name": "stdout",
     "output_type": "stream",
     "text": [
      "     t_barrier  barrier  overall_profit  n_trades  lower_prob  upper_prob\n",
      "35           2      0.5             0.0         1         0.8         0.8\n",
      "125          5      0.3             0.0         1         0.8         0.8\n",
      "89           4      0.3             0.0         1         0.8         0.8\n",
      "80           4      0.2             0.0         1         0.8         0.8\n",
      "79           4      0.2             0.0         1         0.8         0.6\n"
     ]
    },
    {
     "name": "stderr",
     "output_type": "stream",
     "text": [
      "WARNING:root:Feature \"ticker\" is an array of numpy.object_ and will be casted to numpy.string_ (Note: numpy.string_ is equivalent to numpy.bytes_).\n",
      "[INFO 24-02-14 15:40:20.2770 UTC kernel.cc:1233] Loading model from path /var/tmp/tmp798zwo5j/model/ with prefix ae3c3885b19248ef_0\n",
      "[INFO 24-02-14 15:40:20.2885 UTC kernel.cc:1061] Use fast generic engine\n",
      "[INFO 24-02-14 15:40:20.2967 UTC kernel.cc:1233] Loading model from path /var/tmp/tmp798zwo5j/model/ with prefix ae3c3885b19248ef_1\n",
      "[INFO 24-02-14 15:40:20.3093 UTC kernel.cc:1061] Use fast generic engine\n",
      "[INFO 24-02-14 15:40:20.3175 UTC kernel.cc:1233] Loading model from path /var/tmp/tmp798zwo5j/model/ with prefix ae3c3885b19248ef_2\n",
      "[INFO 24-02-14 15:40:20.3387 UTC kernel.cc:1061] Use fast generic engine\n"
     ]
    },
    {
     "name": "stdout",
     "output_type": "stream",
     "text": [
      "     t_barrier  barrier  overall_profit  n_trades  lower_prob  upper_prob\n",
      "35           2      0.5             0.0         1         0.8         0.8\n",
      "125          5      0.3             0.0         1         0.8         0.8\n",
      "124          5      0.3             0.0         1         0.8         0.6\n",
      "123          5      0.3             0.0         1         0.8         0.4\n",
      "80           4      0.2             0.0         1         0.8         0.8\n"
     ]
    },
    {
     "name": "stderr",
     "output_type": "stream",
     "text": [
      "WARNING:root:Feature \"ticker\" is an array of numpy.object_ and will be casted to numpy.string_ (Note: numpy.string_ is equivalent to numpy.bytes_).\n",
      "[INFO 24-02-14 15:40:25.2814 UTC kernel.cc:1233] Loading model from path /var/tmp/tmpusuvha41/model/ with prefix b2dbcb2b55cf4406_0\n",
      "[INFO 24-02-14 15:40:25.2920 UTC abstract_model.cc:1344] Engine \"GradientBoostedTreesQuickScorerExtended\" built\n",
      "[INFO 24-02-14 15:40:25.2922 UTC kernel.cc:1061] Use fast generic engine\n",
      "[INFO 24-02-14 15:40:25.3001 UTC kernel.cc:1233] Loading model from path /var/tmp/tmpusuvha41/model/ with prefix b2dbcb2b55cf4406_1\n",
      "[INFO 24-02-14 15:40:25.3119 UTC kernel.cc:1061] Use fast generic engine\n",
      "[INFO 24-02-14 15:40:25.3196 UTC kernel.cc:1233] Loading model from path /var/tmp/tmpusuvha41/model/ with prefix b2dbcb2b55cf4406_2\n",
      "[INFO 24-02-14 15:40:25.3395 UTC kernel.cc:1061] Use fast generic engine\n"
     ]
    },
    {
     "name": "stdout",
     "output_type": "stream",
     "text": [
      "     t_barrier  barrier  overall_profit  n_trades  lower_prob  upper_prob\n",
      "75           4      0.2             0.0         1         0.6         0.4\n",
      "125          5      0.3             0.0         1         0.8         0.8\n",
      "77           4      0.2             0.0         1         0.6         0.8\n",
      "76           4      0.2             0.0         1         0.6         0.6\n",
      "80           4      0.2             0.0         1         0.8         0.8\n"
     ]
    },
    {
     "name": "stderr",
     "output_type": "stream",
     "text": [
      "WARNING:root:Feature \"ticker\" is an array of numpy.object_ and will be casted to numpy.string_ (Note: numpy.string_ is equivalent to numpy.bytes_).\n",
      "[INFO 24-02-14 15:40:30.1383 UTC kernel.cc:1233] Loading model from path /var/tmp/tmp5jk6w6i3/model/ with prefix fc44250736bf4523_0\n",
      "[INFO 24-02-14 15:40:30.1489 UTC kernel.cc:1061] Use fast generic engine\n",
      "[INFO 24-02-14 15:40:30.1579 UTC kernel.cc:1233] Loading model from path /var/tmp/tmp5jk6w6i3/model/ with prefix fc44250736bf4523_1\n",
      "[INFO 24-02-14 15:40:30.1697 UTC kernel.cc:1061] Use fast generic engine\n",
      "[INFO 24-02-14 15:40:30.1767 UTC kernel.cc:1233] Loading model from path /var/tmp/tmp5jk6w6i3/model/ with prefix fc44250736bf4523_2\n",
      "[INFO 24-02-14 15:40:30.1953 UTC kernel.cc:1061] Use fast generic engine\n"
     ]
    },
    {
     "name": "stdout",
     "output_type": "stream",
     "text": [
      "     t_barrier  barrier  overall_profit  n_trades  lower_prob  upper_prob\n",
      "75           4      0.2             0.0         1         0.6         0.4\n",
      "35           2      0.5             0.0         1         0.8         0.8\n",
      "125          5      0.3             0.0         1         0.8         0.8\n",
      "124          5      0.3             0.0         1         0.8         0.6\n",
      "123          5      0.3             0.0         1         0.8         0.4\n"
     ]
    },
    {
     "name": "stderr",
     "output_type": "stream",
     "text": [
      "WARNING:root:Feature \"ticker\" is an array of numpy.object_ and will be casted to numpy.string_ (Note: numpy.string_ is equivalent to numpy.bytes_).\n",
      "[INFO 24-02-14 15:40:35.0397 UTC kernel.cc:1233] Loading model from path /var/tmp/tmpi4emdl90/model/ with prefix ed80f2006d684953_0\n",
      "[INFO 24-02-14 15:40:35.0504 UTC kernel.cc:1061] Use fast generic engine\n",
      "[INFO 24-02-14 15:40:35.0579 UTC kernel.cc:1233] Loading model from path /var/tmp/tmpi4emdl90/model/ with prefix ed80f2006d684953_1\n",
      "[INFO 24-02-14 15:40:35.0695 UTC kernel.cc:1061] Use fast generic engine\n",
      "[INFO 24-02-14 15:40:35.0767 UTC kernel.cc:1233] Loading model from path /var/tmp/tmpi4emdl90/model/ with prefix ed80f2006d684953_2\n",
      "[INFO 24-02-14 15:40:35.0955 UTC kernel.cc:1061] Use fast generic engine\n"
     ]
    },
    {
     "name": "stdout",
     "output_type": "stream",
     "text": [
      "     t_barrier  barrier  overall_profit  n_trades  lower_prob  upper_prob\n",
      "76           4      0.2             0.0         1         0.6         0.6\n",
      "35           2      0.5             0.0         1         0.8         0.8\n",
      "150          6      0.2             0.0         1         0.8         0.4\n",
      "125          5      0.3             0.0         1         0.8         0.8\n",
      "124          5      0.3             0.0         1         0.8         0.6\n"
     ]
    },
    {
     "name": "stderr",
     "output_type": "stream",
     "text": [
      "WARNING:root:Feature \"ticker\" is an array of numpy.object_ and will be casted to numpy.string_ (Note: numpy.string_ is equivalent to numpy.bytes_).\n",
      "[INFO 24-02-14 15:40:39.9888 UTC kernel.cc:1233] Loading model from path /var/tmp/tmpu3_n9apv/model/ with prefix d9018a42f307401b_0\n",
      "[INFO 24-02-14 15:40:39.9991 UTC abstract_model.cc:1344] Engine \"GradientBoostedTreesQuickScorerExtended\" built\n",
      "[INFO 24-02-14 15:40:39.9991 UTC kernel.cc:1061] Use fast generic engine\n",
      "[INFO 24-02-14 15:40:40.0061 UTC kernel.cc:1233] Loading model from path /var/tmp/tmpu3_n9apv/model/ with prefix d9018a42f307401b_1\n",
      "[INFO 24-02-14 15:40:40.0177 UTC kernel.cc:1061] Use fast generic engine\n",
      "[INFO 24-02-14 15:40:40.0245 UTC kernel.cc:1233] Loading model from path /var/tmp/tmpu3_n9apv/model/ with prefix d9018a42f307401b_2\n",
      "[INFO 24-02-14 15:40:40.0436 UTC kernel.cc:1061] Use fast generic engine\n"
     ]
    },
    {
     "name": "stdout",
     "output_type": "stream",
     "text": [
      "     t_barrier  barrier  overall_profit  n_trades  lower_prob  upper_prob\n",
      "76           4      0.2             0.0         1         0.6         0.6\n",
      "35           2      0.5             0.0         1         0.8         0.8\n",
      "151          6      0.2             0.0         1         0.8         0.6\n",
      "150          6      0.2             0.0         1         0.8         0.4\n",
      "125          5      0.3             0.0         1         0.8         0.8\n"
     ]
    },
    {
     "name": "stderr",
     "output_type": "stream",
     "text": [
      "WARNING:root:Feature \"ticker\" is an array of numpy.object_ and will be casted to numpy.string_ (Note: numpy.string_ is equivalent to numpy.bytes_).\n",
      "[INFO 24-02-14 15:40:44.0306 UTC kernel.cc:1233] Loading model from path /var/tmp/tmp62hlorq3/model/ with prefix 88ecce9ac9704b25_0\n",
      "[INFO 24-02-14 15:40:44.0415 UTC kernel.cc:1061] Use fast generic engine\n",
      "[INFO 24-02-14 15:40:44.0490 UTC kernel.cc:1233] Loading model from path /var/tmp/tmp62hlorq3/model/ with prefix 88ecce9ac9704b25_1\n",
      "[INFO 24-02-14 15:40:44.0500 UTC kernel.cc:1061] Use fast generic engine\n",
      "[INFO 24-02-14 15:40:44.0560 UTC kernel.cc:1233] Loading model from path /var/tmp/tmp62hlorq3/model/ with prefix 88ecce9ac9704b25_2\n",
      "[INFO 24-02-14 15:40:44.0664 UTC kernel.cc:1061] Use fast generic engine\n"
     ]
    },
    {
     "name": "stdout",
     "output_type": "stream",
     "text": [
      "     t_barrier  barrier  overall_profit  n_trades  lower_prob  upper_prob\n",
      "77           4      0.2             0.0         1         0.6         0.8\n",
      "35           2      0.5             0.0         1         0.8         0.8\n",
      "124          5      0.3             0.0         1         0.8         0.6\n",
      "123          5      0.3             0.0         1         0.8         0.4\n",
      "116          5      0.2             0.0         1         0.8         0.8\n"
     ]
    },
    {
     "name": "stderr",
     "output_type": "stream",
     "text": [
      "WARNING:root:Feature \"ticker\" is an array of numpy.object_ and will be casted to numpy.string_ (Note: numpy.string_ is equivalent to numpy.bytes_).\n",
      "[INFO 24-02-14 15:40:49.0837 UTC kernel.cc:1233] Loading model from path /var/tmp/tmpar8v9wez/model/ with prefix 9b5d83ea9d5c4289_0\n",
      "[INFO 24-02-14 15:40:49.0948 UTC quick_scorer_extended.cc:903] The binary was compiled without AVX2 support, but your CPU supports it. Enable it for faster model inference.\n",
      "[INFO 24-02-14 15:40:49.0956 UTC kernel.cc:1061] Use fast generic engine\n",
      "[INFO 24-02-14 15:40:49.1039 UTC kernel.cc:1233] Loading model from path /var/tmp/tmpar8v9wez/model/ with prefix 9b5d83ea9d5c4289_1\n",
      "[INFO 24-02-14 15:40:49.1051 UTC kernel.cc:1061] Use fast generic engine\n",
      "[INFO 24-02-14 15:40:49.1117 UTC kernel.cc:1233] Loading model from path /var/tmp/tmpar8v9wez/model/ with prefix 9b5d83ea9d5c4289_2\n",
      "[INFO 24-02-14 15:40:49.1223 UTC kernel.cc:1061] Use fast generic engine\n"
     ]
    },
    {
     "name": "stdout",
     "output_type": "stream",
     "text": [
      "     t_barrier  barrier  overall_profit  n_trades  lower_prob  upper_prob\n",
      "77           4      0.2             0.0         1         0.6         0.8\n",
      "35           2      0.5             0.0         1         0.8         0.8\n",
      "124          5      0.3             0.0         1         0.8         0.6\n",
      "123          5      0.3             0.0         1         0.8         0.4\n",
      "116          5      0.2             0.0         1         0.8         0.8\n"
     ]
    },
    {
     "name": "stderr",
     "output_type": "stream",
     "text": [
      "WARNING:root:Feature \"ticker\" is an array of numpy.object_ and will be casted to numpy.string_ (Note: numpy.string_ is equivalent to numpy.bytes_).\n",
      "[INFO 24-02-14 15:40:53.1119 UTC kernel.cc:1233] Loading model from path /var/tmp/tmppm96pjyc/model/ with prefix 9468a8a247924d5c_0\n",
      "[INFO 24-02-14 15:40:53.1223 UTC abstract_model.cc:1344] Engine \"GradientBoostedTreesQuickScorerExtended\" built\n",
      "[INFO 24-02-14 15:40:53.1224 UTC kernel.cc:1061] Use fast generic engine\n",
      "[INFO 24-02-14 15:40:53.1294 UTC kernel.cc:1233] Loading model from path /var/tmp/tmppm96pjyc/model/ with prefix 9468a8a247924d5c_1\n",
      "[INFO 24-02-14 15:40:53.1303 UTC kernel.cc:1061] Use fast generic engine\n",
      "[INFO 24-02-14 15:40:53.1359 UTC kernel.cc:1233] Loading model from path /var/tmp/tmppm96pjyc/model/ with prefix 9468a8a247924d5c_2\n",
      "[INFO 24-02-14 15:40:53.1453 UTC kernel.cc:1061] Use fast generic engine\n"
     ]
    },
    {
     "name": "stdout",
     "output_type": "stream",
     "text": [
      "     t_barrier  barrier  overall_profit  n_trades  lower_prob  upper_prob\n",
      "78           4      0.2             0.0         1         0.8         0.4\n",
      "77           4      0.2             0.0         1         0.6         0.8\n",
      "123          5      0.3             0.0         1         0.8         0.4\n",
      "116          5      0.2             0.0         1         0.8         0.8\n",
      "35           2      0.5             0.0         1         0.8         0.8\n"
     ]
    },
    {
     "name": "stderr",
     "output_type": "stream",
     "text": [
      "WARNING:root:Feature \"ticker\" is an array of numpy.object_ and will be casted to numpy.string_ (Note: numpy.string_ is equivalent to numpy.bytes_).\n",
      "[INFO 24-02-14 15:40:57.2544 UTC kernel.cc:1233] Loading model from path /var/tmp/tmph65hfq9k/model/ with prefix 46413df339b349c2_0\n",
      "[INFO 24-02-14 15:40:57.2655 UTC kernel.cc:1061] Use fast generic engine\n",
      "[INFO 24-02-14 15:40:57.2750 UTC kernel.cc:1233] Loading model from path /var/tmp/tmph65hfq9k/model/ with prefix 46413df339b349c2_1\n",
      "[INFO 24-02-14 15:40:57.2760 UTC kernel.cc:1061] Use fast generic engine\n",
      "[INFO 24-02-14 15:40:57.2821 UTC kernel.cc:1233] Loading model from path /var/tmp/tmph65hfq9k/model/ with prefix 46413df339b349c2_2\n",
      "[INFO 24-02-14 15:40:57.2922 UTC kernel.cc:1061] Use fast generic engine\n"
     ]
    },
    {
     "name": "stdout",
     "output_type": "stream",
     "text": [
      "     t_barrier  barrier  overall_profit  n_trades  lower_prob  upper_prob\n",
      "78           4      0.2             0.0         1         0.8         0.4\n",
      "151          6      0.2             0.0         1         0.8         0.6\n",
      "125          5      0.3             0.0         1         0.8         0.8\n",
      "124          5      0.3             0.0         1         0.8         0.6\n",
      "123          5      0.3             0.0         1         0.8         0.4\n"
     ]
    },
    {
     "name": "stderr",
     "output_type": "stream",
     "text": [
      "WARNING:root:Feature \"ticker\" is an array of numpy.object_ and will be casted to numpy.string_ (Note: numpy.string_ is equivalent to numpy.bytes_).\n",
      "[INFO 24-02-14 15:41:01.3611 UTC kernel.cc:1233] Loading model from path /var/tmp/tmpk5qdi9bq/model/ with prefix 55d7674df8ff4e4c_0\n",
      "[INFO 24-02-14 15:41:01.3712 UTC kernel.cc:1061] Use fast generic engine\n",
      "[INFO 24-02-14 15:41:01.3783 UTC kernel.cc:1233] Loading model from path /var/tmp/tmpk5qdi9bq/model/ with prefix 55d7674df8ff4e4c_1\n",
      "[INFO 24-02-14 15:41:01.3792 UTC kernel.cc:1061] Use fast generic engine\n",
      "[INFO 24-02-14 15:41:01.3847 UTC kernel.cc:1233] Loading model from path /var/tmp/tmpk5qdi9bq/model/ with prefix 55d7674df8ff4e4c_2\n",
      "[INFO 24-02-14 15:41:01.3940 UTC kernel.cc:1061] Use fast generic engine\n"
     ]
    },
    {
     "name": "stdout",
     "output_type": "stream",
     "text": [
      "     t_barrier  barrier  overall_profit  n_trades  lower_prob  upper_prob\n",
      "79           4      0.2             0.0         1         0.8         0.6\n",
      "151          6      0.2             0.0         1         0.8         0.6\n",
      "125          5      0.3             0.0         1         0.8         0.8\n",
      "124          5      0.3             0.0         1         0.8         0.6\n",
      "123          5      0.3             0.0         1         0.8         0.4\n"
     ]
    },
    {
     "name": "stderr",
     "output_type": "stream",
     "text": [
      "WARNING:root:Feature \"ticker\" is an array of numpy.object_ and will be casted to numpy.string_ (Note: numpy.string_ is equivalent to numpy.bytes_).\n",
      "[INFO 24-02-14 15:41:05.5424 UTC kernel.cc:1233] Loading model from path /var/tmp/tmp1usarfco/model/ with prefix d7d414e9fef54223_0\n",
      "[INFO 24-02-14 15:41:05.5538 UTC abstract_model.cc:1344] Engine \"GradientBoostedTreesQuickScorerExtended\" built\n",
      "[INFO 24-02-14 15:41:05.5540 UTC kernel.cc:1061] Use fast generic engine\n",
      "[INFO 24-02-14 15:41:05.5616 UTC kernel.cc:1233] Loading model from path /var/tmp/tmp1usarfco/model/ with prefix d7d414e9fef54223_1\n",
      "[INFO 24-02-14 15:41:05.5625 UTC kernel.cc:1061] Use fast generic engine\n",
      "[INFO 24-02-14 15:41:05.5684 UTC kernel.cc:1233] Loading model from path /var/tmp/tmp1usarfco/model/ with prefix d7d414e9fef54223_2\n",
      "[INFO 24-02-14 15:41:05.5780 UTC kernel.cc:1061] Use fast generic engine\n"
     ]
    },
    {
     "name": "stdout",
     "output_type": "stream",
     "text": [
      "    t_barrier  barrier  overall_profit  n_trades  lower_prob  upper_prob\n",
      "79          4      0.2             0.0         1         0.8         0.6\n",
      "35          2      0.5             0.0         1         0.8         0.8\n",
      "76          4      0.2             0.0         1         0.6         0.6\n",
      "75          4      0.2             0.0         1         0.6         0.4\n",
      "80          4      0.2             0.0         1         0.8         0.8\n"
     ]
    },
    {
     "name": "stderr",
     "output_type": "stream",
     "text": [
      "WARNING:root:Feature \"ticker\" is an array of numpy.object_ and will be casted to numpy.string_ (Note: numpy.string_ is equivalent to numpy.bytes_).\n",
      "[INFO 24-02-14 15:41:09.5777 UTC kernel.cc:1233] Loading model from path /var/tmp/tmpos_nveqd/model/ with prefix a0d6417433764d77_0\n",
      "[INFO 24-02-14 15:41:09.5889 UTC kernel.cc:1061] Use fast generic engine\n",
      "[INFO 24-02-14 15:41:09.5970 UTC kernel.cc:1233] Loading model from path /var/tmp/tmpos_nveqd/model/ with prefix a0d6417433764d77_1\n",
      "[INFO 24-02-14 15:41:09.5981 UTC kernel.cc:1061] Use fast generic engine\n",
      "[INFO 24-02-14 15:41:09.6044 UTC kernel.cc:1233] Loading model from path /var/tmp/tmpos_nveqd/model/ with prefix a0d6417433764d77_2\n",
      "[INFO 24-02-14 15:41:09.6148 UTC kernel.cc:1061] Use fast generic engine\n"
     ]
    },
    {
     "name": "stdout",
     "output_type": "stream",
     "text": [
      "     t_barrier  barrier  overall_profit  n_trades  lower_prob  upper_prob\n",
      "80           4      0.2             0.0         1         0.8         0.8\n",
      "115          5      0.2             0.0         1         0.8         0.6\n",
      "76           4      0.2             0.0         1         0.6         0.6\n",
      "77           4      0.2             0.0         1         0.6         0.8\n",
      "78           4      0.2             0.0         1         0.8         0.4\n"
     ]
    },
    {
     "name": "stderr",
     "output_type": "stream",
     "text": [
      "WARNING:root:Feature \"ticker\" is an array of numpy.object_ and will be casted to numpy.string_ (Note: numpy.string_ is equivalent to numpy.bytes_).\n",
      "[INFO 24-02-14 15:41:13.6595 UTC kernel.cc:1233] Loading model from path /var/tmp/tmpgtadj0q1/model/ with prefix 61817cb55cb34939_0\n",
      "[INFO 24-02-14 15:41:13.6699 UTC kernel.cc:1061] Use fast generic engine\n",
      "[INFO 24-02-14 15:41:13.6771 UTC kernel.cc:1233] Loading model from path /var/tmp/tmpgtadj0q1/model/ with prefix 61817cb55cb34939_1\n",
      "[INFO 24-02-14 15:41:13.6780 UTC kernel.cc:1061] Use fast generic engine\n",
      "[INFO 24-02-14 15:41:13.6837 UTC kernel.cc:1233] Loading model from path /var/tmp/tmpgtadj0q1/model/ with prefix 61817cb55cb34939_2\n",
      "[INFO 24-02-14 15:41:13.6931 UTC kernel.cc:1061] Use fast generic engine\n"
     ]
    },
    {
     "name": "stdout",
     "output_type": "stream",
     "text": [
      "    t_barrier  barrier  overall_profit  n_trades  lower_prob  upper_prob\n",
      "80          4      0.2             0.0         1         0.8         0.8\n",
      "35          2      0.5             0.0         1         0.8         0.8\n",
      "76          4      0.2             0.0         1         0.6         0.6\n",
      "77          4      0.2             0.0         1         0.6         0.8\n",
      "78          4      0.2             0.0         1         0.8         0.4\n"
     ]
    },
    {
     "name": "stderr",
     "output_type": "stream",
     "text": [
      "WARNING:root:Feature \"ticker\" is an array of numpy.object_ and will be casted to numpy.string_ (Note: numpy.string_ is equivalent to numpy.bytes_).\n",
      "[INFO 24-02-14 15:41:17.6950 UTC kernel.cc:1233] Loading model from path /var/tmp/tmp3rt8c8hk/model/ with prefix af32005263164d64_0\n",
      "[INFO 24-02-14 15:41:17.7056 UTC abstract_model.cc:1344] Engine \"GradientBoostedTreesQuickScorerExtended\" built\n",
      "[INFO 24-02-14 15:41:17.7058 UTC kernel.cc:1061] Use fast generic engine\n",
      "[INFO 24-02-14 15:41:17.7134 UTC kernel.cc:1233] Loading model from path /var/tmp/tmp3rt8c8hk/model/ with prefix af32005263164d64_1\n",
      "[INFO 24-02-14 15:41:17.7144 UTC kernel.cc:1061] Use fast generic engine\n",
      "[INFO 24-02-14 15:41:17.7204 UTC kernel.cc:1233] Loading model from path /var/tmp/tmp3rt8c8hk/model/ with prefix af32005263164d64_2\n",
      "[INFO 24-02-14 15:41:17.7301 UTC kernel.cc:1061] Use fast generic engine\n"
     ]
    },
    {
     "name": "stdout",
     "output_type": "stream",
     "text": [
      "     t_barrier  barrier  overall_profit  n_trades  lower_prob  upper_prob\n",
      "161          6      0.3             0.0         1         0.8         0.8\n",
      "35           2      0.5             0.0         1         0.8         0.8\n",
      "80           4      0.2             0.0         1         0.8         0.8\n",
      "79           4      0.2             0.0         1         0.8         0.6\n",
      "78           4      0.2             0.0         1         0.8         0.4\n"
     ]
    },
    {
     "name": "stderr",
     "output_type": "stream",
     "text": [
      "WARNING:root:Feature \"ticker\" is an array of numpy.object_ and will be casted to numpy.string_ (Note: numpy.string_ is equivalent to numpy.bytes_).\n",
      "[INFO 24-02-14 15:41:21.8196 UTC kernel.cc:1233] Loading model from path /var/tmp/tmpfmnxut5p/model/ with prefix a8826e603f7546f2_0\n",
      "[INFO 24-02-14 15:41:21.8269 UTC quick_scorer_extended.cc:903] The binary was compiled without AVX2 support, but your CPU supports it. Enable it for faster model inference.\n",
      "[INFO 24-02-14 15:41:21.8275 UTC kernel.cc:1061] Use fast generic engine\n",
      "[INFO 24-02-14 15:41:21.8347 UTC kernel.cc:1233] Loading model from path /var/tmp/tmpfmnxut5p/model/ with prefix a8826e603f7546f2_1\n",
      "[INFO 24-02-14 15:41:21.8364 UTC kernel.cc:1061] Use fast generic engine\n",
      "[INFO 24-02-14 15:41:21.8428 UTC kernel.cc:1233] Loading model from path /var/tmp/tmpfmnxut5p/model/ with prefix a8826e603f7546f2_2\n",
      "[INFO 24-02-14 15:41:21.8540 UTC kernel.cc:1061] Use fast generic engine\n"
     ]
    },
    {
     "name": "stdout",
     "output_type": "stream",
     "text": [
      "     t_barrier  barrier  overall_profit  n_trades  lower_prob  upper_prob\n",
      "151          6      0.2             0.0         1         0.8         0.6\n",
      "160          6      0.3             0.0         1         0.8         0.6\n",
      "116          5      0.2             0.0         1         0.8         0.8\n",
      "115          5      0.2             0.0         1         0.8         0.6\n",
      "123          5      0.3             0.0         1         0.8         0.4\n"
     ]
    },
    {
     "name": "stderr",
     "output_type": "stream",
     "text": [
      "WARNING:root:Feature \"ticker\" is an array of numpy.object_ and will be casted to numpy.string_ (Note: numpy.string_ is equivalent to numpy.bytes_).\n",
      "[INFO 24-02-14 15:41:26.0419 UTC kernel.cc:1233] Loading model from path /var/tmp/tmp8xkxxd6j/model/ with prefix b25b8b47f503483c_0\n",
      "[INFO 24-02-14 15:41:26.0497 UTC kernel.cc:1061] Use fast generic engine\n",
      "[INFO 24-02-14 15:41:26.0569 UTC kernel.cc:1233] Loading model from path /var/tmp/tmp8xkxxd6j/model/ with prefix b25b8b47f503483c_1\n",
      "[INFO 24-02-14 15:41:26.0585 UTC kernel.cc:1061] Use fast generic engine\n",
      "[INFO 24-02-14 15:41:26.0650 UTC kernel.cc:1233] Loading model from path /var/tmp/tmp8xkxxd6j/model/ with prefix b25b8b47f503483c_2\n",
      "[INFO 24-02-14 15:41:26.0766 UTC kernel.cc:1061] Use fast generic engine\n"
     ]
    },
    {
     "name": "stdout",
     "output_type": "stream",
     "text": [
      "     t_barrier  barrier  overall_profit  n_trades  lower_prob  upper_prob\n",
      "115          5      0.2             0.0         1         0.8         0.6\n",
      "124          5      0.3             0.0         1         0.8         0.6\n",
      "77           4      0.2             0.0         1         0.6         0.8\n",
      "76           4      0.2             0.0         1         0.6         0.6\n",
      "75           4      0.2             0.0         1         0.6         0.4\n"
     ]
    },
    {
     "name": "stderr",
     "output_type": "stream",
     "text": [
      "WARNING:root:Feature \"ticker\" is an array of numpy.object_ and will be casted to numpy.string_ (Note: numpy.string_ is equivalent to numpy.bytes_).\n",
      "[INFO 24-02-14 15:41:30.1280 UTC kernel.cc:1233] Loading model from path /var/tmp/tmpxfxronlo/model/ with prefix e11e6928c8d146fb_0\n",
      "[INFO 24-02-14 15:41:30.1353 UTC abstract_model.cc:1344] Engine \"GradientBoostedTreesQuickScorerExtended\" built\n",
      "[INFO 24-02-14 15:41:30.1355 UTC kernel.cc:1061] Use fast generic engine\n",
      "[INFO 24-02-14 15:41:30.1421 UTC kernel.cc:1233] Loading model from path /var/tmp/tmpxfxronlo/model/ with prefix e11e6928c8d146fb_1\n",
      "[INFO 24-02-14 15:41:30.1438 UTC kernel.cc:1061] Use fast generic engine\n",
      "[INFO 24-02-14 15:41:30.1493 UTC kernel.cc:1233] Loading model from path /var/tmp/tmpxfxronlo/model/ with prefix e11e6928c8d146fb_2\n",
      "[INFO 24-02-14 15:41:30.1604 UTC kernel.cc:1061] Use fast generic engine\n"
     ]
    },
    {
     "name": "stdout",
     "output_type": "stream",
     "text": [
      "     t_barrier  barrier  overall_profit  n_trades  lower_prob  upper_prob\n",
      "76           4      0.2             0.0         1         0.6         0.6\n",
      "152          6      0.2             0.0         1         0.8         0.8\n",
      "151          6      0.2             0.0         1         0.8         0.6\n",
      "77           4      0.2             0.0         1         0.6         0.8\n",
      "150          6      0.2             0.0         1         0.8         0.4\n"
     ]
    },
    {
     "name": "stderr",
     "output_type": "stream",
     "text": [
      "WARNING:root:Feature \"ticker\" is an array of numpy.object_ and will be casted to numpy.string_ (Note: numpy.string_ is equivalent to numpy.bytes_).\n",
      "[INFO 24-02-14 15:41:34.2835 UTC kernel.cc:1233] Loading model from path /var/tmp/tmpn7x0obvn/model/ with prefix e2a5b5b5c7c14221_0\n",
      "[INFO 24-02-14 15:41:34.2908 UTC kernel.cc:1061] Use fast generic engine\n",
      "[INFO 24-02-14 15:41:34.2976 UTC kernel.cc:1233] Loading model from path /var/tmp/tmpn7x0obvn/model/ with prefix e2a5b5b5c7c14221_1\n",
      "[INFO 24-02-14 15:41:34.2992 UTC kernel.cc:1061] Use fast generic engine\n",
      "[INFO 24-02-14 15:41:34.3059 UTC kernel.cc:1233] Loading model from path /var/tmp/tmpn7x0obvn/model/ with prefix e2a5b5b5c7c14221_2\n",
      "[INFO 24-02-14 15:41:34.3177 UTC kernel.cc:1061] Use fast generic engine\n"
     ]
    },
    {
     "name": "stdout",
     "output_type": "stream",
     "text": [
      "     t_barrier  barrier  overall_profit  n_trades  lower_prob  upper_prob\n",
      "114          5      0.2             0.0         1         0.8         0.4\n",
      "161          6      0.3             0.0         1         0.8         0.8\n",
      "160          6      0.3             0.0         1         0.8         0.6\n",
      "159          6      0.3             0.0         1         0.8         0.4\n",
      "35           2      0.5             0.0         1         0.8         0.8\n"
     ]
    },
    {
     "name": "stderr",
     "output_type": "stream",
     "text": [
      "WARNING:root:Feature \"ticker\" is an array of numpy.object_ and will be casted to numpy.string_ (Note: numpy.string_ is equivalent to numpy.bytes_).\n",
      "[INFO 24-02-14 15:41:38.3833 UTC kernel.cc:1233] Loading model from path /var/tmp/tmpn_8a3mxl/model/ with prefix 46246ec4471b43e9_0\n",
      "[INFO 24-02-14 15:41:38.3907 UTC kernel.cc:1061] Use fast generic engine\n",
      "[INFO 24-02-14 15:41:38.3978 UTC kernel.cc:1233] Loading model from path /var/tmp/tmpn_8a3mxl/model/ with prefix 46246ec4471b43e9_1\n",
      "[INFO 24-02-14 15:41:38.3995 UTC kernel.cc:1061] Use fast generic engine\n",
      "[INFO 24-02-14 15:41:38.4051 UTC kernel.cc:1233] Loading model from path /var/tmp/tmpn_8a3mxl/model/ with prefix 46246ec4471b43e9_2\n",
      "[INFO 24-02-14 15:41:38.4162 UTC kernel.cc:1061] Use fast generic engine\n"
     ]
    },
    {
     "name": "stdout",
     "output_type": "stream",
     "text": [
      "     t_barrier  barrier  overall_profit  n_trades  lower_prob  upper_prob\n",
      "125          5      0.3             0.0         1         0.8         0.8\n",
      "79           4      0.2             0.0         1         0.8         0.6\n",
      "35           2      0.5             0.0         1         0.8         0.8\n",
      "150          6      0.2             0.0         1         0.8         0.4\n",
      "124          5      0.3             0.0         1         0.8         0.6\n"
     ]
    },
    {
     "name": "stderr",
     "output_type": "stream",
     "text": [
      "WARNING:root:Feature \"ticker\" is an array of numpy.object_ and will be casted to numpy.string_ (Note: numpy.string_ is equivalent to numpy.bytes_).\n",
      "[INFO 24-02-14 15:41:42.4949 UTC kernel.cc:1233] Loading model from path /var/tmp/tmpddjj_jrx/model/ with prefix c24628459c334213_0\n",
      "[INFO 24-02-14 15:41:42.5028 UTC abstract_model.cc:1344] Engine \"GradientBoostedTreesQuickScorerExtended\" built\n",
      "[INFO 24-02-14 15:41:42.5030 UTC kernel.cc:1061] Use fast generic engine\n",
      "[INFO 24-02-14 15:41:42.5103 UTC kernel.cc:1233] Loading model from path /var/tmp/tmpddjj_jrx/model/ with prefix c24628459c334213_1\n",
      "[INFO 24-02-14 15:41:42.5120 UTC kernel.cc:1061] Use fast generic engine\n",
      "[INFO 24-02-14 15:41:42.5181 UTC kernel.cc:1233] Loading model from path /var/tmp/tmpddjj_jrx/model/ with prefix c24628459c334213_2\n",
      "[INFO 24-02-14 15:41:42.5294 UTC kernel.cc:1061] Use fast generic engine\n"
     ]
    },
    {
     "name": "stdout",
     "output_type": "stream",
     "text": [
      "     t_barrier  barrier  overall_profit  n_trades  lower_prob  upper_prob\n",
      "116          5      0.2             0.0         1         0.8         0.8\n",
      "161          6      0.3             0.0         1         0.8         0.8\n",
      "152          6      0.2             0.0         1         0.8         0.8\n",
      "150          6      0.2             0.0         1         0.8         0.4\n",
      "114          5      0.2             0.0         1         0.8         0.4\n"
     ]
    },
    {
     "name": "stderr",
     "output_type": "stream",
     "text": [
      "WARNING:root:Feature \"ticker\" is an array of numpy.object_ and will be casted to numpy.string_ (Note: numpy.string_ is equivalent to numpy.bytes_).\n"
     ]
    }
   ],
   "source": [
    "# Hyperparameters\n",
    "\n",
    "start='2020-01-01'\n",
    "end='2022-12-31'\n",
    "split_date=datetime(2022, 1, 1)\n",
    "interval_yf='1d'\n",
    "symbols='BTC-USD'\n",
    "model_summary=False\n",
    "verbose=0\n",
    "BARRIER = [0.2, 0.3, 0.4, 0.5]\n",
    "UPPER_PROB = [0.4, 0.6, 0.8]\n",
    "LOWER_PROB = [0.4, 0.6, 0.8]\n",
    "DAYS_LOOKBACK=30\n",
    "T_BARRIER =[2, 3, 4, 5, 6, 7, 8 , 9, 10]\n",
    "\n",
    "hps_results = {\n",
    "    't_barrier': [],\n",
    "    'barrier': [],\n",
    "    'overall_profit': [],\n",
    "    'n_trades': [],\n",
    "    'lower_prob': [],\n",
    "    'upper_prob': []\n",
    "}\n",
    "\n",
    "# Get data\n",
    "df = get_data(\n",
    "    symbols=[symbols],\n",
    "    start=start,\n",
    "    end=end,\n",
    "    interval=interval_yf\n",
    ")\n",
    "\n",
    "for t_barrier in T_BARRIER:\n",
    "    for barrier in BARRIER:\n",
    "        for x in LOWER_PROB:\n",
    "            for z in UPPER_PROB:\n",
    "                df_2 = df.copy(deep=True)\n",
    "                overall_profit, n_trades = mdx(\n",
    "                    df=df_2,\n",
    "                    barrier_length=t_barrier,\n",
    "                    barrier_std=barrier,\n",
    "                    days_lookback=3,\n",
    "                    split_date=split_date,\n",
    "                    model_summary=model_summary,\n",
    "                    verbose=verbose,\n",
    "                    lower_prob=x,\n",
    "                    upper_prob=z\n",
    "                )\n",
    "                \n",
    "                hps_results['t_barrier'].append(t_barrier)\n",
    "                hps_results['barrier'].append(barrier)\n",
    "                hps_results['overall_profit'].append(overall_profit)\n",
    "                hps_results['n_trades'].append(n_trades)\n",
    "                hps_results['lower_prob'].append(x)\n",
    "                hps_results['upper_prob'].append(z)\n",
    "                hp_results = pd.DataFrame(hps_results).sort_values('overall_profit', ascending=False)\n",
    "                print(hp_results.head())"
   ]
  },
  {
   "cell_type": "code",
   "execution_count": null,
   "id": "fa11efaa-b334-4cd2-b61c-2ce8326b7d59",
   "metadata": {},
   "outputs": [],
   "source": []
  }
 ],
 "metadata": {
  "environment": {
   "kernel": "conda-root-py",
   "name": "workbench-notebooks.m115",
   "type": "gcloud",
   "uri": "gcr.io/deeplearning-platform-release/workbench-notebooks:m115"
  },
  "kernelspec": {
   "display_name": "Python 3 (ipykernel) (Local)",
   "language": "python",
   "name": "conda-root-py"
  },
  "language_info": {
   "codemirror_mode": {
    "name": "ipython",
    "version": 3
   },
   "file_extension": ".py",
   "mimetype": "text/x-python",
   "name": "python",
   "nbconvert_exporter": "python",
   "pygments_lexer": "ipython3",
   "version": "3.10.13"
  }
 },
 "nbformat": 4,
 "nbformat_minor": 5
}
